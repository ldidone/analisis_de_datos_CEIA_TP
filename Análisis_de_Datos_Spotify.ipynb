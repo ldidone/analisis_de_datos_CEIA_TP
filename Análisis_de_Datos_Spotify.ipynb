{
 "cells": [
  {
   "cell_type": "markdown",
   "metadata": {
    "id": "fLdNWIX8eb1p"
   },
   "source": [
    "# Trabajo práctico integrador.\n",
    "\n",
    "## Análisis de datos.\n",
    "\n",
    "### Datos de distintas canciones en Spotify"
   ]
  },
  {
   "cell_type": "markdown",
   "metadata": {
    "id": "tySr95szewPq"
   },
   "source": [
    "### Análisis exploratorio inicial"
   ]
  },
  {
   "cell_type": "code",
   "execution_count": 1,
   "metadata": {
    "id": "Cui9dNhV6Tm_"
   },
   "outputs": [],
   "source": [
    "# Import libraries\n",
    "import pandas as pd\n",
    "import numpy as np\n",
    "import matplotlib.pyplot as plt\n",
    "import seaborn as sns"
   ]
  },
  {
   "cell_type": "code",
   "execution_count": 2,
   "metadata": {
    "id": "CghoHqFK76V0"
   },
   "outputs": [],
   "source": [
    "# Load dataset from GitHub repository\n",
    "df = pd.read_csv('https://raw.githubusercontent.com/ldidone/analisis_de_datos_CEIA_TP/main/data/data_playlist.csv')"
   ]
  },
  {
   "cell_type": "code",
   "execution_count": 3,
   "metadata": {
    "colab": {
     "base_uri": "https://localhost:8080/",
     "height": 363
    },
    "id": "11PkLhKp7_-Y",
    "outputId": "b499dc72-210e-4988-e83c-8a6fa3100e66"
   },
   "outputs": [
    {
     "data": {
      "text/html": [
       "<div>\n",
       "<style scoped>\n",
       "    .dataframe tbody tr th:only-of-type {\n",
       "        vertical-align: middle;\n",
       "    }\n",
       "\n",
       "    .dataframe tbody tr th {\n",
       "        vertical-align: top;\n",
       "    }\n",
       "\n",
       "    .dataframe thead th {\n",
       "        text-align: right;\n",
       "    }\n",
       "</style>\n",
       "<table border=\"1\" class=\"dataframe\">\n",
       "  <thead>\n",
       "    <tr style=\"text-align: right;\">\n",
       "      <th></th>\n",
       "      <th>acousticness</th>\n",
       "      <th>danceability</th>\n",
       "      <th>duration</th>\n",
       "      <th>energy</th>\n",
       "      <th>instrumentalness</th>\n",
       "      <th>key</th>\n",
       "      <th>liveness</th>\n",
       "      <th>loudness</th>\n",
       "      <th>mode</th>\n",
       "      <th>speechiness</th>\n",
       "      <th>tempo</th>\n",
       "      <th>time_signature</th>\n",
       "      <th>valence</th>\n",
       "      <th>label</th>\n",
       "    </tr>\n",
       "  </thead>\n",
       "  <tbody>\n",
       "    <tr>\n",
       "      <th>0</th>\n",
       "      <td>0.713</td>\n",
       "      <td>0.514</td>\n",
       "      <td>100125</td>\n",
       "      <td>0.521</td>\n",
       "      <td>0.816000</td>\n",
       "      <td>8</td>\n",
       "      <td>0.1120</td>\n",
       "      <td>-14.835</td>\n",
       "      <td>0</td>\n",
       "      <td>0.0444</td>\n",
       "      <td>119.879</td>\n",
       "      <td>4</td>\n",
       "      <td>0.143</td>\n",
       "      <td>1</td>\n",
       "    </tr>\n",
       "    <tr>\n",
       "      <th>1</th>\n",
       "      <td>0.192</td>\n",
       "      <td>0.714</td>\n",
       "      <td>207019</td>\n",
       "      <td>0.614</td>\n",
       "      <td>0.000000</td>\n",
       "      <td>4</td>\n",
       "      <td>0.2630</td>\n",
       "      <td>-6.935</td>\n",
       "      <td>1</td>\n",
       "      <td>0.0319</td>\n",
       "      <td>123.969</td>\n",
       "      <td>4</td>\n",
       "      <td>0.582</td>\n",
       "      <td>1</td>\n",
       "    </tr>\n",
       "    <tr>\n",
       "      <th>2</th>\n",
       "      <td>0.333</td>\n",
       "      <td>0.630</td>\n",
       "      <td>216200</td>\n",
       "      <td>0.455</td>\n",
       "      <td>0.000004</td>\n",
       "      <td>5</td>\n",
       "      <td>0.1270</td>\n",
       "      <td>-9.290</td>\n",
       "      <td>1</td>\n",
       "      <td>0.0292</td>\n",
       "      <td>139.931</td>\n",
       "      <td>4</td>\n",
       "      <td>0.199</td>\n",
       "      <td>1</td>\n",
       "    </tr>\n",
       "    <tr>\n",
       "      <th>3</th>\n",
       "      <td>0.601</td>\n",
       "      <td>0.810</td>\n",
       "      <td>136413</td>\n",
       "      <td>0.221</td>\n",
       "      <td>0.210000</td>\n",
       "      <td>5</td>\n",
       "      <td>0.1840</td>\n",
       "      <td>-11.005</td>\n",
       "      <td>1</td>\n",
       "      <td>0.0429</td>\n",
       "      <td>109.960</td>\n",
       "      <td>4</td>\n",
       "      <td>0.798</td>\n",
       "      <td>1</td>\n",
       "    </tr>\n",
       "    <tr>\n",
       "      <th>4</th>\n",
       "      <td>0.883</td>\n",
       "      <td>0.465</td>\n",
       "      <td>181440</td>\n",
       "      <td>0.459</td>\n",
       "      <td>0.000173</td>\n",
       "      <td>6</td>\n",
       "      <td>0.0692</td>\n",
       "      <td>-8.137</td>\n",
       "      <td>0</td>\n",
       "      <td>0.0351</td>\n",
       "      <td>90.807</td>\n",
       "      <td>4</td>\n",
       "      <td>0.288</td>\n",
       "      <td>1</td>\n",
       "    </tr>\n",
       "    <tr>\n",
       "      <th>5</th>\n",
       "      <td>0.524</td>\n",
       "      <td>0.633</td>\n",
       "      <td>244360</td>\n",
       "      <td>0.401</td>\n",
       "      <td>0.000000</td>\n",
       "      <td>4</td>\n",
       "      <td>0.1230</td>\n",
       "      <td>-12.549</td>\n",
       "      <td>1</td>\n",
       "      <td>0.0439</td>\n",
       "      <td>134.978</td>\n",
       "      <td>4</td>\n",
       "      <td>0.523</td>\n",
       "      <td>1</td>\n",
       "    </tr>\n",
       "    <tr>\n",
       "      <th>6</th>\n",
       "      <td>0.597</td>\n",
       "      <td>0.507</td>\n",
       "      <td>183573</td>\n",
       "      <td>0.795</td>\n",
       "      <td>0.000000</td>\n",
       "      <td>9</td>\n",
       "      <td>0.2960</td>\n",
       "      <td>-6.966</td>\n",
       "      <td>1</td>\n",
       "      <td>0.0607</td>\n",
       "      <td>165.540</td>\n",
       "      <td>4</td>\n",
       "      <td>0.900</td>\n",
       "      <td>0</td>\n",
       "    </tr>\n",
       "    <tr>\n",
       "      <th>7</th>\n",
       "      <td>0.452</td>\n",
       "      <td>0.825</td>\n",
       "      <td>259102</td>\n",
       "      <td>0.435</td>\n",
       "      <td>0.609000</td>\n",
       "      <td>1</td>\n",
       "      <td>0.0953</td>\n",
       "      <td>-9.582</td>\n",
       "      <td>1</td>\n",
       "      <td>0.0568</td>\n",
       "      <td>119.038</td>\n",
       "      <td>4</td>\n",
       "      <td>0.243</td>\n",
       "      <td>1</td>\n",
       "    </tr>\n",
       "    <tr>\n",
       "      <th>8</th>\n",
       "      <td>0.748</td>\n",
       "      <td>0.420</td>\n",
       "      <td>366179</td>\n",
       "      <td>0.324</td>\n",
       "      <td>0.839000</td>\n",
       "      <td>9</td>\n",
       "      <td>0.0723</td>\n",
       "      <td>-14.700</td>\n",
       "      <td>0</td>\n",
       "      <td>0.0556</td>\n",
       "      <td>183.020</td>\n",
       "      <td>3</td>\n",
       "      <td>0.330</td>\n",
       "      <td>1</td>\n",
       "    </tr>\n",
       "    <tr>\n",
       "      <th>9</th>\n",
       "      <td>0.913</td>\n",
       "      <td>0.292</td>\n",
       "      <td>197613</td>\n",
       "      <td>0.246</td>\n",
       "      <td>0.088300</td>\n",
       "      <td>0</td>\n",
       "      <td>0.2090</td>\n",
       "      <td>-9.758</td>\n",
       "      <td>1</td>\n",
       "      <td>0.0330</td>\n",
       "      <td>140.316</td>\n",
       "      <td>4</td>\n",
       "      <td>0.249</td>\n",
       "      <td>1</td>\n",
       "    </tr>\n",
       "  </tbody>\n",
       "</table>\n",
       "</div>"
      ],
      "text/plain": [
       "   acousticness  danceability  duration  energy  instrumentalness  key  \\\n",
       "0         0.713         0.514    100125   0.521          0.816000    8   \n",
       "1         0.192         0.714    207019   0.614          0.000000    4   \n",
       "2         0.333         0.630    216200   0.455          0.000004    5   \n",
       "3         0.601         0.810    136413   0.221          0.210000    5   \n",
       "4         0.883         0.465    181440   0.459          0.000173    6   \n",
       "5         0.524         0.633    244360   0.401          0.000000    4   \n",
       "6         0.597         0.507    183573   0.795          0.000000    9   \n",
       "7         0.452         0.825    259102   0.435          0.609000    1   \n",
       "8         0.748         0.420    366179   0.324          0.839000    9   \n",
       "9         0.913         0.292    197613   0.246          0.088300    0   \n",
       "\n",
       "   liveness  loudness  mode  speechiness    tempo  time_signature  valence  \\\n",
       "0    0.1120   -14.835     0       0.0444  119.879               4    0.143   \n",
       "1    0.2630    -6.935     1       0.0319  123.969               4    0.582   \n",
       "2    0.1270    -9.290     1       0.0292  139.931               4    0.199   \n",
       "3    0.1840   -11.005     1       0.0429  109.960               4    0.798   \n",
       "4    0.0692    -8.137     0       0.0351   90.807               4    0.288   \n",
       "5    0.1230   -12.549     1       0.0439  134.978               4    0.523   \n",
       "6    0.2960    -6.966     1       0.0607  165.540               4    0.900   \n",
       "7    0.0953    -9.582     1       0.0568  119.038               4    0.243   \n",
       "8    0.0723   -14.700     0       0.0556  183.020               3    0.330   \n",
       "9    0.2090    -9.758     1       0.0330  140.316               4    0.249   \n",
       "\n",
       "   label  \n",
       "0      1  \n",
       "1      1  \n",
       "2      1  \n",
       "3      1  \n",
       "4      1  \n",
       "5      1  \n",
       "6      0  \n",
       "7      1  \n",
       "8      1  \n",
       "9      1  "
      ]
     },
     "execution_count": 3,
     "metadata": {},
     "output_type": "execute_result"
    }
   ],
   "source": [
    "# Show first 10 rows\n",
    "df.head(10)"
   ]
  },
  {
   "cell_type": "code",
   "execution_count": 4,
   "metadata": {
    "colab": {
     "base_uri": "https://localhost:8080/",
     "height": 300
    },
    "id": "sw6xD70h87aZ",
    "outputId": "c69b976f-fd6d-4a8d-f56a-e827d92f37da"
   },
   "outputs": [
    {
     "data": {
      "text/html": [
       "<div>\n",
       "<style scoped>\n",
       "    .dataframe tbody tr th:only-of-type {\n",
       "        vertical-align: middle;\n",
       "    }\n",
       "\n",
       "    .dataframe tbody tr th {\n",
       "        vertical-align: top;\n",
       "    }\n",
       "\n",
       "    .dataframe thead th {\n",
       "        text-align: right;\n",
       "    }\n",
       "</style>\n",
       "<table border=\"1\" class=\"dataframe\">\n",
       "  <thead>\n",
       "    <tr style=\"text-align: right;\">\n",
       "      <th></th>\n",
       "      <th>acousticness</th>\n",
       "      <th>danceability</th>\n",
       "      <th>duration</th>\n",
       "      <th>energy</th>\n",
       "      <th>instrumentalness</th>\n",
       "      <th>key</th>\n",
       "      <th>liveness</th>\n",
       "      <th>loudness</th>\n",
       "      <th>mode</th>\n",
       "      <th>speechiness</th>\n",
       "      <th>tempo</th>\n",
       "      <th>time_signature</th>\n",
       "      <th>valence</th>\n",
       "      <th>label</th>\n",
       "    </tr>\n",
       "  </thead>\n",
       "  <tbody>\n",
       "    <tr>\n",
       "      <th>count</th>\n",
       "      <td>750.000000</td>\n",
       "      <td>750.000000</td>\n",
       "      <td>750.000000</td>\n",
       "      <td>750.000000</td>\n",
       "      <td>750.000000</td>\n",
       "      <td>750.000000</td>\n",
       "      <td>750.000000</td>\n",
       "      <td>750.000000</td>\n",
       "      <td>750.000000</td>\n",
       "      <td>750.000000</td>\n",
       "      <td>750.000000</td>\n",
       "      <td>750.000000</td>\n",
       "      <td>750.000000</td>\n",
       "      <td>750.000000</td>\n",
       "    </tr>\n",
       "    <tr>\n",
       "      <th>mean</th>\n",
       "      <td>0.357394</td>\n",
       "      <td>0.596439</td>\n",
       "      <td>220112.733333</td>\n",
       "      <td>0.594188</td>\n",
       "      <td>0.100245</td>\n",
       "      <td>4.829333</td>\n",
       "      <td>0.203376</td>\n",
       "      <td>-8.509339</td>\n",
       "      <td>0.741333</td>\n",
       "      <td>0.098966</td>\n",
       "      <td>120.405761</td>\n",
       "      <td>3.902667</td>\n",
       "      <td>0.497321</td>\n",
       "      <td>0.602667</td>\n",
       "    </tr>\n",
       "    <tr>\n",
       "      <th>std</th>\n",
       "      <td>0.338405</td>\n",
       "      <td>0.172036</td>\n",
       "      <td>65587.690483</td>\n",
       "      <td>0.253301</td>\n",
       "      <td>0.259921</td>\n",
       "      <td>3.636001</td>\n",
       "      <td>0.177609</td>\n",
       "      <td>5.039488</td>\n",
       "      <td>0.438194</td>\n",
       "      <td>0.104715</td>\n",
       "      <td>28.378116</td>\n",
       "      <td>0.400091</td>\n",
       "      <td>0.239615</td>\n",
       "      <td>0.489673</td>\n",
       "    </tr>\n",
       "    <tr>\n",
       "      <th>min</th>\n",
       "      <td>0.000001</td>\n",
       "      <td>0.107000</td>\n",
       "      <td>33840.000000</td>\n",
       "      <td>0.009250</td>\n",
       "      <td>0.000000</td>\n",
       "      <td>0.000000</td>\n",
       "      <td>0.024000</td>\n",
       "      <td>-29.601000</td>\n",
       "      <td>0.000000</td>\n",
       "      <td>0.023400</td>\n",
       "      <td>55.747000</td>\n",
       "      <td>1.000000</td>\n",
       "      <td>0.033200</td>\n",
       "      <td>0.000000</td>\n",
       "    </tr>\n",
       "    <tr>\n",
       "      <th>25%</th>\n",
       "      <td>0.037150</td>\n",
       "      <td>0.480000</td>\n",
       "      <td>185490.250000</td>\n",
       "      <td>0.423250</td>\n",
       "      <td>0.000000</td>\n",
       "      <td>1.000000</td>\n",
       "      <td>0.094550</td>\n",
       "      <td>-10.173500</td>\n",
       "      <td>0.000000</td>\n",
       "      <td>0.035900</td>\n",
       "      <td>98.998000</td>\n",
       "      <td>4.000000</td>\n",
       "      <td>0.297000</td>\n",
       "      <td>0.000000</td>\n",
       "    </tr>\n",
       "    <tr>\n",
       "      <th>50%</th>\n",
       "      <td>0.244500</td>\n",
       "      <td>0.606000</td>\n",
       "      <td>215108.500000</td>\n",
       "      <td>0.631500</td>\n",
       "      <td>0.000010</td>\n",
       "      <td>5.000000</td>\n",
       "      <td>0.129000</td>\n",
       "      <td>-7.270000</td>\n",
       "      <td>1.000000</td>\n",
       "      <td>0.048750</td>\n",
       "      <td>120.104500</td>\n",
       "      <td>4.000000</td>\n",
       "      <td>0.483000</td>\n",
       "      <td>1.000000</td>\n",
       "    </tr>\n",
       "    <tr>\n",
       "      <th>75%</th>\n",
       "      <td>0.678500</td>\n",
       "      <td>0.715750</td>\n",
       "      <td>244236.750000</td>\n",
       "      <td>0.804750</td>\n",
       "      <td>0.002245</td>\n",
       "      <td>8.000000</td>\n",
       "      <td>0.264750</td>\n",
       "      <td>-5.097750</td>\n",
       "      <td>1.000000</td>\n",
       "      <td>0.113000</td>\n",
       "      <td>138.074750</td>\n",
       "      <td>4.000000</td>\n",
       "      <td>0.684500</td>\n",
       "      <td>1.000000</td>\n",
       "    </tr>\n",
       "    <tr>\n",
       "      <th>max</th>\n",
       "      <td>0.994000</td>\n",
       "      <td>0.986000</td>\n",
       "      <td>675360.000000</td>\n",
       "      <td>0.995000</td>\n",
       "      <td>0.967000</td>\n",
       "      <td>11.000000</td>\n",
       "      <td>0.979000</td>\n",
       "      <td>-0.533000</td>\n",
       "      <td>1.000000</td>\n",
       "      <td>0.721000</td>\n",
       "      <td>204.162000</td>\n",
       "      <td>5.000000</td>\n",
       "      <td>0.975000</td>\n",
       "      <td>1.000000</td>\n",
       "    </tr>\n",
       "  </tbody>\n",
       "</table>\n",
       "</div>"
      ],
      "text/plain": [
       "       acousticness  danceability       duration      energy  \\\n",
       "count    750.000000    750.000000     750.000000  750.000000   \n",
       "mean       0.357394      0.596439  220112.733333    0.594188   \n",
       "std        0.338405      0.172036   65587.690483    0.253301   \n",
       "min        0.000001      0.107000   33840.000000    0.009250   \n",
       "25%        0.037150      0.480000  185490.250000    0.423250   \n",
       "50%        0.244500      0.606000  215108.500000    0.631500   \n",
       "75%        0.678500      0.715750  244236.750000    0.804750   \n",
       "max        0.994000      0.986000  675360.000000    0.995000   \n",
       "\n",
       "       instrumentalness         key    liveness    loudness        mode  \\\n",
       "count        750.000000  750.000000  750.000000  750.000000  750.000000   \n",
       "mean           0.100245    4.829333    0.203376   -8.509339    0.741333   \n",
       "std            0.259921    3.636001    0.177609    5.039488    0.438194   \n",
       "min            0.000000    0.000000    0.024000  -29.601000    0.000000   \n",
       "25%            0.000000    1.000000    0.094550  -10.173500    0.000000   \n",
       "50%            0.000010    5.000000    0.129000   -7.270000    1.000000   \n",
       "75%            0.002245    8.000000    0.264750   -5.097750    1.000000   \n",
       "max            0.967000   11.000000    0.979000   -0.533000    1.000000   \n",
       "\n",
       "       speechiness       tempo  time_signature     valence       label  \n",
       "count   750.000000  750.000000      750.000000  750.000000  750.000000  \n",
       "mean      0.098966  120.405761        3.902667    0.497321    0.602667  \n",
       "std       0.104715   28.378116        0.400091    0.239615    0.489673  \n",
       "min       0.023400   55.747000        1.000000    0.033200    0.000000  \n",
       "25%       0.035900   98.998000        4.000000    0.297000    0.000000  \n",
       "50%       0.048750  120.104500        4.000000    0.483000    1.000000  \n",
       "75%       0.113000  138.074750        4.000000    0.684500    1.000000  \n",
       "max       0.721000  204.162000        5.000000    0.975000    1.000000  "
      ]
     },
     "execution_count": 4,
     "metadata": {},
     "output_type": "execute_result"
    }
   ],
   "source": [
    "# Describe dataset principal statistics\n",
    "df.describe()"
   ]
  },
  {
   "cell_type": "code",
   "execution_count": 5,
   "metadata": {
    "colab": {
     "base_uri": "https://localhost:8080/"
    },
    "id": "0NlDhqe8-Ii8",
    "outputId": "297839d7-efd0-43b0-c30b-27e6690ab651"
   },
   "outputs": [
    {
     "data": {
      "text/plain": [
       "acousticness        float64\n",
       "danceability        float64\n",
       "duration              int64\n",
       "energy              float64\n",
       "instrumentalness    float64\n",
       "key                   int64\n",
       "liveness            float64\n",
       "loudness            float64\n",
       "mode                  int64\n",
       "speechiness         float64\n",
       "tempo               float64\n",
       "time_signature        int64\n",
       "valence             float64\n",
       "label                 int64\n",
       "dtype: object"
      ]
     },
     "execution_count": 5,
     "metadata": {},
     "output_type": "execute_result"
    }
   ],
   "source": [
    "# Identify datatypes\n",
    "df.dtypes"
   ]
  },
  {
   "cell_type": "markdown",
   "metadata": {
    "id": "xSiZy1Rgfnkk"
   },
   "source": [
    "### Descripción de las variables.\n",
    "Se identifican los tipos de datos de las variables. Además se clasifican en variables de entrada y de salida."
   ]
  },
  {
   "cell_type": "markdown",
   "metadata": {
    "id": "4ROm87mSqtJR"
   },
   "source": [
    "| Variable         | Tipo de dato        | Descripción                                                                                  | ¿Es informativa para un problema de clasificación? | Entrada o salida |\n",
    "|------------------|---------------------|----------------------------------------------------------------------------------------------|----------------------------------------------------|------------------|\n",
    "| acousticness     | Numérico (ordinal). | Indica el grado de acusticidad de una canción.                                               | Sí                                                | Entrada          |\n",
    "| danceability     | Numérico (ordinal). | Indica que tan bailable es una canción.                                                      | Sí                                                 | Entrada          |\n",
    "| energy           | Numérico (ordinal). | Indica el nivel de energía de una canción.                                                   | Sí                                                 | Entrada          |\n",
    "| instrumentalness | Numérico (ordinal). | Indica qué tan instrumental es una canción.                                                  | Sí                                                 | Entrada          |\n",
    "| key              | Categórico.         | Indica la tonalidad en la que se encuentra la canción.                                       | Sí (One Hot Enconding)                                                 | Entrada          |\n",
    "| liveness         | Numérico (ordinal). | Indica qué tan \"en vivo\" es la canción.                                                      | Sí                                                 | Entrada          |\n",
    "| loudness         | Numérico (ordinal). | Indica el volumen general de una pista en decibelios (dB)                                    | Sí                                                 | Entrada          |\n",
    "| mode             | Categórico.         | Indica la modalidad (mayor o menor) de una canción. Contenido melódico.                      | Sí (One Hot Enconding).                                                | Entrada          |\n",
    "| speechiness      | Numérico (ordinal). | Indica la proporción de discurso que hay en la canción.                                      | Sí                                                 | Entrada          |\n",
    "| tempo            | Categórico. | El tempo general estimado de una pista en pulsaciones por minuto (BPM).                      | Sí (One Hot Enconding)                                                 | Entrada          |\n",
    "| time_signature   | Categórico.         | El compás es una convención de notación para especificar cuántos tiempos hay en cada compás. | Sí (One Hot Enconding)                                                | Entrada          |\n",
    "| valence          | Numérico (ordinal)  | Describe la positividad musical que transmite una canción.                                   | Sí                                                 | Entrada          |\n",
    "| label            | Categórico.         | Indica si la canción es del gusto de la persona que tiene esta playlist activa               | No (ya que es la variable de salida)               | Salida           |"
   ]
  },
  {
   "cell_type": "markdown",
   "metadata": {
    "id": "Y0Sp3Y48rQ03"
   },
   "source": [
    "### Referencia:\n",
    "- [Enlace de interés](https://developer.spotify.com/documentation/web-api/reference/#/operations/get-audio-analysis)"
   ]
  },
  {
   "cell_type": "markdown",
   "metadata": {
    "id": "n38MY2_KjBs4"
   },
   "source": [
    "### Análisis de las Variables de entrada"
   ]
  },
  {
   "cell_type": "code",
   "execution_count": 6,
   "metadata": {
    "colab": {
     "base_uri": "https://localhost:8080/"
    },
    "id": "wFdr5D7aZ8OI",
    "outputId": "cf851098-bd04-4167-cd52-b6f388c82356"
   },
   "outputs": [
    {
     "data": {
      "text/plain": [
       "acousticness        0.534804\n",
       "danceability       -0.311981\n",
       "duration            1.576231\n",
       "energy             -0.458765\n",
       "instrumentalness    2.488166\n",
       "key                 0.151431\n",
       "liveness            2.156240\n",
       "loudness           -1.693115\n",
       "mode               -1.104435\n",
       "speechiness         2.040370\n",
       "tempo               0.334763\n",
       "time_signature     -3.789628\n",
       "valence             0.104812\n",
       "label              -0.420449\n",
       "dtype: float64"
      ]
     },
     "execution_count": 6,
     "metadata": {},
     "output_type": "execute_result"
    }
   ],
   "source": [
    "df.skew()"
   ]
  },
  {
   "cell_type": "code",
   "execution_count": 7,
   "metadata": {
    "colab": {
     "base_uri": "https://localhost:8080/"
    },
    "id": "hZKXlcNGznta",
    "outputId": "c5371a0a-b147-4e6a-b652-72b210f16973"
   },
   "outputs": [
    {
     "data": {
      "text/plain": [
       "acousticness        -1.210296\n",
       "danceability        -0.296706\n",
       "duration             8.321863\n",
       "energy              -0.758962\n",
       "instrumentalness     4.518012\n",
       "key                 -1.349730\n",
       "liveness             4.842701\n",
       "loudness             3.232917\n",
       "mode                -0.782316\n",
       "speechiness          4.149336\n",
       "tempo               -0.246166\n",
       "time_signature      22.280112\n",
       "valence             -0.911007\n",
       "label               -1.828105\n",
       "dtype: float64"
      ]
     },
     "execution_count": 7,
     "metadata": {},
     "output_type": "execute_result"
    }
   ],
   "source": [
    "df.kurt(numeric_only=True)"
   ]
  },
  {
   "cell_type": "code",
   "execution_count": 8,
   "metadata": {
    "colab": {
     "base_uri": "https://localhost:8080/"
    },
    "id": "xwVD_4GgzsJP",
    "outputId": "23749f93-0f81-4dd8-f6eb-2a50a42d5c81"
   },
   "outputs": [
    {
     "data": {
      "text/plain": [
       "count    750.000000\n",
       "mean       0.357394\n",
       "std        0.338405\n",
       "min        0.000001\n",
       "25%        0.037150\n",
       "50%        0.244500\n",
       "75%        0.678500\n",
       "max        0.994000\n",
       "Name: acousticness, dtype: float64"
      ]
     },
     "execution_count": 8,
     "metadata": {},
     "output_type": "execute_result"
    }
   ],
   "source": [
    "  df['acousticness'].describe()"
   ]
  },
  {
   "cell_type": "code",
   "execution_count": 9,
   "metadata": {
    "colab": {
     "base_uri": "https://localhost:8080/",
     "height": 351
    },
    "id": "WB6R6sQ83lvs",
    "outputId": "460647c4-d1dc-4e57-c497-a681195d2ce0"
   },
   "outputs": [
    {
     "name": "stderr",
     "output_type": "stream",
     "text": [
      "c:\\users\\lucas\\documents\\especialización en inteligencia artificial de la uba\\4. análisis de datos\\repositorio propio\\analisis_de_datos_ceia_tp\\venv\\lib\\site-packages\\seaborn\\distributions.py:2619: FutureWarning: `distplot` is a deprecated function and will be removed in a future version. Please adapt your code to use either `displot` (a figure-level function with similar flexibility) or `histplot` (an axes-level function for histograms).\n",
      "  warnings.warn(msg, FutureWarning)\n"
     ]
    },
    {
     "data": {
      "text/plain": [
       "<AxesSubplot:xlabel='acousticness', ylabel='Density'>"
      ]
     },
     "execution_count": 9,
     "metadata": {},
     "output_type": "execute_result"
    },
    {
     "data": {
      "image/png": "[encoded data removed]",
      "text/plain": [
       "<Figure size 432x288 with 1 Axes>"
      ]
     },
     "metadata": {
      "needs_background": "light"
     },
     "output_type": "display_data"
    }
   ],
   "source": [
    "sns.distplot(df['acousticness'])"
   ]
  },
  {
   "cell_type": "code",
   "execution_count": 10,
   "metadata": {
    "colab": {
     "base_uri": "https://localhost:8080/"
    },
    "id": "QWGMmnLa3nex",
    "outputId": "6d95b90c-f14b-41e6-e2ad-f8233d701cd5"
   },
   "outputs": [
    {
     "data": {
      "text/plain": [
       "count    750.000000\n",
       "mean       0.596439\n",
       "std        0.172036\n",
       "min        0.107000\n",
       "25%        0.480000\n",
       "50%        0.606000\n",
       "75%        0.715750\n",
       "max        0.986000\n",
       "Name: danceability, dtype: float64"
      ]
     },
     "execution_count": 10,
     "metadata": {},
     "output_type": "execute_result"
    }
   ],
   "source": [
    "df['danceability'].describe()"
   ]
  },
  {
   "cell_type": "code",
   "execution_count": 11,
   "metadata": {
    "colab": {
     "base_uri": "https://localhost:8080/",
     "height": 351
    },
    "id": "J1tjCnPb32W-",
    "outputId": "bc7f53d8-ae42-4a51-d67c-39027d5b4234"
   },
   "outputs": [
    {
     "name": "stderr",
     "output_type": "stream",
     "text": [
      "c:\\users\\lucas\\documents\\especialización en inteligencia artificial de la uba\\4. análisis de datos\\repositorio propio\\analisis_de_datos_ceia_tp\\venv\\lib\\site-packages\\seaborn\\distributions.py:2619: FutureWarning: `distplot` is a deprecated function and will be removed in a future version. Please adapt your code to use either `displot` (a figure-level function with similar flexibility) or `histplot` (an axes-level function for histograms).\n",
      "  warnings.warn(msg, FutureWarning)\n"
     ]
    },
    {
     "data": {
      "text/plain": [
       "<AxesSubplot:xlabel='danceability', ylabel='Density'>"
      ]
     },
     "execution_count": 11,
     "metadata": {},
     "output_type": "execute_result"
    },
    {
     "data": {
      "image/png": "[encoded data removed]",
      "text/plain": [
       "<Figure size 432x288 with 1 Axes>"
      ]
     },
     "metadata": {
      "needs_background": "light"
     },
     "output_type": "display_data"
    }
   ],
   "source": [
    "sns.distplot(df['danceability'])"
   ]
  },
  {
   "cell_type": "code",
   "execution_count": 12,
   "metadata": {
    "colab": {
     "base_uri": "https://localhost:8080/"
    },
    "id": "VBrTQBnu36hv",
    "outputId": "15223ce8-aabd-4630-dd9f-91292fb32810"
   },
   "outputs": [
    {
     "data": {
      "text/plain": [
       "count    750.000000\n",
       "mean       0.594188\n",
       "std        0.253301\n",
       "min        0.009250\n",
       "25%        0.423250\n",
       "50%        0.631500\n",
       "75%        0.804750\n",
       "max        0.995000\n",
       "Name: energy, dtype: float64"
      ]
     },
     "execution_count": 12,
     "metadata": {},
     "output_type": "execute_result"
    }
   ],
   "source": [
    "df['energy'].describe()"
   ]
  },
  {
   "cell_type": "code",
   "execution_count": 13,
   "metadata": {
    "colab": {
     "base_uri": "https://localhost:8080/",
     "height": 351
    },
    "id": "xFJApcXq39lx",
    "outputId": "f983aedf-7651-4784-f698-2bf407cecb24"
   },
   "outputs": [
    {
     "name": "stderr",
     "output_type": "stream",
     "text": [
      "c:\\users\\lucas\\documents\\especialización en inteligencia artificial de la uba\\4. análisis de datos\\repositorio propio\\analisis_de_datos_ceia_tp\\venv\\lib\\site-packages\\seaborn\\distributions.py:2619: FutureWarning: `distplot` is a deprecated function and will be removed in a future version. Please adapt your code to use either `displot` (a figure-level function with similar flexibility) or `histplot` (an axes-level function for histograms).\n",
      "  warnings.warn(msg, FutureWarning)\n"
     ]
    },
    {
     "data": {
      "text/plain": [
       "<AxesSubplot:xlabel='energy', ylabel='Density'>"
      ]
     },
     "execution_count": 13,
     "metadata": {},
     "output_type": "execute_result"
    },
    {
     "data": {
      "image/png": "[encoded data removed]",
      "text/plain": [
       "<Figure size 432x288 with 1 Axes>"
      ]
     },
     "metadata": {
      "needs_background": "light"
     },
     "output_type": "display_data"
    }
   ],
   "source": [
    "sns.distplot(df['energy'])"
   ]
  },
  {
   "cell_type": "code",
   "execution_count": 14,
   "metadata": {
    "colab": {
     "base_uri": "https://localhost:8080/"
    },
    "id": "K6hqIAib4AJ4",
    "outputId": "ad47aecb-b43b-4fda-9e02-fb74cdbb6865"
   },
   "outputs": [
    {
     "data": {
      "text/plain": [
       "count    750.000000\n",
       "mean       0.100245\n",
       "std        0.259921\n",
       "min        0.000000\n",
       "25%        0.000000\n",
       "50%        0.000010\n",
       "75%        0.002245\n",
       "max        0.967000\n",
       "Name: instrumentalness, dtype: float64"
      ]
     },
     "execution_count": 14,
     "metadata": {},
     "output_type": "execute_result"
    }
   ],
   "source": [
    "df['instrumentalness'].describe()"
   ]
  },
  {
   "cell_type": "code",
   "execution_count": 15,
   "metadata": {
    "colab": {
     "base_uri": "https://localhost:8080/",
     "height": 351
    },
    "id": "NsSu-BP34F6y",
    "outputId": "d6815d0c-7915-4e7a-9db4-311389fb871c"
   },
   "outputs": [
    {
     "name": "stderr",
     "output_type": "stream",
     "text": [
      "c:\\users\\lucas\\documents\\especialización en inteligencia artificial de la uba\\4. análisis de datos\\repositorio propio\\analisis_de_datos_ceia_tp\\venv\\lib\\site-packages\\seaborn\\distributions.py:2619: FutureWarning: `distplot` is a deprecated function and will be removed in a future version. Please adapt your code to use either `displot` (a figure-level function with similar flexibility) or `histplot` (an axes-level function for histograms).\n",
      "  warnings.warn(msg, FutureWarning)\n"
     ]
    },
    {
     "data": {
      "text/plain": [
       "<AxesSubplot:xlabel='instrumentalness', ylabel='Density'>"
      ]
     },
     "execution_count": 15,
     "metadata": {},
     "output_type": "execute_result"
    },
    {
     "data": {
      "image/png": "[encoded data removed]",
      "text/plain": [
       "<Figure size 432x288 with 1 Axes>"
      ]
     },
     "metadata": {
      "needs_background": "light"
     },
     "output_type": "display_data"
    }
   ],
   "source": [
    "sns.distplot(df['instrumentalness'])"
   ]
  },
  {
   "cell_type": "code",
   "execution_count": 16,
   "metadata": {
    "colab": {
     "base_uri": "https://localhost:8080/"
    },
    "id": "8Wyf6pQt4JXn",
    "outputId": "aac3a906-4ce6-4364-ccf0-cbc812054fdf"
   },
   "outputs": [
    {
     "data": {
      "text/plain": [
       "count    750.000000\n",
       "mean       0.203376\n",
       "std        0.177609\n",
       "min        0.024000\n",
       "25%        0.094550\n",
       "50%        0.129000\n",
       "75%        0.264750\n",
       "max        0.979000\n",
       "Name: liveness, dtype: float64"
      ]
     },
     "execution_count": 16,
     "metadata": {},
     "output_type": "execute_result"
    }
   ],
   "source": [
    "df['liveness'].describe()"
   ]
  },
  {
   "cell_type": "code",
   "execution_count": 17,
   "metadata": {
    "colab": {
     "base_uri": "https://localhost:8080/",
     "height": 351
    },
    "id": "uDFU-tkr4M4j",
    "outputId": "c5c8c071-078b-4bef-9644-4e0495ff6ff4"
   },
   "outputs": [
    {
     "name": "stderr",
     "output_type": "stream",
     "text": [
      "c:\\users\\lucas\\documents\\especialización en inteligencia artificial de la uba\\4. análisis de datos\\repositorio propio\\analisis_de_datos_ceia_tp\\venv\\lib\\site-packages\\seaborn\\distributions.py:2619: FutureWarning: `distplot` is a deprecated function and will be removed in a future version. Please adapt your code to use either `displot` (a figure-level function with similar flexibility) or `histplot` (an axes-level function for histograms).\n",
      "  warnings.warn(msg, FutureWarning)\n"
     ]
    },
    {
     "data": {
      "text/plain": [
       "<AxesSubplot:xlabel='liveness', ylabel='Density'>"
      ]
     },
     "execution_count": 17,
     "metadata": {},
     "output_type": "execute_result"
    },
    {
     "data": {
      "image/png": "[encoded data removed]",
      "text/plain": [
       "<Figure size 432x288 with 1 Axes>"
      ]
     },
     "metadata": {
      "needs_background": "light"
     },
     "output_type": "display_data"
    }
   ],
   "source": [
    "sns.distplot(df['liveness'])"
   ]
  },
  {
   "cell_type": "code",
   "execution_count": 18,
   "metadata": {
    "colab": {
     "base_uri": "https://localhost:8080/"
    },
    "id": "nwHb0ACJ4Pmw",
    "outputId": "f67cee49-9948-429b-bbcc-93ef16dce0f7"
   },
   "outputs": [
    {
     "data": {
      "text/plain": [
       "count    750.000000\n",
       "mean      -8.509339\n",
       "std        5.039488\n",
       "min      -29.601000\n",
       "25%      -10.173500\n",
       "50%       -7.270000\n",
       "75%       -5.097750\n",
       "max       -0.533000\n",
       "Name: loudness, dtype: float64"
      ]
     },
     "execution_count": 18,
     "metadata": {},
     "output_type": "execute_result"
    }
   ],
   "source": [
    "df['loudness'].describe() "
   ]
  },
  {
   "cell_type": "code",
   "execution_count": 19,
   "metadata": {
    "colab": {
     "base_uri": "https://localhost:8080/",
     "height": 351
    },
    "id": "V9RQFe9K4UeH",
    "outputId": "d518dc4a-3c76-4eff-d6bf-ac0258c26918"
   },
   "outputs": [
    {
     "name": "stderr",
     "output_type": "stream",
     "text": [
      "c:\\users\\lucas\\documents\\especialización en inteligencia artificial de la uba\\4. análisis de datos\\repositorio propio\\analisis_de_datos_ceia_tp\\venv\\lib\\site-packages\\seaborn\\distributions.py:2619: FutureWarning: `distplot` is a deprecated function and will be removed in a future version. Please adapt your code to use either `displot` (a figure-level function with similar flexibility) or `histplot` (an axes-level function for histograms).\n",
      "  warnings.warn(msg, FutureWarning)\n"
     ]
    },
    {
     "data": {
      "text/plain": [
       "<AxesSubplot:xlabel='loudness', ylabel='Density'>"
      ]
     },
     "execution_count": 19,
     "metadata": {},
     "output_type": "execute_result"
    },
    {
     "data": {
      "image/png": "[encoded data removed]",
      "text/plain": [
       "<Figure size 432x288 with 1 Axes>"
      ]
     },
     "metadata": {
      "needs_background": "light"
     },
     "output_type": "display_data"
    }
   ],
   "source": [
    "sns.distplot(df['loudness'])"
   ]
  },
  {
   "cell_type": "code",
   "execution_count": 20,
   "metadata": {
    "colab": {
     "base_uri": "https://localhost:8080/"
    },
    "id": "fK5Sl_u84XlM",
    "outputId": "0fbd7f2a-11ee-461e-a8f8-ea015f666f6d"
   },
   "outputs": [
    {
     "data": {
      "text/plain": [
       "count    750.000000\n",
       "mean       0.098966\n",
       "std        0.104715\n",
       "min        0.023400\n",
       "25%        0.035900\n",
       "50%        0.048750\n",
       "75%        0.113000\n",
       "max        0.721000\n",
       "Name: speechiness, dtype: float64"
      ]
     },
     "execution_count": 20,
     "metadata": {},
     "output_type": "execute_result"
    }
   ],
   "source": [
    "df['speechiness'].describe()"
   ]
  },
  {
   "cell_type": "code",
   "execution_count": 21,
   "metadata": {
    "colab": {
     "base_uri": "https://localhost:8080/",
     "height": 351
    },
    "id": "SuGgOBxc4cVd",
    "outputId": "537cbb79-b242-45ea-827b-0e8045160a5e"
   },
   "outputs": [
    {
     "name": "stderr",
     "output_type": "stream",
     "text": [
      "c:\\users\\lucas\\documents\\especialización en inteligencia artificial de la uba\\4. análisis de datos\\repositorio propio\\analisis_de_datos_ceia_tp\\venv\\lib\\site-packages\\seaborn\\distributions.py:2619: FutureWarning: `distplot` is a deprecated function and will be removed in a future version. Please adapt your code to use either `displot` (a figure-level function with similar flexibility) or `histplot` (an axes-level function for histograms).\n",
      "  warnings.warn(msg, FutureWarning)\n"
     ]
    },
    {
     "data": {
      "text/plain": [
       "<AxesSubplot:xlabel='speechiness', ylabel='Density'>"
      ]
     },
     "execution_count": 21,
     "metadata": {},
     "output_type": "execute_result"
    },
    {
     "data": {
      "image/png": "[encoded data removed]",
      "text/plain": [
       "<Figure size 432x288 with 1 Axes>"
      ]
     },
     "metadata": {
      "needs_background": "light"
     },
     "output_type": "display_data"
    }
   ],
   "source": [
    "sns.distplot(df['speechiness'])"
   ]
  },
  {
   "cell_type": "code",
   "execution_count": 22,
   "metadata": {
    "colab": {
     "base_uri": "https://localhost:8080/"
    },
    "id": "Q4ER5pXW4qDW",
    "outputId": "7bf6c770-b915-46a0-c1a0-b7fb7986ac44"
   },
   "outputs": [
    {
     "data": {
      "text/plain": [
       "count    750.000000\n",
       "mean     120.405761\n",
       "std       28.378116\n",
       "min       55.747000\n",
       "25%       98.998000\n",
       "50%      120.104500\n",
       "75%      138.074750\n",
       "max      204.162000\n",
       "Name: tempo, dtype: float64"
      ]
     },
     "execution_count": 22,
     "metadata": {},
     "output_type": "execute_result"
    }
   ],
   "source": [
    "df['tempo'].describe()"
   ]
  },
  {
   "cell_type": "code",
   "execution_count": 23,
   "metadata": {
    "colab": {
     "base_uri": "https://localhost:8080/",
     "height": 351
    },
    "id": "qflQFHGg4vCO",
    "outputId": "9e58a0f8-f2bd-4d57-9c86-5a404a6646f6"
   },
   "outputs": [
    {
     "name": "stderr",
     "output_type": "stream",
     "text": [
      "c:\\users\\lucas\\documents\\especialización en inteligencia artificial de la uba\\4. análisis de datos\\repositorio propio\\analisis_de_datos_ceia_tp\\venv\\lib\\site-packages\\seaborn\\distributions.py:2619: FutureWarning: `distplot` is a deprecated function and will be removed in a future version. Please adapt your code to use either `displot` (a figure-level function with similar flexibility) or `histplot` (an axes-level function for histograms).\n",
      "  warnings.warn(msg, FutureWarning)\n"
     ]
    },
    {
     "data": {
      "text/plain": [
       "<AxesSubplot:xlabel='tempo', ylabel='Density'>"
      ]
     },
     "execution_count": 23,
     "metadata": {},
     "output_type": "execute_result"
    },
    {
     "data": {
      "image/png": "[encoded data removed]",
      "text/plain": [
       "<Figure size 432x288 with 1 Axes>"
      ]
     },
     "metadata": {
      "needs_background": "light"
     },
     "output_type": "display_data"
    }
   ],
   "source": [
    "sns.distplot(df['tempo'])"
   ]
  },
  {
   "cell_type": "code",
   "execution_count": 24,
   "metadata": {
    "colab": {
     "base_uri": "https://localhost:8080/"
    },
    "id": "kZ25dK8w4zDg",
    "outputId": "36a501f6-3064-4f6b-e601-ec9c8375f178"
   },
   "outputs": [
    {
     "data": {
      "text/plain": [
       "count    750.000000\n",
       "mean       0.497321\n",
       "std        0.239615\n",
       "min        0.033200\n",
       "25%        0.297000\n",
       "50%        0.483000\n",
       "75%        0.684500\n",
       "max        0.975000\n",
       "Name: valence, dtype: float64"
      ]
     },
     "execution_count": 24,
     "metadata": {},
     "output_type": "execute_result"
    }
   ],
   "source": [
    "df['valence'].describe()"
   ]
  },
  {
   "cell_type": "code",
   "execution_count": 25,
   "metadata": {
    "colab": {
     "base_uri": "https://localhost:8080/",
     "height": 386
    },
    "id": "_y-bj4pW443_",
    "outputId": "5cf6b355-ac92-4e0b-872c-c1d4d8900bbd"
   },
   "outputs": [
    {
     "data": {
      "text/plain": [
       "<seaborn.axisgrid.FacetGrid at 0x20ff360ce20>"
      ]
     },
     "execution_count": 25,
     "metadata": {},
     "output_type": "execute_result"
    },
    {
     "data": {
      "image/png": "[encoded data removed]",
      "text/plain": [
       "<Figure size 360x360 with 1 Axes>"
      ]
     },
     "metadata": {
      "needs_background": "light"
     },
     "output_type": "display_data"
    }
   ],
   "source": [
    "sns.displot(df['valence'])"
   ]
  },
  {
   "cell_type": "markdown",
   "metadata": {
    "id": "xlR8rZkEjIAq"
   },
   "source": [
    "### Conclusiones:\n",
    "A excepción de las columnas \"acousticness\", la aproximación de las features del dataset de Spotify a una variable normal es correcta (en el caso de \"acousticness\", se podría aproximar a 2 normales).  \n",
    "\n",
    "En cuanto a la curtosis de las features, las columnas duration,instrumentalness, liveness, loudness, speechiness y time_signature presentan distribuciones leptocúrticas (mayor concentración alrededor de la media), mientras que las restantes features presentan una distribución platicúrtica.\n",
    "\n",
    "Con respecto a la oblicuidad de las features o \"skewness\", se consideran bastante simétricas: ‘acousticness’, danceability, energy, key, tempo y valence, mientras que las restantes features, se consideran considerablemente asimétricas."
   ]
  },
  {
   "cell_type": "code",
   "execution_count": 26,
   "metadata": {
    "colab": {
     "base_uri": "https://localhost:8080/"
    },
    "id": "n1_maPvj-YZp",
    "outputId": "356a40e2-06e7-4012-cb38-f876bc777725"
   },
   "outputs": [
    {
     "data": {
      "text/plain": [
       "0     113\n",
       "2      92\n",
       "1      85\n",
       "9      74\n",
       "5      69\n",
       "7      63\n",
       "8      51\n",
       "4      48\n",
       "10     48\n",
       "11     46\n",
       "6      44\n",
       "3      17\n",
       "Name: key, dtype: int64"
      ]
     },
     "execution_count": 26,
     "metadata": {},
     "output_type": "execute_result"
    }
   ],
   "source": [
    "pd.value_counts(df['key'])"
   ]
  },
  {
   "cell_type": "markdown",
   "metadata": {
    "id": "GYsSMqWOjgNm"
   },
   "source": [
    "### Tabla de frecuencia relativa para la feature key"
   ]
  },
  {
   "cell_type": "code",
   "execution_count": 27,
   "metadata": {
    "colab": {
     "base_uri": "https://localhost:8080/"
    },
    "id": "QoUj2qcqExTT",
    "outputId": "63c19652-81b0-4dd5-ea6d-9c63defbefd9"
   },
   "outputs": [
    {
     "data": {
      "text/plain": [
       "0     15.066667\n",
       "2     12.266667\n",
       "1     11.333333\n",
       "9      9.866667\n",
       "5      9.200000\n",
       "7      8.400000\n",
       "8      6.800000\n",
       "4      6.400000\n",
       "10     6.400000\n",
       "11     6.133333\n",
       "6      5.866667\n",
       "3      2.266667\n",
       "Name: key, dtype: float64"
      ]
     },
     "execution_count": 27,
     "metadata": {},
     "output_type": "execute_result"
    }
   ],
   "source": [
    "100*df['key'].value_counts() / len(df['key'])"
   ]
  },
  {
   "cell_type": "code",
   "execution_count": 28,
   "metadata": {
    "colab": {
     "base_uri": "https://localhost:8080/",
     "height": 284
    },
    "id": "vhNE4Z_LGF5N",
    "outputId": "8b621e81-1482-4069-c781-5a477ac4dc09"
   },
   "outputs": [
    {
     "data": {
      "image/png": "[encoded data removed]",
      "text/plain": [
       "<Figure size 432x288 with 1 Axes>"
      ]
     },
     "metadata": {
      "needs_background": "light"
     },
     "output_type": "display_data"
    }
   ],
   "source": [
    "plot = df['key'].value_counts().plot(kind='bar', title='key')"
   ]
  },
  {
   "cell_type": "code",
   "execution_count": 29,
   "metadata": {
    "colab": {
     "base_uri": "https://localhost:8080/"
    },
    "id": "uWUM6SoOE5c6",
    "outputId": "9c436f03-2a25-4b73-e8ae-5587accb841e"
   },
   "outputs": [
    {
     "data": {
      "text/plain": [
       "1    556\n",
       "0    194\n",
       "Name: mode, dtype: int64"
      ]
     },
     "execution_count": 29,
     "metadata": {},
     "output_type": "execute_result"
    }
   ],
   "source": [
    "pd.value_counts(df['mode'])"
   ]
  },
  {
   "cell_type": "code",
   "execution_count": 30,
   "metadata": {
    "colab": {
     "base_uri": "https://localhost:8080/"
    },
    "id": "hBMa5bJMFHmE",
    "outputId": "538cb830-b72e-4dc5-ecbf-d05a3f695212"
   },
   "outputs": [
    {
     "data": {
      "text/plain": [
       "1    74.133333\n",
       "0    25.866667\n",
       "Name: mode, dtype: float64"
      ]
     },
     "execution_count": 30,
     "metadata": {},
     "output_type": "execute_result"
    }
   ],
   "source": [
    "100*df['mode'].value_counts() / len(df['mode'])"
   ]
  },
  {
   "cell_type": "code",
   "execution_count": 31,
   "metadata": {
    "colab": {
     "base_uri": "https://localhost:8080/",
     "height": 278
    },
    "id": "_IXUXr7DGHck",
    "outputId": "76d59d32-011d-4d28-adb4-bca42375ec2e"
   },
   "outputs": [
    {
     "data": {
      "image/png": "[encoded data removed]",
      "text/plain": [
       "<Figure size 432x288 with 1 Axes>"
      ]
     },
     "metadata": {
      "needs_background": "light"
     },
     "output_type": "display_data"
    }
   ],
   "source": [
    "plot = df['mode'].value_counts().plot(kind='bar', title='mode')"
   ]
  },
  {
   "cell_type": "code",
   "execution_count": 32,
   "metadata": {
    "colab": {
     "base_uri": "https://localhost:8080/"
    },
    "id": "sBZlOIblFWjg",
    "outputId": "6a73d868-5106-4455-d877-87a54e1d24d3"
   },
   "outputs": [
    {
     "data": {
      "text/plain": [
       "4    671\n",
       "3     64\n",
       "5      9\n",
       "1      6\n",
       "Name: time_signature, dtype: int64"
      ]
     },
     "execution_count": 32,
     "metadata": {},
     "output_type": "execute_result"
    }
   ],
   "source": [
    "pd.value_counts(df['time_signature'])"
   ]
  },
  {
   "cell_type": "code",
   "execution_count": 33,
   "metadata": {
    "colab": {
     "base_uri": "https://localhost:8080/"
    },
    "id": "6nXYruGDFgtH",
    "outputId": "27a1b76f-27be-4674-d5f9-7ba857e56f35"
   },
   "outputs": [
    {
     "data": {
      "text/plain": [
       "0     15.066667\n",
       "2     12.266667\n",
       "1     11.333333\n",
       "9      9.866667\n",
       "5      9.200000\n",
       "7      8.400000\n",
       "8      6.800000\n",
       "4      6.400000\n",
       "10     6.400000\n",
       "11     6.133333\n",
       "6      5.866667\n",
       "3      2.266667\n",
       "Name: key, dtype: float64"
      ]
     },
     "execution_count": 33,
     "metadata": {},
     "output_type": "execute_result"
    }
   ],
   "source": [
    "100*df['key'].value_counts() / len(df['time_signature'])"
   ]
  },
  {
   "cell_type": "code",
   "execution_count": 34,
   "metadata": {
    "colab": {
     "base_uri": "https://localhost:8080/",
     "height": 278
    },
    "id": "SkMvKe07Fh_m",
    "outputId": "b8137e2c-31b2-44b1-9e82-97f0d6be0219"
   },
   "outputs": [
    {
     "data": {
      "image/png": "[encoded data removed]",
      "text/plain": [
       "<Figure size 432x288 with 1 Axes>"
      ]
     },
     "metadata": {
      "needs_background": "light"
     },
     "output_type": "display_data"
    }
   ],
   "source": [
    "plot = df['time_signature'].value_counts().plot(kind='bar', title='time_signature')"
   ]
  },
  {
   "cell_type": "markdown",
   "metadata": {
    "id": "8PYqK3-vjk7I"
   },
   "source": [
    "**En lo referente a las features con variables categóricas, las features \"time_signature\" (tipo de compás) y \"mode\" (modos de un tono: mayor o menor), son las de menor número de variables categóricas. La feature \"key\" (tono), es la de mayor cantidad número de variables.**\n",
    "\n",
    "- No se evidencian variables compuestas"
   ]
  },
  {
   "cell_type": "markdown",
   "metadata": {
    "id": "ivJ8YrgVj0lo"
   },
   "source": [
    "### Análisis de las variables de salida"
   ]
  },
  {
   "cell_type": "code",
   "execution_count": 35,
   "metadata": {
    "colab": {
     "base_uri": "https://localhost:8080/"
    },
    "id": "y1bY4QYKNznq",
    "outputId": "f0c352ab-28f1-469a-c3e3-cd1ab7ae76db"
   },
   "outputs": [
    {
     "data": {
      "text/plain": [
       "1    60.266667\n",
       "0    39.733333\n",
       "Name: label, dtype: float64"
      ]
     },
     "execution_count": 35,
     "metadata": {},
     "output_type": "execute_result"
    }
   ],
   "source": [
    "100*df['label'].value_counts() / len(df['label'])"
   ]
  },
  {
   "cell_type": "markdown",
   "metadata": {
    "id": "2k8I_VSPj8Ev"
   },
   "source": [
    "-  La variable de salida \"label\" (like o no de una canción) se encuentra bastante balanceada. (Aunque se evidencia un cierto desbalance en favor de la clase 1."
   ]
  },
  {
   "cell_type": "markdown",
   "metadata": {},
   "source": [
    "## 3. Limpieza y preparación de datos / Ingeniería de features"
   ]
  },
  {
   "cell_type": "markdown",
   "metadata": {},
   "source": [
    "### Análisis de datos faltantes"
   ]
  },
  {
   "cell_type": "code",
   "execution_count": 36,
   "metadata": {},
   "outputs": [
    {
     "data": {
      "text/plain": [
       "acousticness        0\n",
       "danceability        0\n",
       "duration            0\n",
       "energy              0\n",
       "instrumentalness    0\n",
       "key                 0\n",
       "liveness            0\n",
       "loudness            0\n",
       "mode                0\n",
       "speechiness         0\n",
       "tempo               0\n",
       "time_signature      0\n",
       "valence             0\n",
       "label               0\n",
       "dtype: int64"
      ]
     },
     "execution_count": 36,
     "metadata": {},
     "output_type": "execute_result"
    }
   ],
   "source": [
    "df.isnull().sum()"
   ]
  },
  {
   "cell_type": "code",
   "execution_count": null,
   "metadata": {},
   "outputs": [],
   "source": []
  }
 ],
 "metadata": {
  "colab": {
   "collapsed_sections": [],
   "name": "Análisis de Datos - Spotify.ipynb",
   "provenance": []
  },
  "kernelspec": {
   "display_name": "Python 3 (ipykernel)",
   "language": "python",
   "name": "python3"
  },
  "language_info": {
   "codemirror_mode": {
    "name": "ipython",
    "version": 3
   },
   "file_extension": ".py",
   "mimetype": "text/x-python",
   "name": "python",
   "nbconvert_exporter": "python",
   "pygments_lexer": "ipython3",
   "version": "3.9.5"
  }
 },
 "nbformat": 4,
 "nbformat_minor": 1
}
