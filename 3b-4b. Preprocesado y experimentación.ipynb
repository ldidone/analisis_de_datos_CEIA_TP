{
  "cells": [
    {
      "cell_type": "markdown",
      "id": "fe442879",
      "metadata": {
        "id": "fe442879"
      },
      "source": [
        "# Trabajo práctico integrador - Análisis de datos"
      ]
    },
    {
      "cell_type": "markdown",
      "id": "3d8faa6b",
      "metadata": {
        "id": "3d8faa6b"
      },
      "source": [
        "## Limpieza y preparación de datos / Ingeniería de features"
      ]
    },
    {
      "cell_type": "code",
      "source": [
        "!pip install --pre pycaret"
      ],
      "metadata": {
        "colab": {
          "base_uri": "https://localhost:8080/",
          "height": 1000
        },
        "id": "zsAcV2LxgC6b",
        "outputId": "03f120df-8f88-49a4-f493-8e2b060649ff"
      },
      "id": "zsAcV2LxgC6b",
      "execution_count": 1,
      "outputs": [
        {
          "output_type": "stream",
          "name": "stdout",
          "text": [
            "Looking in indexes: https://pypi.org/simple, https://us-python.pkg.dev/colab-wheels/public/simple/\n",
            "Collecting pycaret\n",
            "  Downloading pycaret-3.0.0rc2-py3-none-any.whl (538 kB)\n",
            "\u001b[K     |████████████████████████████████| 538 kB 4.0 MB/s \n",
            "\u001b[?25hCollecting scikit-plot>=0.3.7\n",
            "  Downloading scikit_plot-0.3.7-py3-none-any.whl (33 kB)\n",
            "Collecting pyod>=0.9.8\n",
            "  Downloading pyod-1.0.1.tar.gz (120 kB)\n",
            "\u001b[K     |████████████████████████████████| 120 kB 41.2 MB/s \n",
            "\u001b[?25hRequirement already satisfied: numpy~=1.21 in /usr/local/lib/python3.7/dist-packages (from pycaret) (1.21.6)\n",
            "Requirement already satisfied: pandas<1.5.0,>=1.3.0 in /usr/local/lib/python3.7/dist-packages (from pycaret) (1.3.5)\n",
            "Requirement already satisfied: scipy<1.9.0 in /usr/local/lib/python3.7/dist-packages (from pycaret) (1.4.1)\n",
            "Collecting pmdarima>=1.8.0\n",
            "  Downloading pmdarima-1.8.5-cp37-cp37m-manylinux_2_17_x86_64.manylinux2014_x86_64.manylinux_2_24_x86_64.whl (1.4 MB)\n",
            "\u001b[K     |████████████████████████████████| 1.4 MB 41.8 MB/s \n",
            "\u001b[?25hCollecting psutil>=5.9.0\n",
            "  Downloading psutil-5.9.1-cp37-cp37m-manylinux_2_12_x86_64.manylinux2010_x86_64.manylinux_2_17_x86_64.manylinux2014_x86_64.whl (281 kB)\n",
            "\u001b[K     |████████████████████████████████| 281 kB 45.1 MB/s \n",
            "\u001b[?25hCollecting category-encoders>=2.4.0\n",
            "  Downloading category_encoders-2.5.0-py2.py3-none-any.whl (69 kB)\n",
            "\u001b[K     |████████████████████████████████| 69 kB 6.0 MB/s \n",
            "\u001b[?25hRequirement already satisfied: scikit-learn>=1.0 in /usr/local/lib/python3.7/dist-packages (from pycaret) (1.0.2)\n",
            "Requirement already satisfied: joblib>=1.1.0 in /usr/local/lib/python3.7/dist-packages (from pycaret) (1.1.0)\n",
            "Collecting statsmodels>=0.12.1\n",
            "  Downloading statsmodels-0.13.2-cp37-cp37m-manylinux_2_17_x86_64.manylinux2014_x86_64.whl (9.8 MB)\n",
            "\u001b[K     |████████████████████████████████| 9.8 MB 27.8 MB/s \n",
            "\u001b[?25hRequirement already satisfied: plotly>=5.0.0 in /usr/local/lib/python3.7/dist-packages (from pycaret) (5.5.0)\n",
            "Collecting schemdraw>=0.14\n",
            "  Downloading schemdraw-0.15-py3-none-any.whl (106 kB)\n",
            "\u001b[K     |████████████████████████████████| 106 kB 52.7 MB/s \n",
            "\u001b[?25hCollecting sktime>=0.11.4\n",
            "  Downloading sktime-0.12.0-py3-none-any.whl (6.7 MB)\n",
            "\u001b[K     |████████████████████████████████| 6.7 MB 29.8 MB/s \n",
            "\u001b[?25hRequirement already satisfied: jinja2>=1.2 in /usr/local/lib/python3.7/dist-packages (from pycaret) (2.11.3)\n",
            "Requirement already satisfied: tqdm in /usr/local/lib/python3.7/dist-packages (from pycaret) (4.64.0)\n",
            "Requirement already satisfied: ipywidgets>=7.6.5 in /usr/local/lib/python3.7/dist-packages (from pycaret) (7.7.0)\n",
            "Requirement already satisfied: ipython>=5.5.0 in /usr/local/lib/python3.7/dist-packages (from pycaret) (5.5.0)\n",
            "Collecting matplotlib>=3.3.0\n",
            "  Downloading matplotlib-3.5.2-cp37-cp37m-manylinux_2_5_x86_64.manylinux1_x86_64.whl (11.2 MB)\n",
            "\u001b[K     |████████████████████████████████| 11.2 MB 43.1 MB/s \n",
            "\u001b[?25hCollecting lightgbm>=3.0.0\n",
            "  Downloading lightgbm-3.3.2-py3-none-manylinux1_x86_64.whl (2.0 MB)\n",
            "\u001b[K     |████████████████████████████████| 2.0 MB 38.6 MB/s \n",
            "\u001b[?25hCollecting requests>=2.27.1\n",
            "  Downloading requests-2.28.0-py3-none-any.whl (62 kB)\n",
            "\u001b[K     |████████████████████████████████| 62 kB 1.2 MB/s \n",
            "\u001b[?25hCollecting tbats>=1.1.0\n",
            "  Downloading tbats-1.1.0-py3-none-any.whl (43 kB)\n",
            "\u001b[K     |████████████████████████████████| 43 kB 2.1 MB/s \n",
            "\u001b[?25hRequirement already satisfied: imbalanced-learn>=0.8.1 in /usr/local/lib/python3.7/dist-packages (from pycaret) (0.8.1)\n",
            "Collecting numba~=0.55.0\n",
            "  Downloading numba-0.55.2-cp37-cp37m-manylinux2014_x86_64.manylinux_2_17_x86_64.whl (3.3 MB)\n",
            "\u001b[K     |████████████████████████████████| 3.3 MB 32.8 MB/s \n",
            "\u001b[?25hCollecting kaleido>=0.2.1\n",
            "  Downloading kaleido-0.2.1-py2.py3-none-manylinux1_x86_64.whl (79.9 MB)\n",
            "\u001b[K     |████████████████████████████████| 79.9 MB 150 kB/s \n",
            "\u001b[?25hRequirement already satisfied: yellowbrick>=1.4 in /usr/local/lib/python3.7/dist-packages (from pycaret) (1.4)\n",
            "Requirement already satisfied: patsy>=0.5.1 in /usr/local/lib/python3.7/dist-packages (from category-encoders>=2.4.0->pycaret) (0.5.2)\n",
            "Requirement already satisfied: simplegeneric>0.8 in /usr/local/lib/python3.7/dist-packages (from ipython>=5.5.0->pycaret) (0.8.1)\n",
            "Requirement already satisfied: traitlets>=4.2 in /usr/local/lib/python3.7/dist-packages (from ipython>=5.5.0->pycaret) (5.1.1)\n",
            "Requirement already satisfied: prompt-toolkit<2.0.0,>=1.0.4 in /usr/local/lib/python3.7/dist-packages (from ipython>=5.5.0->pycaret) (1.0.18)\n",
            "Requirement already satisfied: pickleshare in /usr/local/lib/python3.7/dist-packages (from ipython>=5.5.0->pycaret) (0.7.5)\n",
            "Requirement already satisfied: setuptools>=18.5 in /usr/local/lib/python3.7/dist-packages (from ipython>=5.5.0->pycaret) (57.4.0)\n",
            "Requirement already satisfied: decorator in /usr/local/lib/python3.7/dist-packages (from ipython>=5.5.0->pycaret) (4.4.2)\n",
            "Requirement already satisfied: pexpect in /usr/local/lib/python3.7/dist-packages (from ipython>=5.5.0->pycaret) (4.8.0)\n",
            "Requirement already satisfied: pygments in /usr/local/lib/python3.7/dist-packages (from ipython>=5.5.0->pycaret) (2.6.1)\n",
            "Requirement already satisfied: ipykernel>=4.5.1 in /usr/local/lib/python3.7/dist-packages (from ipywidgets>=7.6.5->pycaret) (4.10.1)\n",
            "Requirement already satisfied: ipython-genutils~=0.2.0 in /usr/local/lib/python3.7/dist-packages (from ipywidgets>=7.6.5->pycaret) (0.2.0)\n",
            "Requirement already satisfied: jupyterlab-widgets>=1.0.0 in /usr/local/lib/python3.7/dist-packages (from ipywidgets>=7.6.5->pycaret) (1.1.0)\n",
            "Requirement already satisfied: nbformat>=4.2.0 in /usr/local/lib/python3.7/dist-packages (from ipywidgets>=7.6.5->pycaret) (5.4.0)\n",
            "Requirement already satisfied: widgetsnbextension~=3.6.0 in /usr/local/lib/python3.7/dist-packages (from ipywidgets>=7.6.5->pycaret) (3.6.0)\n",
            "Requirement already satisfied: jupyter-client in /usr/local/lib/python3.7/dist-packages (from ipykernel>=4.5.1->ipywidgets>=7.6.5->pycaret) (5.3.5)\n",
            "Requirement already satisfied: tornado>=4.0 in /usr/local/lib/python3.7/dist-packages (from ipykernel>=4.5.1->ipywidgets>=7.6.5->pycaret) (5.1.1)\n",
            "Requirement already satisfied: MarkupSafe>=0.23 in /usr/local/lib/python3.7/dist-packages (from jinja2>=1.2->pycaret) (2.0.1)\n",
            "Requirement already satisfied: wheel in /usr/local/lib/python3.7/dist-packages (from lightgbm>=3.0.0->pycaret) (0.37.1)\n",
            "Requirement already satisfied: kiwisolver>=1.0.1 in /usr/local/lib/python3.7/dist-packages (from matplotlib>=3.3.0->pycaret) (1.4.3)\n",
            "Requirement already satisfied: python-dateutil>=2.7 in /usr/local/lib/python3.7/dist-packages (from matplotlib>=3.3.0->pycaret) (2.8.2)\n",
            "Requirement already satisfied: packaging>=20.0 in /usr/local/lib/python3.7/dist-packages (from matplotlib>=3.3.0->pycaret) (21.3)\n",
            "Collecting fonttools>=4.22.0\n",
            "  Downloading fonttools-4.33.3-py3-none-any.whl (930 kB)\n",
            "\u001b[K     |████████████████████████████████| 930 kB 68.7 MB/s \n",
            "\u001b[?25hRequirement already satisfied: pillow>=6.2.0 in /usr/local/lib/python3.7/dist-packages (from matplotlib>=3.3.0->pycaret) (7.1.2)\n",
            "Requirement already satisfied: pyparsing>=2.2.1 in /usr/local/lib/python3.7/dist-packages (from matplotlib>=3.3.0->pycaret) (3.0.9)\n",
            "Requirement already satisfied: cycler>=0.10 in /usr/local/lib/python3.7/dist-packages (from matplotlib>=3.3.0->pycaret) (0.11.0)\n",
            "Requirement already satisfied: typing-extensions in /usr/local/lib/python3.7/dist-packages (from kiwisolver>=1.0.1->matplotlib>=3.3.0->pycaret) (4.1.1)\n",
            "Requirement already satisfied: jupyter-core in /usr/local/lib/python3.7/dist-packages (from nbformat>=4.2.0->ipywidgets>=7.6.5->pycaret) (4.10.0)\n",
            "Requirement already satisfied: fastjsonschema in /usr/local/lib/python3.7/dist-packages (from nbformat>=4.2.0->ipywidgets>=7.6.5->pycaret) (2.15.3)\n",
            "Requirement already satisfied: jsonschema>=2.6 in /usr/local/lib/python3.7/dist-packages (from nbformat>=4.2.0->ipywidgets>=7.6.5->pycaret) (4.3.3)\n",
            "Requirement already satisfied: pyrsistent!=0.17.0,!=0.17.1,!=0.17.2,>=0.14.0 in /usr/local/lib/python3.7/dist-packages (from jsonschema>=2.6->nbformat>=4.2.0->ipywidgets>=7.6.5->pycaret) (0.18.1)\n",
            "Requirement already satisfied: importlib-metadata in /usr/local/lib/python3.7/dist-packages (from jsonschema>=2.6->nbformat>=4.2.0->ipywidgets>=7.6.5->pycaret) (4.11.4)\n",
            "Requirement already satisfied: importlib-resources>=1.4.0 in /usr/local/lib/python3.7/dist-packages (from jsonschema>=2.6->nbformat>=4.2.0->ipywidgets>=7.6.5->pycaret) (5.7.1)\n",
            "Requirement already satisfied: attrs>=17.4.0 in /usr/local/lib/python3.7/dist-packages (from jsonschema>=2.6->nbformat>=4.2.0->ipywidgets>=7.6.5->pycaret) (21.4.0)\n",
            "Requirement already satisfied: zipp>=3.1.0 in /usr/local/lib/python3.7/dist-packages (from importlib-resources>=1.4.0->jsonschema>=2.6->nbformat>=4.2.0->ipywidgets>=7.6.5->pycaret) (3.8.0)\n",
            "Collecting llvmlite<0.39,>=0.38.0rc1\n",
            "  Downloading llvmlite-0.38.1-cp37-cp37m-manylinux_2_17_x86_64.manylinux2014_x86_64.whl (34.5 MB)\n",
            "\u001b[K     |████████████████████████████████| 34.5 MB 84.3 MB/s \n",
            "\u001b[?25hRequirement already satisfied: pytz>=2017.3 in /usr/local/lib/python3.7/dist-packages (from pandas<1.5.0,>=1.3.0->pycaret) (2022.1)\n",
            "Requirement already satisfied: six in /usr/local/lib/python3.7/dist-packages (from patsy>=0.5.1->category-encoders>=2.4.0->pycaret) (1.15.0)\n",
            "Requirement already satisfied: tenacity>=6.2.0 in /usr/local/lib/python3.7/dist-packages (from plotly>=5.0.0->pycaret) (8.0.1)\n",
            "Requirement already satisfied: Cython!=0.29.18,>=0.29 in /usr/local/lib/python3.7/dist-packages (from pmdarima>=1.8.0->pycaret) (0.29.30)\n",
            "Requirement already satisfied: urllib3 in /usr/local/lib/python3.7/dist-packages (from pmdarima>=1.8.0->pycaret) (1.24.3)\n",
            "Requirement already satisfied: wcwidth in /usr/local/lib/python3.7/dist-packages (from prompt-toolkit<2.0.0,>=1.0.4->ipython>=5.5.0->pycaret) (0.2.5)\n",
            "Collecting scipy<1.9.0\n",
            "  Downloading scipy-1.7.3-cp37-cp37m-manylinux_2_12_x86_64.manylinux2010_x86_64.whl (38.1 MB)\n",
            "\u001b[K     |████████████████████████████████| 38.1 MB 1.1 MB/s \n",
            "\u001b[?25hRequirement already satisfied: charset-normalizer~=2.0.0 in /usr/local/lib/python3.7/dist-packages (from requests>=2.27.1->pycaret) (2.0.12)\n",
            "Requirement already satisfied: certifi>=2017.4.17 in /usr/local/lib/python3.7/dist-packages (from requests>=2.27.1->pycaret) (2022.6.15)\n",
            "Requirement already satisfied: idna<4,>=2.5 in /usr/local/lib/python3.7/dist-packages (from requests>=2.27.1->pycaret) (2.10)\n",
            "Requirement already satisfied: threadpoolctl>=2.0.0 in /usr/local/lib/python3.7/dist-packages (from scikit-learn>=1.0->pycaret) (3.1.0)\n",
            "Collecting deprecated>=1.2.13\n",
            "  Downloading Deprecated-1.2.13-py2.py3-none-any.whl (9.6 kB)\n",
            "Requirement already satisfied: wrapt<2,>=1.10 in /usr/local/lib/python3.7/dist-packages (from deprecated>=1.2.13->sktime>=0.11.4->pycaret) (1.14.1)\n",
            "Requirement already satisfied: notebook>=4.4.1 in /usr/local/lib/python3.7/dist-packages (from widgetsnbextension~=3.6.0->ipywidgets>=7.6.5->pycaret) (5.3.1)\n",
            "Requirement already satisfied: Send2Trash in /usr/local/lib/python3.7/dist-packages (from notebook>=4.4.1->widgetsnbextension~=3.6.0->ipywidgets>=7.6.5->pycaret) (1.8.0)\n",
            "Requirement already satisfied: nbconvert in /usr/local/lib/python3.7/dist-packages (from notebook>=4.4.1->widgetsnbextension~=3.6.0->ipywidgets>=7.6.5->pycaret) (5.6.1)\n",
            "Requirement already satisfied: terminado>=0.8.1 in /usr/local/lib/python3.7/dist-packages (from notebook>=4.4.1->widgetsnbextension~=3.6.0->ipywidgets>=7.6.5->pycaret) (0.13.3)\n",
            "Requirement already satisfied: pyzmq>=13 in /usr/local/lib/python3.7/dist-packages (from jupyter-client->ipykernel>=4.5.1->ipywidgets>=7.6.5->pycaret) (23.1.0)\n",
            "Requirement already satisfied: ptyprocess in /usr/local/lib/python3.7/dist-packages (from terminado>=0.8.1->notebook>=4.4.1->widgetsnbextension~=3.6.0->ipywidgets>=7.6.5->pycaret) (0.7.0)\n",
            "Requirement already satisfied: bleach in /usr/local/lib/python3.7/dist-packages (from nbconvert->notebook>=4.4.1->widgetsnbextension~=3.6.0->ipywidgets>=7.6.5->pycaret) (5.0.0)\n",
            "Requirement already satisfied: entrypoints>=0.2.2 in /usr/local/lib/python3.7/dist-packages (from nbconvert->notebook>=4.4.1->widgetsnbextension~=3.6.0->ipywidgets>=7.6.5->pycaret) (0.4)\n",
            "Requirement already satisfied: mistune<2,>=0.8.1 in /usr/local/lib/python3.7/dist-packages (from nbconvert->notebook>=4.4.1->widgetsnbextension~=3.6.0->ipywidgets>=7.6.5->pycaret) (0.8.4)\n",
            "Requirement already satisfied: testpath in /usr/local/lib/python3.7/dist-packages (from nbconvert->notebook>=4.4.1->widgetsnbextension~=3.6.0->ipywidgets>=7.6.5->pycaret) (0.6.0)\n",
            "Requirement already satisfied: defusedxml in /usr/local/lib/python3.7/dist-packages (from nbconvert->notebook>=4.4.1->widgetsnbextension~=3.6.0->ipywidgets>=7.6.5->pycaret) (0.7.1)\n",
            "Requirement already satisfied: pandocfilters>=1.4.1 in /usr/local/lib/python3.7/dist-packages (from nbconvert->notebook>=4.4.1->widgetsnbextension~=3.6.0->ipywidgets>=7.6.5->pycaret) (1.5.0)\n",
            "Requirement already satisfied: webencodings in /usr/local/lib/python3.7/dist-packages (from bleach->nbconvert->notebook>=4.4.1->widgetsnbextension~=3.6.0->ipywidgets>=7.6.5->pycaret) (0.5.1)\n",
            "Building wheels for collected packages: pyod\n",
            "  Building wheel for pyod (setup.py) ... \u001b[?25l\u001b[?25hdone\n",
            "  Created wheel for pyod: filename=pyod-1.0.1-py3-none-any.whl size=147473 sha256=623638c1fb57eefc5e8e4cb59b992a93f44ad37ffae3a70c2645ebb55a41b0a8\n",
            "  Stored in directory: /root/.cache/pip/wheels/ea/c4/29/67ad87835b209f72e4706369c683741b09490f2829d64ea768\n",
            "Successfully built pyod\n",
            "Installing collected packages: scipy, statsmodels, llvmlite, fonttools, pmdarima, numba, matplotlib, deprecated, tbats, sktime, scikit-plot, schemdraw, requests, pyod, psutil, lightgbm, kaleido, category-encoders, pycaret\n",
            "  Attempting uninstall: scipy\n",
            "    Found existing installation: scipy 1.4.1\n",
            "    Uninstalling scipy-1.4.1:\n",
            "      Successfully uninstalled scipy-1.4.1\n",
            "  Attempting uninstall: statsmodels\n",
            "    Found existing installation: statsmodels 0.10.2\n",
            "    Uninstalling statsmodels-0.10.2:\n",
            "      Successfully uninstalled statsmodels-0.10.2\n",
            "  Attempting uninstall: llvmlite\n",
            "    Found existing installation: llvmlite 0.34.0\n",
            "    Uninstalling llvmlite-0.34.0:\n",
            "      Successfully uninstalled llvmlite-0.34.0\n",
            "  Attempting uninstall: numba\n",
            "    Found existing installation: numba 0.51.2\n",
            "    Uninstalling numba-0.51.2:\n",
            "      Successfully uninstalled numba-0.51.2\n",
            "  Attempting uninstall: matplotlib\n",
            "    Found existing installation: matplotlib 3.2.2\n",
            "    Uninstalling matplotlib-3.2.2:\n",
            "      Successfully uninstalled matplotlib-3.2.2\n",
            "  Attempting uninstall: requests\n",
            "    Found existing installation: requests 2.23.0\n",
            "    Uninstalling requests-2.23.0:\n",
            "      Successfully uninstalled requests-2.23.0\n",
            "  Attempting uninstall: psutil\n",
            "    Found existing installation: psutil 5.4.8\n",
            "    Uninstalling psutil-5.4.8:\n",
            "      Successfully uninstalled psutil-5.4.8\n",
            "  Attempting uninstall: lightgbm\n",
            "    Found existing installation: lightgbm 2.2.3\n",
            "    Uninstalling lightgbm-2.2.3:\n",
            "      Successfully uninstalled lightgbm-2.2.3\n",
            "\u001b[31mERROR: pip's dependency resolver does not currently take into account all the packages that are installed. This behaviour is the source of the following dependency conflicts.\n",
            "google-colab 1.0.0 requires requests~=2.23.0, but you have requests 2.28.0 which is incompatible.\n",
            "datascience 0.10.6 requires folium==0.2.1, but you have folium 0.8.3 which is incompatible.\n",
            "albumentations 0.1.12 requires imgaug<0.2.7,>=0.2.5, but you have imgaug 0.2.9 which is incompatible.\u001b[0m\n",
            "Successfully installed category-encoders-2.5.0 deprecated-1.2.13 fonttools-4.33.3 kaleido-0.2.1 lightgbm-3.3.2 llvmlite-0.38.1 matplotlib-3.5.2 numba-0.55.2 pmdarima-1.8.5 psutil-5.9.1 pycaret-3.0.0rc2 pyod-1.0.1 requests-2.28.0 schemdraw-0.15 scikit-plot-0.3.7 scipy-1.7.3 sktime-0.12.0 statsmodels-0.13.2 tbats-1.1.0\n"
          ]
        },
        {
          "output_type": "display_data",
          "data": {
            "application/vnd.colab-display-data+json": {
              "pip_warning": {
                "packages": [
                  "matplotlib",
                  "mpl_toolkits",
                  "psutil"
                ]
              }
            }
          },
          "metadata": {}
        }
      ]
    },
    {
      "cell_type": "code",
      "execution_count": 1,
      "id": "e128d34d",
      "metadata": {
        "id": "e128d34d"
      },
      "outputs": [],
      "source": [
        "# Import libraries\n",
        "import pandas as pd\n",
        "import numpy as np\n",
        "import matplotlib.pyplot as plt\n",
        "import seaborn as sns\n",
        "\n",
        "from sklearn.pipeline import Pipeline\n",
        "from sklearn.compose import ColumnTransformer\n",
        "from sklearn.impute import SimpleImputer\n",
        "from sklearn.preprocessing import StandardScaler, MinMaxScaler, OneHotEncoder, KBinsDiscretizer, PowerTransformer\n",
        "from sklearn.metrics import accuracy_score,plot_confusion_matrix,roc_auc_score, classification_report, confusion_matrix, precision_recall_curve, auc\n",
        "\n",
        "from sklearn.model_selection import train_test_split\n",
        "\n",
        "from sklearn.linear_model import LogisticRegression\n",
        "from sklearn.tree import DecisionTreeClassifier\n",
        "from sklearn.ensemble import RandomForestClassifier\n",
        "\n",
        "from sklearn.model_selection import GridSearchCV\n",
        "\n",
        "import pickle"
      ]
    },
    {
      "cell_type": "code",
      "execution_count": 2,
      "id": "a4900df8",
      "metadata": {
        "id": "a4900df8"
      },
      "outputs": [],
      "source": [
        "# Set color palette\n",
        "color = ['#1ED760', '#FAF5F5']\n",
        "sns.set_palette(sns.color_palette(color))"
      ]
    },
    {
      "cell_type": "code",
      "execution_count": 3,
      "id": "752eb198",
      "metadata": {
        "id": "752eb198"
      },
      "outputs": [],
      "source": [
        "# Load dataset from GitHub repository\n",
        "df_original = pd.read_csv('data_playlist.csv')\n",
        "df = df_original.copy(deep=True)"
      ]
    },
    {
      "cell_type": "code",
      "execution_count": 4,
      "id": "3dfeb68b",
      "metadata": {
        "id": "3dfeb68b",
        "outputId": "c3b30888-2eaf-47dd-9094-f0257dc84b27",
        "colab": {
          "base_uri": "https://localhost:8080/",
          "height": 427
        }
      },
      "outputs": [
        {
          "output_type": "execute_result",
          "data": {
            "text/plain": [
              "   acousticness  danceability  duration  energy  instrumentalness  key  \\\n",
              "0         0.713         0.514    100125   0.521          0.816000    8   \n",
              "1         0.192         0.714    207019   0.614          0.000000    4   \n",
              "2         0.333         0.630    216200   0.455          0.000004    5   \n",
              "3         0.601         0.810    136413   0.221          0.210000    5   \n",
              "4         0.883         0.465    181440   0.459          0.000173    6   \n",
              "5         0.524         0.633    244360   0.401          0.000000    4   \n",
              "6         0.597         0.507    183573   0.795          0.000000    9   \n",
              "7         0.452         0.825    259102   0.435          0.609000    1   \n",
              "8         0.748         0.420    366179   0.324          0.839000    9   \n",
              "9         0.913         0.292    197613   0.246          0.088300    0   \n",
              "\n",
              "   liveness  loudness  mode  speechiness    tempo  time_signature  valence  \\\n",
              "0    0.1120   -14.835     0       0.0444  119.879               4    0.143   \n",
              "1    0.2630    -6.935     1       0.0319  123.969               4    0.582   \n",
              "2    0.1270    -9.290     1       0.0292  139.931               4    0.199   \n",
              "3    0.1840   -11.005     1       0.0429  109.960               4    0.798   \n",
              "4    0.0692    -8.137     0       0.0351   90.807               4    0.288   \n",
              "5    0.1230   -12.549     1       0.0439  134.978               4    0.523   \n",
              "6    0.2960    -6.966     1       0.0607  165.540               4    0.900   \n",
              "7    0.0953    -9.582     1       0.0568  119.038               4    0.243   \n",
              "8    0.0723   -14.700     0       0.0556  183.020               3    0.330   \n",
              "9    0.2090    -9.758     1       0.0330  140.316               4    0.249   \n",
              "\n",
              "   label  \n",
              "0      1  \n",
              "1      1  \n",
              "2      1  \n",
              "3      1  \n",
              "4      1  \n",
              "5      1  \n",
              "6      0  \n",
              "7      1  \n",
              "8      1  \n",
              "9      1  "
            ],
            "text/html": [
              "\n",
              "  <div id=\"df-b04048aa-e452-413b-b76f-02e4df7885fb\">\n",
              "    <div class=\"colab-df-container\">\n",
              "      <div>\n",
              "<style scoped>\n",
              "    .dataframe tbody tr th:only-of-type {\n",
              "        vertical-align: middle;\n",
              "    }\n",
              "\n",
              "    .dataframe tbody tr th {\n",
              "        vertical-align: top;\n",
              "    }\n",
              "\n",
              "    .dataframe thead th {\n",
              "        text-align: right;\n",
              "    }\n",
              "</style>\n",
              "<table border=\"1\" class=\"dataframe\">\n",
              "  <thead>\n",
              "    <tr style=\"text-align: right;\">\n",
              "      <th></th>\n",
              "      <th>acousticness</th>\n",
              "      <th>danceability</th>\n",
              "      <th>duration</th>\n",
              "      <th>energy</th>\n",
              "      <th>instrumentalness</th>\n",
              "      <th>key</th>\n",
              "      <th>liveness</th>\n",
              "      <th>loudness</th>\n",
              "      <th>mode</th>\n",
              "      <th>speechiness</th>\n",
              "      <th>tempo</th>\n",
              "      <th>time_signature</th>\n",
              "      <th>valence</th>\n",
              "      <th>label</th>\n",
              "    </tr>\n",
              "  </thead>\n",
              "  <tbody>\n",
              "    <tr>\n",
              "      <th>0</th>\n",
              "      <td>0.713</td>\n",
              "      <td>0.514</td>\n",
              "      <td>100125</td>\n",
              "      <td>0.521</td>\n",
              "      <td>0.816000</td>\n",
              "      <td>8</td>\n",
              "      <td>0.1120</td>\n",
              "      <td>-14.835</td>\n",
              "      <td>0</td>\n",
              "      <td>0.0444</td>\n",
              "      <td>119.879</td>\n",
              "      <td>4</td>\n",
              "      <td>0.143</td>\n",
              "      <td>1</td>\n",
              "    </tr>\n",
              "    <tr>\n",
              "      <th>1</th>\n",
              "      <td>0.192</td>\n",
              "      <td>0.714</td>\n",
              "      <td>207019</td>\n",
              "      <td>0.614</td>\n",
              "      <td>0.000000</td>\n",
              "      <td>4</td>\n",
              "      <td>0.2630</td>\n",
              "      <td>-6.935</td>\n",
              "      <td>1</td>\n",
              "      <td>0.0319</td>\n",
              "      <td>123.969</td>\n",
              "      <td>4</td>\n",
              "      <td>0.582</td>\n",
              "      <td>1</td>\n",
              "    </tr>\n",
              "    <tr>\n",
              "      <th>2</th>\n",
              "      <td>0.333</td>\n",
              "      <td>0.630</td>\n",
              "      <td>216200</td>\n",
              "      <td>0.455</td>\n",
              "      <td>0.000004</td>\n",
              "      <td>5</td>\n",
              "      <td>0.1270</td>\n",
              "      <td>-9.290</td>\n",
              "      <td>1</td>\n",
              "      <td>0.0292</td>\n",
              "      <td>139.931</td>\n",
              "      <td>4</td>\n",
              "      <td>0.199</td>\n",
              "      <td>1</td>\n",
              "    </tr>\n",
              "    <tr>\n",
              "      <th>3</th>\n",
              "      <td>0.601</td>\n",
              "      <td>0.810</td>\n",
              "      <td>136413</td>\n",
              "      <td>0.221</td>\n",
              "      <td>0.210000</td>\n",
              "      <td>5</td>\n",
              "      <td>0.1840</td>\n",
              "      <td>-11.005</td>\n",
              "      <td>1</td>\n",
              "      <td>0.0429</td>\n",
              "      <td>109.960</td>\n",
              "      <td>4</td>\n",
              "      <td>0.798</td>\n",
              "      <td>1</td>\n",
              "    </tr>\n",
              "    <tr>\n",
              "      <th>4</th>\n",
              "      <td>0.883</td>\n",
              "      <td>0.465</td>\n",
              "      <td>181440</td>\n",
              "      <td>0.459</td>\n",
              "      <td>0.000173</td>\n",
              "      <td>6</td>\n",
              "      <td>0.0692</td>\n",
              "      <td>-8.137</td>\n",
              "      <td>0</td>\n",
              "      <td>0.0351</td>\n",
              "      <td>90.807</td>\n",
              "      <td>4</td>\n",
              "      <td>0.288</td>\n",
              "      <td>1</td>\n",
              "    </tr>\n",
              "    <tr>\n",
              "      <th>5</th>\n",
              "      <td>0.524</td>\n",
              "      <td>0.633</td>\n",
              "      <td>244360</td>\n",
              "      <td>0.401</td>\n",
              "      <td>0.000000</td>\n",
              "      <td>4</td>\n",
              "      <td>0.1230</td>\n",
              "      <td>-12.549</td>\n",
              "      <td>1</td>\n",
              "      <td>0.0439</td>\n",
              "      <td>134.978</td>\n",
              "      <td>4</td>\n",
              "      <td>0.523</td>\n",
              "      <td>1</td>\n",
              "    </tr>\n",
              "    <tr>\n",
              "      <th>6</th>\n",
              "      <td>0.597</td>\n",
              "      <td>0.507</td>\n",
              "      <td>183573</td>\n",
              "      <td>0.795</td>\n",
              "      <td>0.000000</td>\n",
              "      <td>9</td>\n",
              "      <td>0.2960</td>\n",
              "      <td>-6.966</td>\n",
              "      <td>1</td>\n",
              "      <td>0.0607</td>\n",
              "      <td>165.540</td>\n",
              "      <td>4</td>\n",
              "      <td>0.900</td>\n",
              "      <td>0</td>\n",
              "    </tr>\n",
              "    <tr>\n",
              "      <th>7</th>\n",
              "      <td>0.452</td>\n",
              "      <td>0.825</td>\n",
              "      <td>259102</td>\n",
              "      <td>0.435</td>\n",
              "      <td>0.609000</td>\n",
              "      <td>1</td>\n",
              "      <td>0.0953</td>\n",
              "      <td>-9.582</td>\n",
              "      <td>1</td>\n",
              "      <td>0.0568</td>\n",
              "      <td>119.038</td>\n",
              "      <td>4</td>\n",
              "      <td>0.243</td>\n",
              "      <td>1</td>\n",
              "    </tr>\n",
              "    <tr>\n",
              "      <th>8</th>\n",
              "      <td>0.748</td>\n",
              "      <td>0.420</td>\n",
              "      <td>366179</td>\n",
              "      <td>0.324</td>\n",
              "      <td>0.839000</td>\n",
              "      <td>9</td>\n",
              "      <td>0.0723</td>\n",
              "      <td>-14.700</td>\n",
              "      <td>0</td>\n",
              "      <td>0.0556</td>\n",
              "      <td>183.020</td>\n",
              "      <td>3</td>\n",
              "      <td>0.330</td>\n",
              "      <td>1</td>\n",
              "    </tr>\n",
              "    <tr>\n",
              "      <th>9</th>\n",
              "      <td>0.913</td>\n",
              "      <td>0.292</td>\n",
              "      <td>197613</td>\n",
              "      <td>0.246</td>\n",
              "      <td>0.088300</td>\n",
              "      <td>0</td>\n",
              "      <td>0.2090</td>\n",
              "      <td>-9.758</td>\n",
              "      <td>1</td>\n",
              "      <td>0.0330</td>\n",
              "      <td>140.316</td>\n",
              "      <td>4</td>\n",
              "      <td>0.249</td>\n",
              "      <td>1</td>\n",
              "    </tr>\n",
              "  </tbody>\n",
              "</table>\n",
              "</div>\n",
              "      <button class=\"colab-df-convert\" onclick=\"convertToInteractive('df-b04048aa-e452-413b-b76f-02e4df7885fb')\"\n",
              "              title=\"Convert this dataframe to an interactive table.\"\n",
              "              style=\"display:none;\">\n",
              "        \n",
              "  <svg xmlns=\"http://www.w3.org/2000/svg\" height=\"24px\"viewBox=\"0 0 24 24\"\n",
              "       width=\"24px\">\n",
              "    <path d=\"M0 0h24v24H0V0z\" fill=\"none\"/>\n",
              "    <path d=\"M18.56 5.44l.94 2.06.94-2.06 2.06-.94-2.06-.94-.94-2.06-.94 2.06-2.06.94zm-11 1L8.5 8.5l.94-2.06 2.06-.94-2.06-.94L8.5 2.5l-.94 2.06-2.06.94zm10 10l.94 2.06.94-2.06 2.06-.94-2.06-.94-.94-2.06-.94 2.06-2.06.94z\"/><path d=\"M17.41 7.96l-1.37-1.37c-.4-.4-.92-.59-1.43-.59-.52 0-1.04.2-1.43.59L10.3 9.45l-7.72 7.72c-.78.78-.78 2.05 0 2.83L4 21.41c.39.39.9.59 1.41.59.51 0 1.02-.2 1.41-.59l7.78-7.78 2.81-2.81c.8-.78.8-2.07 0-2.86zM5.41 20L4 18.59l7.72-7.72 1.47 1.35L5.41 20z\"/>\n",
              "  </svg>\n",
              "      </button>\n",
              "      \n",
              "  <style>\n",
              "    .colab-df-container {\n",
              "      display:flex;\n",
              "      flex-wrap:wrap;\n",
              "      gap: 12px;\n",
              "    }\n",
              "\n",
              "    .colab-df-convert {\n",
              "      background-color: #E8F0FE;\n",
              "      border: none;\n",
              "      border-radius: 50%;\n",
              "      cursor: pointer;\n",
              "      display: none;\n",
              "      fill: #1967D2;\n",
              "      height: 32px;\n",
              "      padding: 0 0 0 0;\n",
              "      width: 32px;\n",
              "    }\n",
              "\n",
              "    .colab-df-convert:hover {\n",
              "      background-color: #E2EBFA;\n",
              "      box-shadow: 0px 1px 2px rgba(60, 64, 67, 0.3), 0px 1px 3px 1px rgba(60, 64, 67, 0.15);\n",
              "      fill: #174EA6;\n",
              "    }\n",
              "\n",
              "    [theme=dark] .colab-df-convert {\n",
              "      background-color: #3B4455;\n",
              "      fill: #D2E3FC;\n",
              "    }\n",
              "\n",
              "    [theme=dark] .colab-df-convert:hover {\n",
              "      background-color: #434B5C;\n",
              "      box-shadow: 0px 1px 3px 1px rgba(0, 0, 0, 0.15);\n",
              "      filter: drop-shadow(0px 1px 2px rgba(0, 0, 0, 0.3));\n",
              "      fill: #FFFFFF;\n",
              "    }\n",
              "  </style>\n",
              "\n",
              "      <script>\n",
              "        const buttonEl =\n",
              "          document.querySelector('#df-b04048aa-e452-413b-b76f-02e4df7885fb button.colab-df-convert');\n",
              "        buttonEl.style.display =\n",
              "          google.colab.kernel.accessAllowed ? 'block' : 'none';\n",
              "\n",
              "        async function convertToInteractive(key) {\n",
              "          const element = document.querySelector('#df-b04048aa-e452-413b-b76f-02e4df7885fb');\n",
              "          const dataTable =\n",
              "            await google.colab.kernel.invokeFunction('convertToInteractive',\n",
              "                                                     [key], {});\n",
              "          if (!dataTable) return;\n",
              "\n",
              "          const docLinkHtml = 'Like what you see? Visit the ' +\n",
              "            '<a target=\"_blank\" href=https://colab.research.google.com/notebooks/data_table.ipynb>data table notebook</a>'\n",
              "            + ' to learn more about interactive tables.';\n",
              "          element.innerHTML = '';\n",
              "          dataTable['output_type'] = 'display_data';\n",
              "          await google.colab.output.renderOutput(dataTable, element);\n",
              "          const docLink = document.createElement('div');\n",
              "          docLink.innerHTML = docLinkHtml;\n",
              "          element.appendChild(docLink);\n",
              "        }\n",
              "      </script>\n",
              "    </div>\n",
              "  </div>\n",
              "  "
            ]
          },
          "metadata": {},
          "execution_count": 4
        }
      ],
      "source": [
        "# Show first 10 rows\n",
        "df.head(10)"
      ]
    },
    {
      "cell_type": "code",
      "execution_count": 5,
      "id": "443454c8",
      "metadata": {
        "id": "443454c8",
        "outputId": "c9e7ad0a-2d13-47a0-cca9-aaf794182226",
        "colab": {
          "base_uri": "https://localhost:8080/"
        }
      },
      "outputs": [
        {
          "output_type": "execute_result",
          "data": {
            "text/plain": [
              "(750, 14)"
            ]
          },
          "metadata": {},
          "execution_count": 5
        }
      ],
      "source": [
        "# Show dataset shape\n",
        "df.shape"
      ]
    },
    {
      "cell_type": "markdown",
      "id": "521da494",
      "metadata": {
        "id": "521da494"
      },
      "source": [
        "## 1. Análisis de datos faltantes"
      ]
    },
    {
      "cell_type": "code",
      "execution_count": 6,
      "id": "ebb0b31f",
      "metadata": {
        "id": "ebb0b31f",
        "outputId": "a1795031-bf81-4f0a-83a7-d8046b0775c3",
        "colab": {
          "base_uri": "https://localhost:8080/"
        }
      },
      "outputs": [
        {
          "output_type": "execute_result",
          "data": {
            "text/plain": [
              "acousticness        0\n",
              "danceability        0\n",
              "duration            0\n",
              "energy              0\n",
              "instrumentalness    0\n",
              "key                 0\n",
              "liveness            0\n",
              "loudness            0\n",
              "mode                0\n",
              "speechiness         0\n",
              "tempo               0\n",
              "time_signature      0\n",
              "valence             0\n",
              "label               0\n",
              "dtype: int64"
            ]
          },
          "metadata": {},
          "execution_count": 6
        }
      ],
      "source": [
        "df.isna().sum()"
      ]
    },
    {
      "cell_type": "markdown",
      "id": "ae168161",
      "metadata": {
        "id": "ae168161"
      },
      "source": [
        "- No se evidencia la presencia de valores faltantes ni nulos, por este motivo, no se aplican técnicas de imputación."
      ]
    },
    {
      "cell_type": "markdown",
      "id": "52fcfb02",
      "metadata": {
        "id": "52fcfb02"
      },
      "source": [
        "## 2. Pre-procesamiento de las variables"
      ]
    },
    {
      "cell_type": "code",
      "execution_count": 7,
      "id": "fd10d30b",
      "metadata": {
        "id": "fd10d30b"
      },
      "outputs": [],
      "source": [
        "numerical_features = ['acousticness', 'danceability', 'energy', 'instrumentalness', 'liveness', 'loudness', 'speechiness', 'valence']\n",
        "categorical_features = ['key', 'mode', 'time_signature']\n",
        "special_categorical_features = ['tempo']"
      ]
    },
    {
      "cell_type": "code",
      "execution_count": 8,
      "id": "62c562ad",
      "metadata": {
        "id": "62c562ad"
      },
      "outputs": [],
      "source": [
        "X = df[numerical_features + categorical_features + special_categorical_features]\n",
        "y = df['label']"
      ]
    },
    {
      "cell_type": "code",
      "execution_count": 9,
      "id": "9a36bee0",
      "metadata": {
        "id": "9a36bee0"
      },
      "outputs": [],
      "source": [
        "def print_info(var, is_numeric=True):\n",
        "    print(\"*\" * 50)\n",
        "    print(f\"Variable: {var}\")\n",
        "    cant_unique = len(df[var].unique())\n",
        "    if is_numeric:\n",
        "        print(f\"La variable oscila entre los siguientes valores: {df[var].min()} - {df[var].max()}\")\n",
        "    else:\n",
        "        \n",
        "        if cant_unique < 10:\n",
        "            print(f\"Categorías: {df[var].unique()}\")\n",
        "    print(f\"La variable tiene {cant_unique} valores únicos\")"
      ]
    },
    {
      "cell_type": "markdown",
      "id": "b94ba929",
      "metadata": {
        "id": "b94ba929"
      },
      "source": [
        "### Definición de las técnicas a utilizar:"
      ]
    },
    {
      "cell_type": "markdown",
      "id": "3533f97b",
      "metadata": {
        "id": "3533f97b"
      },
      "source": [
        "### 1. Variables numéricas:"
      ]
    },
    {
      "cell_type": "markdown",
      "id": "08f89b3d",
      "metadata": {
        "id": "08f89b3d"
      },
      "source": [
        "### Información"
      ]
    },
    {
      "cell_type": "code",
      "execution_count": 10,
      "id": "4fd43b6f",
      "metadata": {
        "id": "4fd43b6f",
        "outputId": "cc21f0af-d972-4e94-cb14-43ccaeec6aaa",
        "colab": {
          "base_uri": "https://localhost:8080/"
        }
      },
      "outputs": [
        {
          "output_type": "stream",
          "name": "stdout",
          "text": [
            "**************************************************\n",
            "Variable: acousticness\n",
            "La variable oscila entre los siguientes valores: 1.17e-06 - 0.994\n",
            "La variable tiene 596 valores únicos\n",
            "**************************************************\n",
            "Variable: danceability\n",
            "La variable oscila entre los siguientes valores: 0.107 - 0.986\n",
            "La variable tiene 458 valores únicos\n",
            "**************************************************\n",
            "Variable: energy\n",
            "La variable oscila entre los siguientes valores: 0.00925 - 0.995\n",
            "La variable tiene 502 valores únicos\n",
            "**************************************************\n",
            "Variable: instrumentalness\n",
            "La variable oscila entre los siguientes valores: 0.0 - 0.967\n",
            "La variable tiene 431 valores únicos\n",
            "**************************************************\n",
            "Variable: liveness\n",
            "La variable oscila entre los siguientes valores: 0.024 - 0.979\n",
            "La variable tiene 445 valores únicos\n",
            "**************************************************\n",
            "Variable: loudness\n",
            "La variable oscila entre los siguientes valores: -29.601 - -0.533\n",
            "La variable tiene 710 valores únicos\n",
            "**************************************************\n",
            "Variable: speechiness\n",
            "La variable oscila entre los siguientes valores: 0.0234 - 0.721\n",
            "La variable tiene 457 valores únicos\n",
            "**************************************************\n",
            "Variable: valence\n",
            "La variable oscila entre los siguientes valores: 0.0332 - 0.975\n",
            "La variable tiene 487 valores únicos\n"
          ]
        }
      ],
      "source": [
        "for var in numerical_features:\n",
        "    print_info(var)"
      ]
    },
    {
      "cell_type": "markdown",
      "id": "b4cd848d",
      "metadata": {
        "id": "b4cd848d"
      },
      "source": [
        "### Técnicas a utilizar\n",
        "\n",
        "- **Feature Scaling**: Estandarización, Escalado a mínimo-máximo\n",
        "- **Transformación de variables**: Yeo-Johnson (debido a que admite variables positivas y negativas)"
      ]
    },
    {
      "cell_type": "markdown",
      "id": "82f9c35b",
      "metadata": {
        "id": "82f9c35b"
      },
      "source": [
        "### 2. Variables categóricas"
      ]
    },
    {
      "cell_type": "markdown",
      "id": "f01ee88d",
      "metadata": {
        "id": "f01ee88d"
      },
      "source": [
        "### Información"
      ]
    },
    {
      "cell_type": "code",
      "execution_count": 11,
      "id": "041fc0aa",
      "metadata": {
        "id": "041fc0aa",
        "outputId": "d3c58536-5a1e-43cf-920f-ffbe6f446009",
        "colab": {
          "base_uri": "https://localhost:8080/"
        }
      },
      "outputs": [
        {
          "output_type": "stream",
          "name": "stdout",
          "text": [
            "**************************************************\n",
            "Variable: key\n",
            "La variable tiene 12 valores únicos\n",
            "**************************************************\n",
            "Variable: mode\n",
            "Categorías: [0 1]\n",
            "La variable tiene 2 valores únicos\n",
            "**************************************************\n",
            "Variable: time_signature\n",
            "Categorías: [4 3 5 1]\n",
            "La variable tiene 4 valores únicos\n"
          ]
        }
      ],
      "source": [
        "for var in categorical_features:\n",
        "    print_info(var, is_numeric=False)"
      ]
    },
    {
      "cell_type": "code",
      "execution_count": 12,
      "id": "ff479a2c",
      "metadata": {
        "id": "ff479a2c",
        "outputId": "5937a267-12b0-4eb0-fbc5-8c53bd2df451",
        "colab": {
          "base_uri": "https://localhost:8080/"
        }
      },
      "outputs": [
        {
          "output_type": "stream",
          "name": "stdout",
          "text": [
            "**************************************************\n",
            "Variable: tempo\n",
            "La variable oscila entre los siguientes valores: 55.747 - 204.162\n",
            "La variable tiene 729 valores únicos\n"
          ]
        }
      ],
      "source": [
        "print_info('tempo')"
      ]
    },
    {
      "cell_type": "markdown",
      "id": "d9141dba",
      "metadata": {
        "id": "d9141dba"
      },
      "source": [
        "### Técnicas a utilizar\n",
        "\n",
        "**Variables**:\n",
        "- key\n",
        "- mode\n",
        "- tempo\n",
        "\n",
        "Codificación: One-Hot-Encoding\n",
        "\n",
        "**Variable**:\n",
        "time_Signature\n",
        "\n",
        "Codificación: Discretización (binning) + One-Hot-Encoding"
      ]
    },
    {
      "cell_type": "markdown",
      "id": "51f2ea0a",
      "metadata": {
        "id": "51f2ea0a"
      },
      "source": [
        "## Pipelines de pre-procesamiento"
      ]
    },
    {
      "cell_type": "markdown",
      "id": "f18e0641",
      "metadata": {
        "id": "f18e0641"
      },
      "source": [
        "#### Pipelines variables numéricas"
      ]
    },
    {
      "cell_type": "code",
      "execution_count": 13,
      "id": "7dbb579f",
      "metadata": {
        "id": "7dbb579f"
      },
      "outputs": [],
      "source": [
        "numeric_std_transformer = Pipeline(steps=[\n",
        "    ('scaler', StandardScaler()),\n",
        "    ('power', PowerTransformer(method='yeo-johnson'))])"
      ]
    },
    {
      "cell_type": "code",
      "execution_count": 14,
      "id": "8f30df90",
      "metadata": {
        "id": "8f30df90"
      },
      "outputs": [],
      "source": [
        "numeric_minmax_transformer = Pipeline(steps=[\n",
        "    ('scaler', MinMaxScaler()),\n",
        "    ('power', PowerTransformer(method='yeo-johnson'))])"
      ]
    },
    {
      "cell_type": "markdown",
      "id": "9c4b278e",
      "metadata": {
        "id": "9c4b278e"
      },
      "source": [
        "#### Pipelines variables categóricas"
      ]
    },
    {
      "cell_type": "code",
      "execution_count": 15,
      "id": "cb12d088",
      "metadata": {
        "id": "cb12d088"
      },
      "outputs": [],
      "source": [
        "categorical_binning = KBinsDiscretizer(n_bins=10, encode='onehot' , strategy='uniform' )"
      ]
    },
    {
      "cell_type": "code",
      "execution_count": 16,
      "id": "3d45c8fd",
      "metadata": {
        "id": "3d45c8fd"
      },
      "outputs": [],
      "source": [
        "categorical_transformer = OneHotEncoder(handle_unknown='ignore')"
      ]
    },
    {
      "cell_type": "markdown",
      "id": "5bc9db5e",
      "metadata": {
        "id": "5bc9db5e"
      },
      "source": [
        "### Column transformer"
      ]
    },
    {
      "cell_type": "code",
      "execution_count": 17,
      "id": "d5134612",
      "metadata": {
        "id": "d5134612"
      },
      "outputs": [],
      "source": [
        "preprocessor_std = ColumnTransformer(\n",
        "    transformers=[\n",
        "        ('num', numeric_std_transformer, numerical_features),\n",
        "        ('cat', categorical_transformer, categorical_features),\n",
        "        ('cat_bin', categorical_binning, special_categorical_features)])"
      ]
    },
    {
      "cell_type": "code",
      "execution_count": 18,
      "id": "80e23bb6",
      "metadata": {
        "id": "80e23bb6"
      },
      "outputs": [],
      "source": [
        "preprocessor_min_max = ColumnTransformer(\n",
        "    transformers=[\n",
        "        ('num', numeric_minmax_transformer, numerical_features),\n",
        "        ('cat', categorical_transformer, categorical_features),\n",
        "        ('cat_bin', categorical_binning, special_categorical_features)])"
      ]
    },
    {
      "cell_type": "markdown",
      "id": "79ca14a1",
      "metadata": {
        "id": "79ca14a1"
      },
      "source": [
        "### Pipeline "
      ]
    },
    {
      "cell_type": "code",
      "execution_count": 19,
      "id": "0d3a8052",
      "metadata": {
        "id": "0d3a8052"
      },
      "outputs": [],
      "source": [
        "preprocessing_std = Pipeline(steps=[('preprocessor', preprocessor_std),])"
      ]
    },
    {
      "cell_type": "code",
      "execution_count": 20,
      "id": "4615de39",
      "metadata": {
        "id": "4615de39"
      },
      "outputs": [],
      "source": [
        "preprocessing_min_max = Pipeline(steps=[('preprocessor', preprocessor_min_max),])"
      ]
    },
    {
      "cell_type": "markdown",
      "id": "0a330593",
      "metadata": {
        "id": "0a330593"
      },
      "source": [
        "### Experimentation"
      ]
    },
    {
      "cell_type": "markdown",
      "id": "6c6c5e07",
      "metadata": {
        "id": "6c6c5e07"
      },
      "source": [
        "#### Define models"
      ]
    },
    {
      "cell_type": "code",
      "execution_count": 21,
      "id": "80fd2b14",
      "metadata": {
        "id": "80fd2b14"
      },
      "outputs": [],
      "source": [
        "logistic_regresion_std_model = Pipeline(steps=[('preprocessor', preprocessing_std),\n",
        "                       ('classifier', LogisticRegression())])"
      ]
    },
    {
      "cell_type": "code",
      "execution_count": 22,
      "id": "799db782",
      "metadata": {
        "id": "799db782"
      },
      "outputs": [],
      "source": [
        "logistic_regresion_min_max_model = Pipeline(steps=[('preprocessor', preprocessing_min_max),\n",
        "                       ('classifier', LogisticRegression())])"
      ]
    },
    {
      "cell_type": "code",
      "execution_count": 23,
      "id": "1857baad",
      "metadata": {
        "id": "1857baad"
      },
      "outputs": [],
      "source": [
        "decision_tree_std_pipe = Pipeline(steps=[('preprocessor', preprocessing_std),\n",
        "                       ('classifier', DecisionTreeClassifier())])"
      ]
    },
    {
      "cell_type": "code",
      "execution_count": 24,
      "id": "814c3c11",
      "metadata": {
        "id": "814c3c11"
      },
      "outputs": [],
      "source": [
        "decision_tree_min_max_pipe = Pipeline(steps=[('preprocessor', preprocessing_min_max),\n",
        "                       ('classifier', DecisionTreeClassifier())])"
      ]
    },
    {
      "cell_type": "code",
      "execution_count": 25,
      "id": "c776f3ac",
      "metadata": {
        "id": "c776f3ac"
      },
      "outputs": [],
      "source": [
        "random_forest_std_pipe = Pipeline(steps=[('preprocessor', preprocessing_std),\n",
        "                       ('classifier', RandomForestClassifier())])"
      ]
    },
    {
      "cell_type": "code",
      "execution_count": 26,
      "id": "a8f24d5b",
      "metadata": {
        "id": "a8f24d5b"
      },
      "outputs": [],
      "source": [
        "random_forest_std_pipe = Pipeline(steps=[('preprocessor', preprocessing_min_max),\n",
        "                       ('classifier', RandomForestClassifier())])"
      ]
    },
    {
      "cell_type": "code",
      "execution_count": 27,
      "id": "56e0678f",
      "metadata": {
        "id": "56e0678f"
      },
      "outputs": [],
      "source": [
        "param_grid = {\n",
        "    'classifier__max_depth': [15, 30, 45],\n",
        "    'classifier__criterion': ['gini', 'entropy', 'log_loss'],\n",
        "}"
      ]
    },
    {
      "cell_type": "code",
      "execution_count": 28,
      "id": "07421dd6",
      "metadata": {
        "id": "07421dd6"
      },
      "outputs": [],
      "source": [
        "random_forest_params = {\n",
        "    'classifier__n_estimators': [50, 100, 150],\n",
        "}"
      ]
    },
    {
      "cell_type": "code",
      "execution_count": 29,
      "id": "13bd765f",
      "metadata": {
        "id": "13bd765f"
      },
      "outputs": [],
      "source": [
        "param_grid_random_forest = dict(param_grid)\n",
        "param_grid_random_forest.update(random_forest_params)"
      ]
    },
    {
      "cell_type": "code",
      "execution_count": 30,
      "id": "0dfbb9b6",
      "metadata": {
        "id": "0dfbb9b6"
      },
      "outputs": [],
      "source": [
        "# Grid Search - Models\n",
        "gs_decision_tree_std = GridSearchCV(decision_tree_std_pipe, param_grid, cv=5, n_jobs=-1, verbose=3)\n",
        "gs_decision_tree_min_max = GridSearchCV(decision_tree_min_max_pipe, param_grid, cv=5, n_jobs=-1, verbose=3)\n",
        "\n",
        "gs_random_forest_std = GridSearchCV(random_forest_std_pipe, param_grid, cv=5, n_jobs=-1, verbose=3)\n",
        "gs_random_forest_min_max = GridSearchCV(random_forest_std_pipe, param_grid, cv=5, n_jobs=-1, verbose=3)"
      ]
    },
    {
      "cell_type": "markdown",
      "id": "5b3d7e7a",
      "metadata": {
        "id": "5b3d7e7a"
      },
      "source": [
        "#### Metric report"
      ]
    },
    {
      "cell_type": "code",
      "execution_count": 31,
      "id": "385b618a",
      "metadata": {
        "id": "385b618a"
      },
      "outputs": [],
      "source": [
        "def metric_report(y_test, y_pred, y_proba):  \n",
        "    print(classification_report(y_test, y_pred))  \n",
        "    print('Area bajo la curva ROC:',np.round(roc_auc_score(y_test, y_proba[:,1]), 4)) \n",
        "    precision, recall,threshold=precision_recall_curve(y_test, y_proba[:,1]);\n",
        "    print('Area bajo la curva Precision-Recall:',np.round(auc(recall, precision), 4))"
      ]
    },
    {
      "cell_type": "markdown",
      "id": "83415194",
      "metadata": {
        "id": "83415194"
      },
      "source": [
        "#### Train-Test Split"
      ]
    },
    {
      "cell_type": "code",
      "execution_count": 32,
      "id": "4bd7eb64",
      "metadata": {
        "id": "4bd7eb64"
      },
      "outputs": [],
      "source": [
        "X_train, X_test, y_train, y_test = train_test_split(X, y, test_size=0.2, random_state=42)"
      ]
    },
    {
      "cell_type": "markdown",
      "id": "b7dd7e5d",
      "metadata": {
        "id": "b7dd7e5d"
      },
      "source": [
        "### Experimentation"
      ]
    },
    {
      "cell_type": "markdown",
      "id": "7d16e0c3",
      "metadata": {
        "id": "7d16e0c3"
      },
      "source": [
        "#### 1. Logistic Regression - Numeric: Standard Scaler + Yeo-Jhonson"
      ]
    },
    {
      "cell_type": "code",
      "execution_count": 33,
      "id": "5a88fb3c",
      "metadata": {
        "id": "5a88fb3c",
        "outputId": "0b3a2bd8-35e4-411a-fb5a-d8ec10fd377e",
        "colab": {
          "base_uri": "https://localhost:8080/"
        }
      },
      "outputs": [
        {
          "output_type": "execute_result",
          "data": {
            "text/plain": [
              "Pipeline(steps=[('preprocessor',\n",
              "                 Pipeline(steps=[('preprocessor',\n",
              "                                  ColumnTransformer(transformers=[('num',\n",
              "                                                                   Pipeline(steps=[('scaler',\n",
              "                                                                                    StandardScaler()),\n",
              "                                                                                   ('power',\n",
              "                                                                                    PowerTransformer())]),\n",
              "                                                                   ['acousticness',\n",
              "                                                                    'danceability',\n",
              "                                                                    'energy',\n",
              "                                                                    'instrumentalness',\n",
              "                                                                    'liveness',\n",
              "                                                                    'loudness',\n",
              "                                                                    'speechiness',\n",
              "                                                                    'valence']),\n",
              "                                                                  ('cat',\n",
              "                                                                   OneHotEncoder(handle_unknown='ignore'),\n",
              "                                                                   ['key',\n",
              "                                                                    'mode',\n",
              "                                                                    'time_signature']),\n",
              "                                                                  ('cat_bin',\n",
              "                                                                   KBinsDiscretizer(n_bins=10,\n",
              "                                                                                    strategy='uniform'),\n",
              "                                                                   ['tempo'])]))])),\n",
              "                ('classifier', LogisticRegression())])"
            ]
          },
          "metadata": {},
          "execution_count": 33
        }
      ],
      "source": [
        "logistic_regresion_std_model.fit(X_train, y_train)"
      ]
    },
    {
      "cell_type": "code",
      "execution_count": 34,
      "id": "29693086",
      "metadata": {
        "id": "29693086"
      },
      "outputs": [],
      "source": [
        "y_pred = logistic_regresion_std_model.predict(X_test)\n",
        "y_proba = logistic_regresion_std_model.predict_proba(X_test)"
      ]
    },
    {
      "cell_type": "code",
      "execution_count": 35,
      "id": "b9adceec",
      "metadata": {
        "id": "b9adceec",
        "outputId": "5a4fddf7-98c6-4768-83f7-f1e57eda0716",
        "colab": {
          "base_uri": "https://localhost:8080/"
        }
      },
      "outputs": [
        {
          "output_type": "stream",
          "name": "stdout",
          "text": [
            "              precision    recall  f1-score   support\n",
            "\n",
            "           0       0.67      0.76      0.71        54\n",
            "           1       0.85      0.79      0.82        96\n",
            "\n",
            "    accuracy                           0.78       150\n",
            "   macro avg       0.76      0.78      0.77       150\n",
            "weighted avg       0.79      0.78      0.78       150\n",
            "\n",
            "Area bajo la curva ROC: 0.8773\n",
            "Area bajo la curva Precision-Recall: 0.9142\n"
          ]
        }
      ],
      "source": [
        "metric_report(y_test, y_pred, y_proba)"
      ]
    },
    {
      "cell_type": "markdown",
      "id": "443b169d",
      "metadata": {
        "id": "443b169d"
      },
      "source": [
        "#### 2. Logistic Regression - Numeric: MinMax + Yeo-Jhonson "
      ]
    },
    {
      "cell_type": "code",
      "execution_count": 36,
      "id": "4f1e09f1",
      "metadata": {
        "id": "4f1e09f1",
        "outputId": "dfbb39fd-3e10-40fc-b895-01b26e5b3ec7",
        "colab": {
          "base_uri": "https://localhost:8080/"
        }
      },
      "outputs": [
        {
          "output_type": "execute_result",
          "data": {
            "text/plain": [
              "Pipeline(steps=[('preprocessor',\n",
              "                 Pipeline(steps=[('preprocessor',\n",
              "                                  ColumnTransformer(transformers=[('num',\n",
              "                                                                   Pipeline(steps=[('scaler',\n",
              "                                                                                    MinMaxScaler()),\n",
              "                                                                                   ('power',\n",
              "                                                                                    PowerTransformer())]),\n",
              "                                                                   ['acousticness',\n",
              "                                                                    'danceability',\n",
              "                                                                    'energy',\n",
              "                                                                    'instrumentalness',\n",
              "                                                                    'liveness',\n",
              "                                                                    'loudness',\n",
              "                                                                    'speechiness',\n",
              "                                                                    'valence']),\n",
              "                                                                  ('cat',\n",
              "                                                                   OneHotEncoder(handle_unknown='ignore'),\n",
              "                                                                   ['key',\n",
              "                                                                    'mode',\n",
              "                                                                    'time_signature']),\n",
              "                                                                  ('cat_bin',\n",
              "                                                                   KBinsDiscretizer(n_bins=10,\n",
              "                                                                                    strategy='uniform'),\n",
              "                                                                   ['tempo'])]))])),\n",
              "                ('classifier', LogisticRegression())])"
            ]
          },
          "metadata": {},
          "execution_count": 36
        }
      ],
      "source": [
        "logistic_regresion_min_max_model.fit(X_train, y_train)"
      ]
    },
    {
      "cell_type": "code",
      "execution_count": 37,
      "id": "b65f6fca",
      "metadata": {
        "id": "b65f6fca"
      },
      "outputs": [],
      "source": [
        "y_pred = logistic_regresion_std_model.predict(X_test)\n",
        "y_proba = logistic_regresion_std_model.predict_proba(X_test)"
      ]
    },
    {
      "cell_type": "code",
      "execution_count": 38,
      "id": "6e94a608",
      "metadata": {
        "id": "6e94a608",
        "outputId": "06604311-d14a-4296-a302-172e2c106a98",
        "colab": {
          "base_uri": "https://localhost:8080/"
        }
      },
      "outputs": [
        {
          "output_type": "stream",
          "name": "stdout",
          "text": [
            "              precision    recall  f1-score   support\n",
            "\n",
            "           0       0.67      0.76      0.71        54\n",
            "           1       0.85      0.79      0.82        96\n",
            "\n",
            "    accuracy                           0.78       150\n",
            "   macro avg       0.76      0.78      0.77       150\n",
            "weighted avg       0.79      0.78      0.78       150\n",
            "\n",
            "Area bajo la curva ROC: 0.8773\n",
            "Area bajo la curva Precision-Recall: 0.9142\n"
          ]
        }
      ],
      "source": [
        "metric_report(y_test, y_pred, y_proba)"
      ]
    },
    {
      "cell_type": "markdown",
      "id": "cc6740d1",
      "metadata": {
        "id": "cc6740d1"
      },
      "source": [
        "### Decision Tree"
      ]
    },
    {
      "cell_type": "markdown",
      "id": "aa097943",
      "metadata": {
        "id": "aa097943"
      },
      "source": [
        "#### Decision tree: Numeric: Standard Scaler"
      ]
    },
    {
      "cell_type": "code",
      "execution_count": 39,
      "id": "aa30216a",
      "metadata": {
        "id": "aa30216a",
        "outputId": "a3727d14-0a14-47e7-964a-730af40478e5",
        "colab": {
          "base_uri": "https://localhost:8080/"
        }
      },
      "outputs": [
        {
          "output_type": "stream",
          "name": "stdout",
          "text": [
            "Fitting 5 folds for each of 9 candidates, totalling 45 fits\n"
          ]
        },
        {
          "output_type": "stream",
          "name": "stderr",
          "text": [
            "/usr/local/lib/python3.7/dist-packages/sklearn/model_selection/_validation.py:372: FitFailedWarning: \n",
            "15 fits failed out of a total of 45.\n",
            "The score on these train-test partitions for these parameters will be set to nan.\n",
            "If these failures are not expected, you can try to debug them by setting error_score='raise'.\n",
            "\n",
            "Below are more details about the failures:\n",
            "--------------------------------------------------------------------------------\n",
            "15 fits failed with the following error:\n",
            "Traceback (most recent call last):\n",
            "  File \"/usr/local/lib/python3.7/dist-packages/sklearn/model_selection/_validation.py\", line 680, in _fit_and_score\n",
            "    estimator.fit(X_train, y_train, **fit_params)\n",
            "  File \"/usr/local/lib/python3.7/dist-packages/sklearn/pipeline.py\", line 394, in fit\n",
            "    self._final_estimator.fit(Xt, y, **fit_params_last_step)\n",
            "  File \"/usr/local/lib/python3.7/dist-packages/sklearn/tree/_classes.py\", line 942, in fit\n",
            "    X_idx_sorted=X_idx_sorted,\n",
            "  File \"/usr/local/lib/python3.7/dist-packages/sklearn/tree/_classes.py\", line 352, in fit\n",
            "    criterion = CRITERIA_CLF[self.criterion](\n",
            "KeyError: 'log_loss'\n",
            "\n",
            "  warnings.warn(some_fits_failed_message, FitFailedWarning)\n",
            "/usr/local/lib/python3.7/dist-packages/sklearn/model_selection/_search.py:972: UserWarning: One or more of the test scores are non-finite: [0.76666667 0.78333333 0.76333333 0.77333333 0.78       0.78333333\n",
            "        nan        nan        nan]\n",
            "  category=UserWarning,\n"
          ]
        },
        {
          "output_type": "execute_result",
          "data": {
            "text/plain": [
              "GridSearchCV(cv=5,\n",
              "             estimator=Pipeline(steps=[('preprocessor',\n",
              "                                        Pipeline(steps=[('preprocessor',\n",
              "                                                         ColumnTransformer(transformers=[('num',\n",
              "                                                                                          Pipeline(steps=[('scaler',\n",
              "                                                                                                           StandardScaler()),\n",
              "                                                                                                          ('power',\n",
              "                                                                                                           PowerTransformer())]),\n",
              "                                                                                          ['acousticness',\n",
              "                                                                                           'danceability',\n",
              "                                                                                           'energy',\n",
              "                                                                                           'instrumentalness',\n",
              "                                                                                           'liveness',\n",
              "                                                                                           'loudness',\n",
              "                                                                                           'speechiness',\n",
              "                                                                                           'valence']),\n",
              "                                                                                         ('cat',\n",
              "                                                                                          OneHotEncoder(handle_unknown='ignore'),\n",
              "                                                                                          ['key',\n",
              "                                                                                           'mode',\n",
              "                                                                                           'time_signature']),\n",
              "                                                                                         ('cat_bin',\n",
              "                                                                                          KBinsDiscretizer(n_bins=10,\n",
              "                                                                                                           strategy='uniform'),\n",
              "                                                                                          ['tempo'])]))])),\n",
              "                                       ('classifier',\n",
              "                                        DecisionTreeClassifier())]),\n",
              "             n_jobs=-1,\n",
              "             param_grid={'classifier__criterion': ['gini', 'entropy',\n",
              "                                                   'log_loss'],\n",
              "                         'classifier__max_depth': [15, 30, 45]},\n",
              "             verbose=3)"
            ]
          },
          "metadata": {},
          "execution_count": 39
        }
      ],
      "source": [
        "gs_decision_tree_std.fit(X_train, y_train)"
      ]
    },
    {
      "cell_type": "code",
      "execution_count": 40,
      "id": "a81cc9de",
      "metadata": {
        "id": "a81cc9de",
        "outputId": "b2bb3260-3056-4b8e-e0ee-d97e15afec72",
        "colab": {
          "base_uri": "https://localhost:8080/",
          "height": 552
        }
      },
      "outputs": [
        {
          "output_type": "execute_result",
          "data": {
            "text/plain": [
              "   mean_fit_time  std_fit_time  mean_score_time  std_score_time  \\\n",
              "0       0.068156      0.006527         0.013855        0.002978   \n",
              "1       0.064942      0.002721         0.015250        0.002735   \n",
              "2       0.070769      0.007659         0.017422        0.006172   \n",
              "3       0.070863      0.005215         0.013143        0.000523   \n",
              "4       0.066167      0.004657         0.012998        0.000752   \n",
              "5       0.066443      0.003665         0.013250        0.000715   \n",
              "6       0.064750      0.010312         0.000000        0.000000   \n",
              "7       0.058962      0.005069         0.000000        0.000000   \n",
              "8       0.054350      0.008642         0.000000        0.000000   \n",
              "\n",
              "  param_classifier__criterion param_classifier__max_depth  \\\n",
              "0                        gini                          15   \n",
              "1                        gini                          30   \n",
              "2                        gini                          45   \n",
              "3                     entropy                          15   \n",
              "4                     entropy                          30   \n",
              "5                     entropy                          45   \n",
              "6                    log_loss                          15   \n",
              "7                    log_loss                          30   \n",
              "8                    log_loss                          45   \n",
              "\n",
              "                                              params  split0_test_score  \\\n",
              "0  {'classifier__criterion': 'gini', 'classifier_...           0.783333   \n",
              "1  {'classifier__criterion': 'gini', 'classifier_...           0.825000   \n",
              "2  {'classifier__criterion': 'gini', 'classifier_...           0.791667   \n",
              "3  {'classifier__criterion': 'entropy', 'classifi...           0.808333   \n",
              "4  {'classifier__criterion': 'entropy', 'classifi...           0.808333   \n",
              "5  {'classifier__criterion': 'entropy', 'classifi...           0.808333   \n",
              "6  {'classifier__criterion': 'log_loss', 'classif...                NaN   \n",
              "7  {'classifier__criterion': 'log_loss', 'classif...                NaN   \n",
              "8  {'classifier__criterion': 'log_loss', 'classif...                NaN   \n",
              "\n",
              "   split1_test_score  split2_test_score  split3_test_score  split4_test_score  \\\n",
              "0           0.800000           0.725000           0.783333           0.741667   \n",
              "1           0.850000           0.741667           0.775000           0.725000   \n",
              "2           0.808333           0.733333           0.766667           0.716667   \n",
              "3           0.775000           0.733333           0.783333           0.766667   \n",
              "4           0.791667           0.725000           0.825000           0.750000   \n",
              "5           0.800000           0.750000           0.808333           0.750000   \n",
              "6                NaN                NaN                NaN                NaN   \n",
              "7                NaN                NaN                NaN                NaN   \n",
              "8                NaN                NaN                NaN                NaN   \n",
              "\n",
              "   mean_test_score  std_test_score  rank_test_score  \n",
              "0         0.766667        0.028382                5  \n",
              "1         0.783333        0.047726                2  \n",
              "2         0.763333        0.034400                6  \n",
              "3         0.773333        0.024381                4  \n",
              "4         0.780000        0.037118                3  \n",
              "5         0.783333        0.027386                1  \n",
              "6              NaN             NaN                7  \n",
              "7              NaN             NaN                8  \n",
              "8              NaN             NaN                9  "
            ],
            "text/html": [
              "\n",
              "  <div id=\"df-b0ac6b60-86e3-4249-94ab-a3619704dc93\">\n",
              "    <div class=\"colab-df-container\">\n",
              "      <div>\n",
              "<style scoped>\n",
              "    .dataframe tbody tr th:only-of-type {\n",
              "        vertical-align: middle;\n",
              "    }\n",
              "\n",
              "    .dataframe tbody tr th {\n",
              "        vertical-align: top;\n",
              "    }\n",
              "\n",
              "    .dataframe thead th {\n",
              "        text-align: right;\n",
              "    }\n",
              "</style>\n",
              "<table border=\"1\" class=\"dataframe\">\n",
              "  <thead>\n",
              "    <tr style=\"text-align: right;\">\n",
              "      <th></th>\n",
              "      <th>mean_fit_time</th>\n",
              "      <th>std_fit_time</th>\n",
              "      <th>mean_score_time</th>\n",
              "      <th>std_score_time</th>\n",
              "      <th>param_classifier__criterion</th>\n",
              "      <th>param_classifier__max_depth</th>\n",
              "      <th>params</th>\n",
              "      <th>split0_test_score</th>\n",
              "      <th>split1_test_score</th>\n",
              "      <th>split2_test_score</th>\n",
              "      <th>split3_test_score</th>\n",
              "      <th>split4_test_score</th>\n",
              "      <th>mean_test_score</th>\n",
              "      <th>std_test_score</th>\n",
              "      <th>rank_test_score</th>\n",
              "    </tr>\n",
              "  </thead>\n",
              "  <tbody>\n",
              "    <tr>\n",
              "      <th>0</th>\n",
              "      <td>0.068156</td>\n",
              "      <td>0.006527</td>\n",
              "      <td>0.013855</td>\n",
              "      <td>0.002978</td>\n",
              "      <td>gini</td>\n",
              "      <td>15</td>\n",
              "      <td>{'classifier__criterion': 'gini', 'classifier_...</td>\n",
              "      <td>0.783333</td>\n",
              "      <td>0.800000</td>\n",
              "      <td>0.725000</td>\n",
              "      <td>0.783333</td>\n",
              "      <td>0.741667</td>\n",
              "      <td>0.766667</td>\n",
              "      <td>0.028382</td>\n",
              "      <td>5</td>\n",
              "    </tr>\n",
              "    <tr>\n",
              "      <th>1</th>\n",
              "      <td>0.064942</td>\n",
              "      <td>0.002721</td>\n",
              "      <td>0.015250</td>\n",
              "      <td>0.002735</td>\n",
              "      <td>gini</td>\n",
              "      <td>30</td>\n",
              "      <td>{'classifier__criterion': 'gini', 'classifier_...</td>\n",
              "      <td>0.825000</td>\n",
              "      <td>0.850000</td>\n",
              "      <td>0.741667</td>\n",
              "      <td>0.775000</td>\n",
              "      <td>0.725000</td>\n",
              "      <td>0.783333</td>\n",
              "      <td>0.047726</td>\n",
              "      <td>2</td>\n",
              "    </tr>\n",
              "    <tr>\n",
              "      <th>2</th>\n",
              "      <td>0.070769</td>\n",
              "      <td>0.007659</td>\n",
              "      <td>0.017422</td>\n",
              "      <td>0.006172</td>\n",
              "      <td>gini</td>\n",
              "      <td>45</td>\n",
              "      <td>{'classifier__criterion': 'gini', 'classifier_...</td>\n",
              "      <td>0.791667</td>\n",
              "      <td>0.808333</td>\n",
              "      <td>0.733333</td>\n",
              "      <td>0.766667</td>\n",
              "      <td>0.716667</td>\n",
              "      <td>0.763333</td>\n",
              "      <td>0.034400</td>\n",
              "      <td>6</td>\n",
              "    </tr>\n",
              "    <tr>\n",
              "      <th>3</th>\n",
              "      <td>0.070863</td>\n",
              "      <td>0.005215</td>\n",
              "      <td>0.013143</td>\n",
              "      <td>0.000523</td>\n",
              "      <td>entropy</td>\n",
              "      <td>15</td>\n",
              "      <td>{'classifier__criterion': 'entropy', 'classifi...</td>\n",
              "      <td>0.808333</td>\n",
              "      <td>0.775000</td>\n",
              "      <td>0.733333</td>\n",
              "      <td>0.783333</td>\n",
              "      <td>0.766667</td>\n",
              "      <td>0.773333</td>\n",
              "      <td>0.024381</td>\n",
              "      <td>4</td>\n",
              "    </tr>\n",
              "    <tr>\n",
              "      <th>4</th>\n",
              "      <td>0.066167</td>\n",
              "      <td>0.004657</td>\n",
              "      <td>0.012998</td>\n",
              "      <td>0.000752</td>\n",
              "      <td>entropy</td>\n",
              "      <td>30</td>\n",
              "      <td>{'classifier__criterion': 'entropy', 'classifi...</td>\n",
              "      <td>0.808333</td>\n",
              "      <td>0.791667</td>\n",
              "      <td>0.725000</td>\n",
              "      <td>0.825000</td>\n",
              "      <td>0.750000</td>\n",
              "      <td>0.780000</td>\n",
              "      <td>0.037118</td>\n",
              "      <td>3</td>\n",
              "    </tr>\n",
              "    <tr>\n",
              "      <th>5</th>\n",
              "      <td>0.066443</td>\n",
              "      <td>0.003665</td>\n",
              "      <td>0.013250</td>\n",
              "      <td>0.000715</td>\n",
              "      <td>entropy</td>\n",
              "      <td>45</td>\n",
              "      <td>{'classifier__criterion': 'entropy', 'classifi...</td>\n",
              "      <td>0.808333</td>\n",
              "      <td>0.800000</td>\n",
              "      <td>0.750000</td>\n",
              "      <td>0.808333</td>\n",
              "      <td>0.750000</td>\n",
              "      <td>0.783333</td>\n",
              "      <td>0.027386</td>\n",
              "      <td>1</td>\n",
              "    </tr>\n",
              "    <tr>\n",
              "      <th>6</th>\n",
              "      <td>0.064750</td>\n",
              "      <td>0.010312</td>\n",
              "      <td>0.000000</td>\n",
              "      <td>0.000000</td>\n",
              "      <td>log_loss</td>\n",
              "      <td>15</td>\n",
              "      <td>{'classifier__criterion': 'log_loss', 'classif...</td>\n",
              "      <td>NaN</td>\n",
              "      <td>NaN</td>\n",
              "      <td>NaN</td>\n",
              "      <td>NaN</td>\n",
              "      <td>NaN</td>\n",
              "      <td>NaN</td>\n",
              "      <td>NaN</td>\n",
              "      <td>7</td>\n",
              "    </tr>\n",
              "    <tr>\n",
              "      <th>7</th>\n",
              "      <td>0.058962</td>\n",
              "      <td>0.005069</td>\n",
              "      <td>0.000000</td>\n",
              "      <td>0.000000</td>\n",
              "      <td>log_loss</td>\n",
              "      <td>30</td>\n",
              "      <td>{'classifier__criterion': 'log_loss', 'classif...</td>\n",
              "      <td>NaN</td>\n",
              "      <td>NaN</td>\n",
              "      <td>NaN</td>\n",
              "      <td>NaN</td>\n",
              "      <td>NaN</td>\n",
              "      <td>NaN</td>\n",
              "      <td>NaN</td>\n",
              "      <td>8</td>\n",
              "    </tr>\n",
              "    <tr>\n",
              "      <th>8</th>\n",
              "      <td>0.054350</td>\n",
              "      <td>0.008642</td>\n",
              "      <td>0.000000</td>\n",
              "      <td>0.000000</td>\n",
              "      <td>log_loss</td>\n",
              "      <td>45</td>\n",
              "      <td>{'classifier__criterion': 'log_loss', 'classif...</td>\n",
              "      <td>NaN</td>\n",
              "      <td>NaN</td>\n",
              "      <td>NaN</td>\n",
              "      <td>NaN</td>\n",
              "      <td>NaN</td>\n",
              "      <td>NaN</td>\n",
              "      <td>NaN</td>\n",
              "      <td>9</td>\n",
              "    </tr>\n",
              "  </tbody>\n",
              "</table>\n",
              "</div>\n",
              "      <button class=\"colab-df-convert\" onclick=\"convertToInteractive('df-b0ac6b60-86e3-4249-94ab-a3619704dc93')\"\n",
              "              title=\"Convert this dataframe to an interactive table.\"\n",
              "              style=\"display:none;\">\n",
              "        \n",
              "  <svg xmlns=\"http://www.w3.org/2000/svg\" height=\"24px\"viewBox=\"0 0 24 24\"\n",
              "       width=\"24px\">\n",
              "    <path d=\"M0 0h24v24H0V0z\" fill=\"none\"/>\n",
              "    <path d=\"M18.56 5.44l.94 2.06.94-2.06 2.06-.94-2.06-.94-.94-2.06-.94 2.06-2.06.94zm-11 1L8.5 8.5l.94-2.06 2.06-.94-2.06-.94L8.5 2.5l-.94 2.06-2.06.94zm10 10l.94 2.06.94-2.06 2.06-.94-2.06-.94-.94-2.06-.94 2.06-2.06.94z\"/><path d=\"M17.41 7.96l-1.37-1.37c-.4-.4-.92-.59-1.43-.59-.52 0-1.04.2-1.43.59L10.3 9.45l-7.72 7.72c-.78.78-.78 2.05 0 2.83L4 21.41c.39.39.9.59 1.41.59.51 0 1.02-.2 1.41-.59l7.78-7.78 2.81-2.81c.8-.78.8-2.07 0-2.86zM5.41 20L4 18.59l7.72-7.72 1.47 1.35L5.41 20z\"/>\n",
              "  </svg>\n",
              "      </button>\n",
              "      \n",
              "  <style>\n",
              "    .colab-df-container {\n",
              "      display:flex;\n",
              "      flex-wrap:wrap;\n",
              "      gap: 12px;\n",
              "    }\n",
              "\n",
              "    .colab-df-convert {\n",
              "      background-color: #E8F0FE;\n",
              "      border: none;\n",
              "      border-radius: 50%;\n",
              "      cursor: pointer;\n",
              "      display: none;\n",
              "      fill: #1967D2;\n",
              "      height: 32px;\n",
              "      padding: 0 0 0 0;\n",
              "      width: 32px;\n",
              "    }\n",
              "\n",
              "    .colab-df-convert:hover {\n",
              "      background-color: #E2EBFA;\n",
              "      box-shadow: 0px 1px 2px rgba(60, 64, 67, 0.3), 0px 1px 3px 1px rgba(60, 64, 67, 0.15);\n",
              "      fill: #174EA6;\n",
              "    }\n",
              "\n",
              "    [theme=dark] .colab-df-convert {\n",
              "      background-color: #3B4455;\n",
              "      fill: #D2E3FC;\n",
              "    }\n",
              "\n",
              "    [theme=dark] .colab-df-convert:hover {\n",
              "      background-color: #434B5C;\n",
              "      box-shadow: 0px 1px 3px 1px rgba(0, 0, 0, 0.15);\n",
              "      filter: drop-shadow(0px 1px 2px rgba(0, 0, 0, 0.3));\n",
              "      fill: #FFFFFF;\n",
              "    }\n",
              "  </style>\n",
              "\n",
              "      <script>\n",
              "        const buttonEl =\n",
              "          document.querySelector('#df-b0ac6b60-86e3-4249-94ab-a3619704dc93 button.colab-df-convert');\n",
              "        buttonEl.style.display =\n",
              "          google.colab.kernel.accessAllowed ? 'block' : 'none';\n",
              "\n",
              "        async function convertToInteractive(key) {\n",
              "          const element = document.querySelector('#df-b0ac6b60-86e3-4249-94ab-a3619704dc93');\n",
              "          const dataTable =\n",
              "            await google.colab.kernel.invokeFunction('convertToInteractive',\n",
              "                                                     [key], {});\n",
              "          if (!dataTable) return;\n",
              "\n",
              "          const docLinkHtml = 'Like what you see? Visit the ' +\n",
              "            '<a target=\"_blank\" href=https://colab.research.google.com/notebooks/data_table.ipynb>data table notebook</a>'\n",
              "            + ' to learn more about interactive tables.';\n",
              "          element.innerHTML = '';\n",
              "          dataTable['output_type'] = 'display_data';\n",
              "          await google.colab.output.renderOutput(dataTable, element);\n",
              "          const docLink = document.createElement('div');\n",
              "          docLink.innerHTML = docLinkHtml;\n",
              "          element.appendChild(docLink);\n",
              "        }\n",
              "      </script>\n",
              "    </div>\n",
              "  </div>\n",
              "  "
            ]
          },
          "metadata": {},
          "execution_count": 40
        }
      ],
      "source": [
        "pd.DataFrame(gs_decision_tree_std.cv_results_)"
      ]
    },
    {
      "cell_type": "code",
      "execution_count": 41,
      "id": "bcd28b71",
      "metadata": {
        "id": "bcd28b71",
        "outputId": "ddec4414-3aea-4dc7-ccf6-840a7ddaa96e",
        "colab": {
          "base_uri": "https://localhost:8080/"
        }
      },
      "outputs": [
        {
          "output_type": "execute_result",
          "data": {
            "text/plain": [
              "Pipeline(steps=[('preprocessor',\n",
              "                 Pipeline(steps=[('preprocessor',\n",
              "                                  ColumnTransformer(transformers=[('num',\n",
              "                                                                   Pipeline(steps=[('scaler',\n",
              "                                                                                    StandardScaler()),\n",
              "                                                                                   ('power',\n",
              "                                                                                    PowerTransformer())]),\n",
              "                                                                   ['acousticness',\n",
              "                                                                    'danceability',\n",
              "                                                                    'energy',\n",
              "                                                                    'instrumentalness',\n",
              "                                                                    'liveness',\n",
              "                                                                    'loudness',\n",
              "                                                                    'speechiness',\n",
              "                                                                    'valence']),\n",
              "                                                                  ('cat',\n",
              "                                                                   OneHotEncoder(handle_unknown='ignore'),\n",
              "                                                                   ['key',\n",
              "                                                                    'mode',\n",
              "                                                                    'time_signature']),\n",
              "                                                                  ('cat_bin',\n",
              "                                                                   KBinsDiscretizer(n_bins=10,\n",
              "                                                                                    strategy='uniform'),\n",
              "                                                                   ['tempo'])]))])),\n",
              "                ('classifier',\n",
              "                 DecisionTreeClassifier(criterion='entropy', max_depth=45))])"
            ]
          },
          "metadata": {},
          "execution_count": 41
        }
      ],
      "source": [
        "gs_decision_tree_std.best_estimator_"
      ]
    },
    {
      "cell_type": "code",
      "execution_count": 42,
      "id": "27b87ef1",
      "metadata": {
        "id": "27b87ef1",
        "outputId": "ad9c0ba8-4f36-46ff-88a5-1cc0681dad60",
        "colab": {
          "base_uri": "https://localhost:8080/"
        }
      },
      "outputs": [
        {
          "output_type": "execute_result",
          "data": {
            "text/plain": [
              "0.7833333333333334"
            ]
          },
          "metadata": {},
          "execution_count": 42
        }
      ],
      "source": [
        "gs_decision_tree_std.best_score_"
      ]
    },
    {
      "cell_type": "code",
      "execution_count": 43,
      "id": "ce132531",
      "metadata": {
        "id": "ce132531"
      },
      "outputs": [],
      "source": [
        "y_pred = gs_decision_tree_std.predict(X_test)\n",
        "y_proba = gs_decision_tree_std.predict_proba(X_test)"
      ]
    },
    {
      "cell_type": "code",
      "execution_count": 44,
      "id": "1b0b23c8",
      "metadata": {
        "id": "1b0b23c8",
        "outputId": "29cade18-973f-468b-c4fd-3efcf18fedae",
        "colab": {
          "base_uri": "https://localhost:8080/"
        }
      },
      "outputs": [
        {
          "output_type": "stream",
          "name": "stdout",
          "text": [
            "              precision    recall  f1-score   support\n",
            "\n",
            "           0       0.70      0.83      0.76        54\n",
            "           1       0.90      0.80      0.85        96\n",
            "\n",
            "    accuracy                           0.81       150\n",
            "   macro avg       0.80      0.82      0.80       150\n",
            "weighted avg       0.83      0.81      0.82       150\n",
            "\n",
            "Area bajo la curva ROC: 0.8177\n",
            "Area bajo la curva Precision-Recall: 0.912\n"
          ]
        }
      ],
      "source": [
        "metric_report(y_test, y_pred, y_proba)"
      ]
    },
    {
      "cell_type": "markdown",
      "id": "c4860c1c",
      "metadata": {
        "id": "c4860c1c"
      },
      "source": [
        "#### Decision tree: Numeric: Min - Max"
      ]
    },
    {
      "cell_type": "code",
      "execution_count": 45,
      "id": "508797c5",
      "metadata": {
        "id": "508797c5",
        "outputId": "dda39bb3-ec61-43a4-ee97-812fb8c139c7",
        "colab": {
          "base_uri": "https://localhost:8080/"
        }
      },
      "outputs": [
        {
          "output_type": "stream",
          "name": "stdout",
          "text": [
            "Fitting 5 folds for each of 9 candidates, totalling 45 fits\n"
          ]
        },
        {
          "output_type": "stream",
          "name": "stderr",
          "text": [
            "/usr/local/lib/python3.7/dist-packages/sklearn/model_selection/_validation.py:372: FitFailedWarning: \n",
            "15 fits failed out of a total of 45.\n",
            "The score on these train-test partitions for these parameters will be set to nan.\n",
            "If these failures are not expected, you can try to debug them by setting error_score='raise'.\n",
            "\n",
            "Below are more details about the failures:\n",
            "--------------------------------------------------------------------------------\n",
            "15 fits failed with the following error:\n",
            "Traceback (most recent call last):\n",
            "  File \"/usr/local/lib/python3.7/dist-packages/sklearn/model_selection/_validation.py\", line 680, in _fit_and_score\n",
            "    estimator.fit(X_train, y_train, **fit_params)\n",
            "  File \"/usr/local/lib/python3.7/dist-packages/sklearn/pipeline.py\", line 394, in fit\n",
            "    self._final_estimator.fit(Xt, y, **fit_params_last_step)\n",
            "  File \"/usr/local/lib/python3.7/dist-packages/sklearn/tree/_classes.py\", line 942, in fit\n",
            "    X_idx_sorted=X_idx_sorted,\n",
            "  File \"/usr/local/lib/python3.7/dist-packages/sklearn/tree/_classes.py\", line 352, in fit\n",
            "    criterion = CRITERIA_CLF[self.criterion](\n",
            "KeyError: 'log_loss'\n",
            "\n",
            "  warnings.warn(some_fits_failed_message, FitFailedWarning)\n",
            "/usr/local/lib/python3.7/dist-packages/sklearn/model_selection/_search.py:972: UserWarning: One or more of the test scores are non-finite: [0.77166667 0.78333333 0.75833333 0.77       0.76666667 0.78666667\n",
            "        nan        nan        nan]\n",
            "  category=UserWarning,\n"
          ]
        },
        {
          "output_type": "execute_result",
          "data": {
            "text/plain": [
              "GridSearchCV(cv=5,\n",
              "             estimator=Pipeline(steps=[('preprocessor',\n",
              "                                        Pipeline(steps=[('preprocessor',\n",
              "                                                         ColumnTransformer(transformers=[('num',\n",
              "                                                                                          Pipeline(steps=[('scaler',\n",
              "                                                                                                           MinMaxScaler()),\n",
              "                                                                                                          ('power',\n",
              "                                                                                                           PowerTransformer())]),\n",
              "                                                                                          ['acousticness',\n",
              "                                                                                           'danceability',\n",
              "                                                                                           'energy',\n",
              "                                                                                           'instrumentalness',\n",
              "                                                                                           'liveness',\n",
              "                                                                                           'loudness',\n",
              "                                                                                           'speechiness',\n",
              "                                                                                           'valence']),\n",
              "                                                                                         ('cat',\n",
              "                                                                                          OneHotEncoder(handle_unknown='ignore'),\n",
              "                                                                                          ['key',\n",
              "                                                                                           'mode',\n",
              "                                                                                           'time_signature']),\n",
              "                                                                                         ('cat_bin',\n",
              "                                                                                          KBinsDiscretizer(n_bins=10,\n",
              "                                                                                                           strategy='uniform'),\n",
              "                                                                                          ['tempo'])]))])),\n",
              "                                       ('classifier',\n",
              "                                        DecisionTreeClassifier())]),\n",
              "             n_jobs=-1,\n",
              "             param_grid={'classifier__criterion': ['gini', 'entropy',\n",
              "                                                   'log_loss'],\n",
              "                         'classifier__max_depth': [15, 30, 45]},\n",
              "             verbose=3)"
            ]
          },
          "metadata": {},
          "execution_count": 45
        }
      ],
      "source": [
        "gs_decision_tree_min_max.fit(X_train, y_train)"
      ]
    },
    {
      "cell_type": "code",
      "execution_count": 46,
      "id": "1e67914b",
      "metadata": {
        "id": "1e67914b",
        "outputId": "2c1844dd-b756-4a22-90e5-342ed30a1ef6",
        "colab": {
          "base_uri": "https://localhost:8080/",
          "height": 552
        }
      },
      "outputs": [
        {
          "output_type": "execute_result",
          "data": {
            "text/plain": [
              "   mean_fit_time  std_fit_time  mean_score_time  std_score_time  \\\n",
              "0       0.076269      0.012705         0.013034        0.000365   \n",
              "1       0.068748      0.009282         0.012938        0.000374   \n",
              "2       0.067674      0.004606         0.014174        0.001941   \n",
              "3       0.074336      0.005646         0.012889        0.001900   \n",
              "4       0.065870      0.004161         0.013681        0.002618   \n",
              "5       0.068242      0.008253         0.016124        0.003832   \n",
              "6       0.060701      0.003190         0.000000        0.000000   \n",
              "7       0.063943      0.005270         0.000000        0.000000   \n",
              "8       0.059132      0.007451         0.000000        0.000000   \n",
              "\n",
              "  param_classifier__criterion param_classifier__max_depth  \\\n",
              "0                        gini                          15   \n",
              "1                        gini                          30   \n",
              "2                        gini                          45   \n",
              "3                     entropy                          15   \n",
              "4                     entropy                          30   \n",
              "5                     entropy                          45   \n",
              "6                    log_loss                          15   \n",
              "7                    log_loss                          30   \n",
              "8                    log_loss                          45   \n",
              "\n",
              "                                              params  split0_test_score  \\\n",
              "0  {'classifier__criterion': 'gini', 'classifier_...           0.800000   \n",
              "1  {'classifier__criterion': 'gini', 'classifier_...           0.816667   \n",
              "2  {'classifier__criterion': 'gini', 'classifier_...           0.808333   \n",
              "3  {'classifier__criterion': 'entropy', 'classifi...           0.783333   \n",
              "4  {'classifier__criterion': 'entropy', 'classifi...           0.791667   \n",
              "5  {'classifier__criterion': 'entropy', 'classifi...           0.816667   \n",
              "6  {'classifier__criterion': 'log_loss', 'classif...                NaN   \n",
              "7  {'classifier__criterion': 'log_loss', 'classif...                NaN   \n",
              "8  {'classifier__criterion': 'log_loss', 'classif...                NaN   \n",
              "\n",
              "   split1_test_score  split2_test_score  split3_test_score  split4_test_score  \\\n",
              "0           0.816667           0.758333           0.791667           0.691667   \n",
              "1           0.833333           0.758333           0.775000           0.733333   \n",
              "2           0.775000           0.725000           0.766667           0.716667   \n",
              "3           0.766667           0.725000           0.800000           0.775000   \n",
              "4           0.766667           0.725000           0.800000           0.750000   \n",
              "5           0.783333           0.741667           0.808333           0.783333   \n",
              "6                NaN                NaN                NaN                NaN   \n",
              "7                NaN                NaN                NaN                NaN   \n",
              "8                NaN                NaN                NaN                NaN   \n",
              "\n",
              "   mean_test_score  std_test_score  rank_test_score  \n",
              "0         0.771667        0.044284                3  \n",
              "1         0.783333        0.036893                2  \n",
              "2         0.758333        0.033747                6  \n",
              "3         0.770000        0.025055                4  \n",
              "4         0.766667        0.027386                5  \n",
              "5         0.786667        0.026141                1  \n",
              "6              NaN             NaN                7  \n",
              "7              NaN             NaN                8  \n",
              "8              NaN             NaN                9  "
            ],
            "text/html": [
              "\n",
              "  <div id=\"df-c5ad02db-d523-4e9c-b10d-064c4116f9db\">\n",
              "    <div class=\"colab-df-container\">\n",
              "      <div>\n",
              "<style scoped>\n",
              "    .dataframe tbody tr th:only-of-type {\n",
              "        vertical-align: middle;\n",
              "    }\n",
              "\n",
              "    .dataframe tbody tr th {\n",
              "        vertical-align: top;\n",
              "    }\n",
              "\n",
              "    .dataframe thead th {\n",
              "        text-align: right;\n",
              "    }\n",
              "</style>\n",
              "<table border=\"1\" class=\"dataframe\">\n",
              "  <thead>\n",
              "    <tr style=\"text-align: right;\">\n",
              "      <th></th>\n",
              "      <th>mean_fit_time</th>\n",
              "      <th>std_fit_time</th>\n",
              "      <th>mean_score_time</th>\n",
              "      <th>std_score_time</th>\n",
              "      <th>param_classifier__criterion</th>\n",
              "      <th>param_classifier__max_depth</th>\n",
              "      <th>params</th>\n",
              "      <th>split0_test_score</th>\n",
              "      <th>split1_test_score</th>\n",
              "      <th>split2_test_score</th>\n",
              "      <th>split3_test_score</th>\n",
              "      <th>split4_test_score</th>\n",
              "      <th>mean_test_score</th>\n",
              "      <th>std_test_score</th>\n",
              "      <th>rank_test_score</th>\n",
              "    </tr>\n",
              "  </thead>\n",
              "  <tbody>\n",
              "    <tr>\n",
              "      <th>0</th>\n",
              "      <td>0.076269</td>\n",
              "      <td>0.012705</td>\n",
              "      <td>0.013034</td>\n",
              "      <td>0.000365</td>\n",
              "      <td>gini</td>\n",
              "      <td>15</td>\n",
              "      <td>{'classifier__criterion': 'gini', 'classifier_...</td>\n",
              "      <td>0.800000</td>\n",
              "      <td>0.816667</td>\n",
              "      <td>0.758333</td>\n",
              "      <td>0.791667</td>\n",
              "      <td>0.691667</td>\n",
              "      <td>0.771667</td>\n",
              "      <td>0.044284</td>\n",
              "      <td>3</td>\n",
              "    </tr>\n",
              "    <tr>\n",
              "      <th>1</th>\n",
              "      <td>0.068748</td>\n",
              "      <td>0.009282</td>\n",
              "      <td>0.012938</td>\n",
              "      <td>0.000374</td>\n",
              "      <td>gini</td>\n",
              "      <td>30</td>\n",
              "      <td>{'classifier__criterion': 'gini', 'classifier_...</td>\n",
              "      <td>0.816667</td>\n",
              "      <td>0.833333</td>\n",
              "      <td>0.758333</td>\n",
              "      <td>0.775000</td>\n",
              "      <td>0.733333</td>\n",
              "      <td>0.783333</td>\n",
              "      <td>0.036893</td>\n",
              "      <td>2</td>\n",
              "    </tr>\n",
              "    <tr>\n",
              "      <th>2</th>\n",
              "      <td>0.067674</td>\n",
              "      <td>0.004606</td>\n",
              "      <td>0.014174</td>\n",
              "      <td>0.001941</td>\n",
              "      <td>gini</td>\n",
              "      <td>45</td>\n",
              "      <td>{'classifier__criterion': 'gini', 'classifier_...</td>\n",
              "      <td>0.808333</td>\n",
              "      <td>0.775000</td>\n",
              "      <td>0.725000</td>\n",
              "      <td>0.766667</td>\n",
              "      <td>0.716667</td>\n",
              "      <td>0.758333</td>\n",
              "      <td>0.033747</td>\n",
              "      <td>6</td>\n",
              "    </tr>\n",
              "    <tr>\n",
              "      <th>3</th>\n",
              "      <td>0.074336</td>\n",
              "      <td>0.005646</td>\n",
              "      <td>0.012889</td>\n",
              "      <td>0.001900</td>\n",
              "      <td>entropy</td>\n",
              "      <td>15</td>\n",
              "      <td>{'classifier__criterion': 'entropy', 'classifi...</td>\n",
              "      <td>0.783333</td>\n",
              "      <td>0.766667</td>\n",
              "      <td>0.725000</td>\n",
              "      <td>0.800000</td>\n",
              "      <td>0.775000</td>\n",
              "      <td>0.770000</td>\n",
              "      <td>0.025055</td>\n",
              "      <td>4</td>\n",
              "    </tr>\n",
              "    <tr>\n",
              "      <th>4</th>\n",
              "      <td>0.065870</td>\n",
              "      <td>0.004161</td>\n",
              "      <td>0.013681</td>\n",
              "      <td>0.002618</td>\n",
              "      <td>entropy</td>\n",
              "      <td>30</td>\n",
              "      <td>{'classifier__criterion': 'entropy', 'classifi...</td>\n",
              "      <td>0.791667</td>\n",
              "      <td>0.766667</td>\n",
              "      <td>0.725000</td>\n",
              "      <td>0.800000</td>\n",
              "      <td>0.750000</td>\n",
              "      <td>0.766667</td>\n",
              "      <td>0.027386</td>\n",
              "      <td>5</td>\n",
              "    </tr>\n",
              "    <tr>\n",
              "      <th>5</th>\n",
              "      <td>0.068242</td>\n",
              "      <td>0.008253</td>\n",
              "      <td>0.016124</td>\n",
              "      <td>0.003832</td>\n",
              "      <td>entropy</td>\n",
              "      <td>45</td>\n",
              "      <td>{'classifier__criterion': 'entropy', 'classifi...</td>\n",
              "      <td>0.816667</td>\n",
              "      <td>0.783333</td>\n",
              "      <td>0.741667</td>\n",
              "      <td>0.808333</td>\n",
              "      <td>0.783333</td>\n",
              "      <td>0.786667</td>\n",
              "      <td>0.026141</td>\n",
              "      <td>1</td>\n",
              "    </tr>\n",
              "    <tr>\n",
              "      <th>6</th>\n",
              "      <td>0.060701</td>\n",
              "      <td>0.003190</td>\n",
              "      <td>0.000000</td>\n",
              "      <td>0.000000</td>\n",
              "      <td>log_loss</td>\n",
              "      <td>15</td>\n",
              "      <td>{'classifier__criterion': 'log_loss', 'classif...</td>\n",
              "      <td>NaN</td>\n",
              "      <td>NaN</td>\n",
              "      <td>NaN</td>\n",
              "      <td>NaN</td>\n",
              "      <td>NaN</td>\n",
              "      <td>NaN</td>\n",
              "      <td>NaN</td>\n",
              "      <td>7</td>\n",
              "    </tr>\n",
              "    <tr>\n",
              "      <th>7</th>\n",
              "      <td>0.063943</td>\n",
              "      <td>0.005270</td>\n",
              "      <td>0.000000</td>\n",
              "      <td>0.000000</td>\n",
              "      <td>log_loss</td>\n",
              "      <td>30</td>\n",
              "      <td>{'classifier__criterion': 'log_loss', 'classif...</td>\n",
              "      <td>NaN</td>\n",
              "      <td>NaN</td>\n",
              "      <td>NaN</td>\n",
              "      <td>NaN</td>\n",
              "      <td>NaN</td>\n",
              "      <td>NaN</td>\n",
              "      <td>NaN</td>\n",
              "      <td>8</td>\n",
              "    </tr>\n",
              "    <tr>\n",
              "      <th>8</th>\n",
              "      <td>0.059132</td>\n",
              "      <td>0.007451</td>\n",
              "      <td>0.000000</td>\n",
              "      <td>0.000000</td>\n",
              "      <td>log_loss</td>\n",
              "      <td>45</td>\n",
              "      <td>{'classifier__criterion': 'log_loss', 'classif...</td>\n",
              "      <td>NaN</td>\n",
              "      <td>NaN</td>\n",
              "      <td>NaN</td>\n",
              "      <td>NaN</td>\n",
              "      <td>NaN</td>\n",
              "      <td>NaN</td>\n",
              "      <td>NaN</td>\n",
              "      <td>9</td>\n",
              "    </tr>\n",
              "  </tbody>\n",
              "</table>\n",
              "</div>\n",
              "      <button class=\"colab-df-convert\" onclick=\"convertToInteractive('df-c5ad02db-d523-4e9c-b10d-064c4116f9db')\"\n",
              "              title=\"Convert this dataframe to an interactive table.\"\n",
              "              style=\"display:none;\">\n",
              "        \n",
              "  <svg xmlns=\"http://www.w3.org/2000/svg\" height=\"24px\"viewBox=\"0 0 24 24\"\n",
              "       width=\"24px\">\n",
              "    <path d=\"M0 0h24v24H0V0z\" fill=\"none\"/>\n",
              "    <path d=\"M18.56 5.44l.94 2.06.94-2.06 2.06-.94-2.06-.94-.94-2.06-.94 2.06-2.06.94zm-11 1L8.5 8.5l.94-2.06 2.06-.94-2.06-.94L8.5 2.5l-.94 2.06-2.06.94zm10 10l.94 2.06.94-2.06 2.06-.94-2.06-.94-.94-2.06-.94 2.06-2.06.94z\"/><path d=\"M17.41 7.96l-1.37-1.37c-.4-.4-.92-.59-1.43-.59-.52 0-1.04.2-1.43.59L10.3 9.45l-7.72 7.72c-.78.78-.78 2.05 0 2.83L4 21.41c.39.39.9.59 1.41.59.51 0 1.02-.2 1.41-.59l7.78-7.78 2.81-2.81c.8-.78.8-2.07 0-2.86zM5.41 20L4 18.59l7.72-7.72 1.47 1.35L5.41 20z\"/>\n",
              "  </svg>\n",
              "      </button>\n",
              "      \n",
              "  <style>\n",
              "    .colab-df-container {\n",
              "      display:flex;\n",
              "      flex-wrap:wrap;\n",
              "      gap: 12px;\n",
              "    }\n",
              "\n",
              "    .colab-df-convert {\n",
              "      background-color: #E8F0FE;\n",
              "      border: none;\n",
              "      border-radius: 50%;\n",
              "      cursor: pointer;\n",
              "      display: none;\n",
              "      fill: #1967D2;\n",
              "      height: 32px;\n",
              "      padding: 0 0 0 0;\n",
              "      width: 32px;\n",
              "    }\n",
              "\n",
              "    .colab-df-convert:hover {\n",
              "      background-color: #E2EBFA;\n",
              "      box-shadow: 0px 1px 2px rgba(60, 64, 67, 0.3), 0px 1px 3px 1px rgba(60, 64, 67, 0.15);\n",
              "      fill: #174EA6;\n",
              "    }\n",
              "\n",
              "    [theme=dark] .colab-df-convert {\n",
              "      background-color: #3B4455;\n",
              "      fill: #D2E3FC;\n",
              "    }\n",
              "\n",
              "    [theme=dark] .colab-df-convert:hover {\n",
              "      background-color: #434B5C;\n",
              "      box-shadow: 0px 1px 3px 1px rgba(0, 0, 0, 0.15);\n",
              "      filter: drop-shadow(0px 1px 2px rgba(0, 0, 0, 0.3));\n",
              "      fill: #FFFFFF;\n",
              "    }\n",
              "  </style>\n",
              "\n",
              "      <script>\n",
              "        const buttonEl =\n",
              "          document.querySelector('#df-c5ad02db-d523-4e9c-b10d-064c4116f9db button.colab-df-convert');\n",
              "        buttonEl.style.display =\n",
              "          google.colab.kernel.accessAllowed ? 'block' : 'none';\n",
              "\n",
              "        async function convertToInteractive(key) {\n",
              "          const element = document.querySelector('#df-c5ad02db-d523-4e9c-b10d-064c4116f9db');\n",
              "          const dataTable =\n",
              "            await google.colab.kernel.invokeFunction('convertToInteractive',\n",
              "                                                     [key], {});\n",
              "          if (!dataTable) return;\n",
              "\n",
              "          const docLinkHtml = 'Like what you see? Visit the ' +\n",
              "            '<a target=\"_blank\" href=https://colab.research.google.com/notebooks/data_table.ipynb>data table notebook</a>'\n",
              "            + ' to learn more about interactive tables.';\n",
              "          element.innerHTML = '';\n",
              "          dataTable['output_type'] = 'display_data';\n",
              "          await google.colab.output.renderOutput(dataTable, element);\n",
              "          const docLink = document.createElement('div');\n",
              "          docLink.innerHTML = docLinkHtml;\n",
              "          element.appendChild(docLink);\n",
              "        }\n",
              "      </script>\n",
              "    </div>\n",
              "  </div>\n",
              "  "
            ]
          },
          "metadata": {},
          "execution_count": 46
        }
      ],
      "source": [
        "pd.DataFrame(gs_decision_tree_min_max.cv_results_)"
      ]
    },
    {
      "cell_type": "code",
      "execution_count": 47,
      "id": "d4729924",
      "metadata": {
        "id": "d4729924",
        "outputId": "6149bc03-e437-4d2d-b3b4-f1d204e644bf",
        "colab": {
          "base_uri": "https://localhost:8080/"
        }
      },
      "outputs": [
        {
          "output_type": "execute_result",
          "data": {
            "text/plain": [
              "Pipeline(steps=[('preprocessor',\n",
              "                 Pipeline(steps=[('preprocessor',\n",
              "                                  ColumnTransformer(transformers=[('num',\n",
              "                                                                   Pipeline(steps=[('scaler',\n",
              "                                                                                    MinMaxScaler()),\n",
              "                                                                                   ('power',\n",
              "                                                                                    PowerTransformer())]),\n",
              "                                                                   ['acousticness',\n",
              "                                                                    'danceability',\n",
              "                                                                    'energy',\n",
              "                                                                    'instrumentalness',\n",
              "                                                                    'liveness',\n",
              "                                                                    'loudness',\n",
              "                                                                    'speechiness',\n",
              "                                                                    'valence']),\n",
              "                                                                  ('cat',\n",
              "                                                                   OneHotEncoder(handle_unknown='ignore'),\n",
              "                                                                   ['key',\n",
              "                                                                    'mode',\n",
              "                                                                    'time_signature']),\n",
              "                                                                  ('cat_bin',\n",
              "                                                                   KBinsDiscretizer(n_bins=10,\n",
              "                                                                                    strategy='uniform'),\n",
              "                                                                   ['tempo'])]))])),\n",
              "                ('classifier',\n",
              "                 DecisionTreeClassifier(criterion='entropy', max_depth=45))])"
            ]
          },
          "metadata": {},
          "execution_count": 47
        }
      ],
      "source": [
        "gs_decision_tree_min_max.best_estimator_"
      ]
    },
    {
      "cell_type": "code",
      "execution_count": 48,
      "id": "046a2b7b",
      "metadata": {
        "id": "046a2b7b",
        "outputId": "32f02d09-0893-49b9-d0e6-757b8051cdd2",
        "colab": {
          "base_uri": "https://localhost:8080/"
        }
      },
      "outputs": [
        {
          "output_type": "execute_result",
          "data": {
            "text/plain": [
              "0.7866666666666667"
            ]
          },
          "metadata": {},
          "execution_count": 48
        }
      ],
      "source": [
        "gs_decision_tree_min_max.best_score_"
      ]
    },
    {
      "cell_type": "code",
      "execution_count": 49,
      "id": "1c286af2",
      "metadata": {
        "id": "1c286af2"
      },
      "outputs": [],
      "source": [
        "y_pred = gs_decision_tree_min_max.predict(X_test)\n",
        "y_proba = gs_decision_tree_min_max.predict_proba(X_test)"
      ]
    },
    {
      "cell_type": "code",
      "execution_count": 50,
      "id": "ddb8fce0",
      "metadata": {
        "id": "ddb8fce0",
        "outputId": "835644af-2063-4364-cc83-d0cae5427893",
        "colab": {
          "base_uri": "https://localhost:8080/"
        }
      },
      "outputs": [
        {
          "output_type": "stream",
          "name": "stdout",
          "text": [
            "              precision    recall  f1-score   support\n",
            "\n",
            "           0       0.71      0.87      0.78        54\n",
            "           1       0.92      0.80      0.86        96\n",
            "\n",
            "    accuracy                           0.83       150\n",
            "   macro avg       0.81      0.84      0.82       150\n",
            "weighted avg       0.84      0.83      0.83       150\n",
            "\n",
            "Area bajo la curva ROC: 0.8362\n",
            "Area bajo la curva Precision-Recall: 0.9227\n"
          ]
        }
      ],
      "source": [
        "metric_report(y_test, y_pred, y_proba)"
      ]
    },
    {
      "cell_type": "code",
      "execution_count": 51,
      "id": "6063902e",
      "metadata": {
        "id": "6063902e"
      },
      "outputs": [],
      "source": [
        "# save the model\n",
        "filename = 'decision_tree_min_max.sav'\n",
        "pickle.dump(gs_decision_tree_min_max, open(filename, 'wb'))"
      ]
    },
    {
      "cell_type": "markdown",
      "id": "9ada5253",
      "metadata": {
        "id": "9ada5253"
      },
      "source": [
        "### Random Forest"
      ]
    },
    {
      "cell_type": "markdown",
      "id": "ec58176c",
      "metadata": {
        "id": "ec58176c"
      },
      "source": [
        "#### Random Forest - Numeric: Standard Scaler"
      ]
    },
    {
      "cell_type": "code",
      "execution_count": 52,
      "id": "a693daf5",
      "metadata": {
        "id": "a693daf5",
        "outputId": "79704945-3468-4cca-e9ec-2ea51d3187d1",
        "colab": {
          "base_uri": "https://localhost:8080/"
        }
      },
      "outputs": [
        {
          "output_type": "stream",
          "name": "stdout",
          "text": [
            "Fitting 5 folds for each of 9 candidates, totalling 45 fits\n"
          ]
        },
        {
          "output_type": "stream",
          "name": "stderr",
          "text": [
            "/usr/local/lib/python3.7/dist-packages/sklearn/model_selection/_validation.py:372: FitFailedWarning: \n",
            "15 fits failed out of a total of 45.\n",
            "The score on these train-test partitions for these parameters will be set to nan.\n",
            "If these failures are not expected, you can try to debug them by setting error_score='raise'.\n",
            "\n",
            "Below are more details about the failures:\n",
            "--------------------------------------------------------------------------------\n",
            "15 fits failed with the following error:\n",
            "Traceback (most recent call last):\n",
            "  File \"/usr/local/lib/python3.7/dist-packages/sklearn/model_selection/_validation.py\", line 680, in _fit_and_score\n",
            "    estimator.fit(X_train, y_train, **fit_params)\n",
            "  File \"/usr/local/lib/python3.7/dist-packages/sklearn/pipeline.py\", line 394, in fit\n",
            "    self._final_estimator.fit(Xt, y, **fit_params_last_step)\n",
            "  File \"/usr/local/lib/python3.7/dist-packages/sklearn/ensemble/_forest.py\", line 467, in fit\n",
            "    for i, t in enumerate(trees)\n",
            "  File \"/usr/local/lib/python3.7/dist-packages/joblib/parallel.py\", line 1043, in __call__\n",
            "    if self.dispatch_one_batch(iterator):\n",
            "  File \"/usr/local/lib/python3.7/dist-packages/joblib/parallel.py\", line 861, in dispatch_one_batch\n",
            "    self._dispatch(tasks)\n",
            "  File \"/usr/local/lib/python3.7/dist-packages/joblib/parallel.py\", line 779, in _dispatch\n",
            "    job = self._backend.apply_async(batch, callback=cb)\n",
            "  File \"/usr/local/lib/python3.7/dist-packages/joblib/_parallel_backends.py\", line 208, in apply_async\n",
            "    result = ImmediateResult(func)\n",
            "  File \"/usr/local/lib/python3.7/dist-packages/joblib/_parallel_backends.py\", line 572, in __init__\n",
            "    self.results = batch()\n",
            "  File \"/usr/local/lib/python3.7/dist-packages/joblib/parallel.py\", line 263, in __call__\n",
            "    for func, args, kwargs in self.items]\n",
            "  File \"/usr/local/lib/python3.7/dist-packages/joblib/parallel.py\", line 263, in <listcomp>\n",
            "    for func, args, kwargs in self.items]\n",
            "  File \"/usr/local/lib/python3.7/dist-packages/sklearn/utils/fixes.py\", line 216, in __call__\n",
            "    return self.function(*args, **kwargs)\n",
            "  File \"/usr/local/lib/python3.7/dist-packages/sklearn/ensemble/_forest.py\", line 185, in _parallel_build_trees\n",
            "    tree.fit(X, y, sample_weight=curr_sample_weight, check_input=False)\n",
            "  File \"/usr/local/lib/python3.7/dist-packages/sklearn/tree/_classes.py\", line 942, in fit\n",
            "    X_idx_sorted=X_idx_sorted,\n",
            "  File \"/usr/local/lib/python3.7/dist-packages/sklearn/tree/_classes.py\", line 352, in fit\n",
            "    criterion = CRITERIA_CLF[self.criterion](\n",
            "KeyError: 'log_loss'\n",
            "\n",
            "  warnings.warn(some_fits_failed_message, FitFailedWarning)\n",
            "/usr/local/lib/python3.7/dist-packages/sklearn/model_selection/_search.py:972: UserWarning: One or more of the test scores are non-finite: [0.83833333 0.815      0.82666667 0.82       0.815      0.81666667\n",
            "        nan        nan        nan]\n",
            "  category=UserWarning,\n"
          ]
        },
        {
          "output_type": "execute_result",
          "data": {
            "text/plain": [
              "GridSearchCV(cv=5,\n",
              "             estimator=Pipeline(steps=[('preprocessor',\n",
              "                                        Pipeline(steps=[('preprocessor',\n",
              "                                                         ColumnTransformer(transformers=[('num',\n",
              "                                                                                          Pipeline(steps=[('scaler',\n",
              "                                                                                                           MinMaxScaler()),\n",
              "                                                                                                          ('power',\n",
              "                                                                                                           PowerTransformer())]),\n",
              "                                                                                          ['acousticness',\n",
              "                                                                                           'danceability',\n",
              "                                                                                           'energy',\n",
              "                                                                                           'instrumentalness',\n",
              "                                                                                           'liveness',\n",
              "                                                                                           'loudness',\n",
              "                                                                                           'speechiness',\n",
              "                                                                                           'valence']),\n",
              "                                                                                         ('cat',\n",
              "                                                                                          OneHotEncoder(handle_unknown='ignore'),\n",
              "                                                                                          ['key',\n",
              "                                                                                           'mode',\n",
              "                                                                                           'time_signature']),\n",
              "                                                                                         ('cat_bin',\n",
              "                                                                                          KBinsDiscretizer(n_bins=10,\n",
              "                                                                                                           strategy='uniform'),\n",
              "                                                                                          ['tempo'])]))])),\n",
              "                                       ('classifier',\n",
              "                                        RandomForestClassifier())]),\n",
              "             n_jobs=-1,\n",
              "             param_grid={'classifier__criterion': ['gini', 'entropy',\n",
              "                                                   'log_loss'],\n",
              "                         'classifier__max_depth': [15, 30, 45]},\n",
              "             verbose=3)"
            ]
          },
          "metadata": {},
          "execution_count": 52
        }
      ],
      "source": [
        "gs_random_forest_std.fit(X_train, y_train)"
      ]
    },
    {
      "cell_type": "code",
      "execution_count": 53,
      "id": "f0dd9e92",
      "metadata": {
        "id": "f0dd9e92",
        "outputId": "43eae37e-bc6f-400d-ad6a-2650701b8383",
        "colab": {
          "base_uri": "https://localhost:8080/",
          "height": 552
        }
      },
      "outputs": [
        {
          "output_type": "execute_result",
          "data": {
            "text/plain": [
              "   mean_fit_time  std_fit_time  mean_score_time  std_score_time  \\\n",
              "0       0.355457      0.013918         0.041282        0.004033   \n",
              "1       0.362475      0.008755         0.037450        0.002517   \n",
              "2       0.354394      0.011925         0.038819        0.004215   \n",
              "3       0.394657      0.006272         0.033510        0.001369   \n",
              "4       0.391688      0.007956         0.032087        0.000652   \n",
              "5       0.395166      0.002187         0.031859        0.000220   \n",
              "6       0.134951      0.005815         0.000000        0.000000   \n",
              "7       0.138976      0.009857         0.000000        0.000000   \n",
              "8       0.121895      0.016392         0.000000        0.000000   \n",
              "\n",
              "  param_classifier__criterion param_classifier__max_depth  \\\n",
              "0                        gini                          15   \n",
              "1                        gini                          30   \n",
              "2                        gini                          45   \n",
              "3                     entropy                          15   \n",
              "4                     entropy                          30   \n",
              "5                     entropy                          45   \n",
              "6                    log_loss                          15   \n",
              "7                    log_loss                          30   \n",
              "8                    log_loss                          45   \n",
              "\n",
              "                                              params  split0_test_score  \\\n",
              "0  {'classifier__criterion': 'gini', 'classifier_...           0.816667   \n",
              "1  {'classifier__criterion': 'gini', 'classifier_...           0.791667   \n",
              "2  {'classifier__criterion': 'gini', 'classifier_...           0.808333   \n",
              "3  {'classifier__criterion': 'entropy', 'classifi...           0.791667   \n",
              "4  {'classifier__criterion': 'entropy', 'classifi...           0.791667   \n",
              "5  {'classifier__criterion': 'entropy', 'classifi...           0.791667   \n",
              "6  {'classifier__criterion': 'log_loss', 'classif...                NaN   \n",
              "7  {'classifier__criterion': 'log_loss', 'classif...                NaN   \n",
              "8  {'classifier__criterion': 'log_loss', 'classif...                NaN   \n",
              "\n",
              "   split1_test_score  split2_test_score  split3_test_score  split4_test_score  \\\n",
              "0           0.883333           0.800000           0.883333           0.808333   \n",
              "1           0.866667           0.800000           0.833333           0.783333   \n",
              "2           0.875000           0.800000           0.866667           0.783333   \n",
              "3           0.866667           0.791667           0.850000           0.800000   \n",
              "4           0.858333           0.775000           0.866667           0.783333   \n",
              "5           0.866667           0.791667           0.866667           0.766667   \n",
              "6                NaN                NaN                NaN                NaN   \n",
              "7                NaN                NaN                NaN                NaN   \n",
              "8                NaN                NaN                NaN                NaN   \n",
              "\n",
              "   mean_test_score  std_test_score  rank_test_score  \n",
              "0         0.838333        0.037118                1  \n",
              "1         0.815000        0.030912                5  \n",
              "2         0.826667        0.037044                2  \n",
              "3         0.820000        0.031885                3  \n",
              "4         0.815000        0.039229                5  \n",
              "5         0.816667        0.041833                4  \n",
              "6              NaN             NaN                7  \n",
              "7              NaN             NaN                8  \n",
              "8              NaN             NaN                9  "
            ],
            "text/html": [
              "\n",
              "  <div id=\"df-a82da021-a52c-4d24-96ee-5f62d7c2a1da\">\n",
              "    <div class=\"colab-df-container\">\n",
              "      <div>\n",
              "<style scoped>\n",
              "    .dataframe tbody tr th:only-of-type {\n",
              "        vertical-align: middle;\n",
              "    }\n",
              "\n",
              "    .dataframe tbody tr th {\n",
              "        vertical-align: top;\n",
              "    }\n",
              "\n",
              "    .dataframe thead th {\n",
              "        text-align: right;\n",
              "    }\n",
              "</style>\n",
              "<table border=\"1\" class=\"dataframe\">\n",
              "  <thead>\n",
              "    <tr style=\"text-align: right;\">\n",
              "      <th></th>\n",
              "      <th>mean_fit_time</th>\n",
              "      <th>std_fit_time</th>\n",
              "      <th>mean_score_time</th>\n",
              "      <th>std_score_time</th>\n",
              "      <th>param_classifier__criterion</th>\n",
              "      <th>param_classifier__max_depth</th>\n",
              "      <th>params</th>\n",
              "      <th>split0_test_score</th>\n",
              "      <th>split1_test_score</th>\n",
              "      <th>split2_test_score</th>\n",
              "      <th>split3_test_score</th>\n",
              "      <th>split4_test_score</th>\n",
              "      <th>mean_test_score</th>\n",
              "      <th>std_test_score</th>\n",
              "      <th>rank_test_score</th>\n",
              "    </tr>\n",
              "  </thead>\n",
              "  <tbody>\n",
              "    <tr>\n",
              "      <th>0</th>\n",
              "      <td>0.355457</td>\n",
              "      <td>0.013918</td>\n",
              "      <td>0.041282</td>\n",
              "      <td>0.004033</td>\n",
              "      <td>gini</td>\n",
              "      <td>15</td>\n",
              "      <td>{'classifier__criterion': 'gini', 'classifier_...</td>\n",
              "      <td>0.816667</td>\n",
              "      <td>0.883333</td>\n",
              "      <td>0.800000</td>\n",
              "      <td>0.883333</td>\n",
              "      <td>0.808333</td>\n",
              "      <td>0.838333</td>\n",
              "      <td>0.037118</td>\n",
              "      <td>1</td>\n",
              "    </tr>\n",
              "    <tr>\n",
              "      <th>1</th>\n",
              "      <td>0.362475</td>\n",
              "      <td>0.008755</td>\n",
              "      <td>0.037450</td>\n",
              "      <td>0.002517</td>\n",
              "      <td>gini</td>\n",
              "      <td>30</td>\n",
              "      <td>{'classifier__criterion': 'gini', 'classifier_...</td>\n",
              "      <td>0.791667</td>\n",
              "      <td>0.866667</td>\n",
              "      <td>0.800000</td>\n",
              "      <td>0.833333</td>\n",
              "      <td>0.783333</td>\n",
              "      <td>0.815000</td>\n",
              "      <td>0.030912</td>\n",
              "      <td>5</td>\n",
              "    </tr>\n",
              "    <tr>\n",
              "      <th>2</th>\n",
              "      <td>0.354394</td>\n",
              "      <td>0.011925</td>\n",
              "      <td>0.038819</td>\n",
              "      <td>0.004215</td>\n",
              "      <td>gini</td>\n",
              "      <td>45</td>\n",
              "      <td>{'classifier__criterion': 'gini', 'classifier_...</td>\n",
              "      <td>0.808333</td>\n",
              "      <td>0.875000</td>\n",
              "      <td>0.800000</td>\n",
              "      <td>0.866667</td>\n",
              "      <td>0.783333</td>\n",
              "      <td>0.826667</td>\n",
              "      <td>0.037044</td>\n",
              "      <td>2</td>\n",
              "    </tr>\n",
              "    <tr>\n",
              "      <th>3</th>\n",
              "      <td>0.394657</td>\n",
              "      <td>0.006272</td>\n",
              "      <td>0.033510</td>\n",
              "      <td>0.001369</td>\n",
              "      <td>entropy</td>\n",
              "      <td>15</td>\n",
              "      <td>{'classifier__criterion': 'entropy', 'classifi...</td>\n",
              "      <td>0.791667</td>\n",
              "      <td>0.866667</td>\n",
              "      <td>0.791667</td>\n",
              "      <td>0.850000</td>\n",
              "      <td>0.800000</td>\n",
              "      <td>0.820000</td>\n",
              "      <td>0.031885</td>\n",
              "      <td>3</td>\n",
              "    </tr>\n",
              "    <tr>\n",
              "      <th>4</th>\n",
              "      <td>0.391688</td>\n",
              "      <td>0.007956</td>\n",
              "      <td>0.032087</td>\n",
              "      <td>0.000652</td>\n",
              "      <td>entropy</td>\n",
              "      <td>30</td>\n",
              "      <td>{'classifier__criterion': 'entropy', 'classifi...</td>\n",
              "      <td>0.791667</td>\n",
              "      <td>0.858333</td>\n",
              "      <td>0.775000</td>\n",
              "      <td>0.866667</td>\n",
              "      <td>0.783333</td>\n",
              "      <td>0.815000</td>\n",
              "      <td>0.039229</td>\n",
              "      <td>5</td>\n",
              "    </tr>\n",
              "    <tr>\n",
              "      <th>5</th>\n",
              "      <td>0.395166</td>\n",
              "      <td>0.002187</td>\n",
              "      <td>0.031859</td>\n",
              "      <td>0.000220</td>\n",
              "      <td>entropy</td>\n",
              "      <td>45</td>\n",
              "      <td>{'classifier__criterion': 'entropy', 'classifi...</td>\n",
              "      <td>0.791667</td>\n",
              "      <td>0.866667</td>\n",
              "      <td>0.791667</td>\n",
              "      <td>0.866667</td>\n",
              "      <td>0.766667</td>\n",
              "      <td>0.816667</td>\n",
              "      <td>0.041833</td>\n",
              "      <td>4</td>\n",
              "    </tr>\n",
              "    <tr>\n",
              "      <th>6</th>\n",
              "      <td>0.134951</td>\n",
              "      <td>0.005815</td>\n",
              "      <td>0.000000</td>\n",
              "      <td>0.000000</td>\n",
              "      <td>log_loss</td>\n",
              "      <td>15</td>\n",
              "      <td>{'classifier__criterion': 'log_loss', 'classif...</td>\n",
              "      <td>NaN</td>\n",
              "      <td>NaN</td>\n",
              "      <td>NaN</td>\n",
              "      <td>NaN</td>\n",
              "      <td>NaN</td>\n",
              "      <td>NaN</td>\n",
              "      <td>NaN</td>\n",
              "      <td>7</td>\n",
              "    </tr>\n",
              "    <tr>\n",
              "      <th>7</th>\n",
              "      <td>0.138976</td>\n",
              "      <td>0.009857</td>\n",
              "      <td>0.000000</td>\n",
              "      <td>0.000000</td>\n",
              "      <td>log_loss</td>\n",
              "      <td>30</td>\n",
              "      <td>{'classifier__criterion': 'log_loss', 'classif...</td>\n",
              "      <td>NaN</td>\n",
              "      <td>NaN</td>\n",
              "      <td>NaN</td>\n",
              "      <td>NaN</td>\n",
              "      <td>NaN</td>\n",
              "      <td>NaN</td>\n",
              "      <td>NaN</td>\n",
              "      <td>8</td>\n",
              "    </tr>\n",
              "    <tr>\n",
              "      <th>8</th>\n",
              "      <td>0.121895</td>\n",
              "      <td>0.016392</td>\n",
              "      <td>0.000000</td>\n",
              "      <td>0.000000</td>\n",
              "      <td>log_loss</td>\n",
              "      <td>45</td>\n",
              "      <td>{'classifier__criterion': 'log_loss', 'classif...</td>\n",
              "      <td>NaN</td>\n",
              "      <td>NaN</td>\n",
              "      <td>NaN</td>\n",
              "      <td>NaN</td>\n",
              "      <td>NaN</td>\n",
              "      <td>NaN</td>\n",
              "      <td>NaN</td>\n",
              "      <td>9</td>\n",
              "    </tr>\n",
              "  </tbody>\n",
              "</table>\n",
              "</div>\n",
              "      <button class=\"colab-df-convert\" onclick=\"convertToInteractive('df-a82da021-a52c-4d24-96ee-5f62d7c2a1da')\"\n",
              "              title=\"Convert this dataframe to an interactive table.\"\n",
              "              style=\"display:none;\">\n",
              "        \n",
              "  <svg xmlns=\"http://www.w3.org/2000/svg\" height=\"24px\"viewBox=\"0 0 24 24\"\n",
              "       width=\"24px\">\n",
              "    <path d=\"M0 0h24v24H0V0z\" fill=\"none\"/>\n",
              "    <path d=\"M18.56 5.44l.94 2.06.94-2.06 2.06-.94-2.06-.94-.94-2.06-.94 2.06-2.06.94zm-11 1L8.5 8.5l.94-2.06 2.06-.94-2.06-.94L8.5 2.5l-.94 2.06-2.06.94zm10 10l.94 2.06.94-2.06 2.06-.94-2.06-.94-.94-2.06-.94 2.06-2.06.94z\"/><path d=\"M17.41 7.96l-1.37-1.37c-.4-.4-.92-.59-1.43-.59-.52 0-1.04.2-1.43.59L10.3 9.45l-7.72 7.72c-.78.78-.78 2.05 0 2.83L4 21.41c.39.39.9.59 1.41.59.51 0 1.02-.2 1.41-.59l7.78-7.78 2.81-2.81c.8-.78.8-2.07 0-2.86zM5.41 20L4 18.59l7.72-7.72 1.47 1.35L5.41 20z\"/>\n",
              "  </svg>\n",
              "      </button>\n",
              "      \n",
              "  <style>\n",
              "    .colab-df-container {\n",
              "      display:flex;\n",
              "      flex-wrap:wrap;\n",
              "      gap: 12px;\n",
              "    }\n",
              "\n",
              "    .colab-df-convert {\n",
              "      background-color: #E8F0FE;\n",
              "      border: none;\n",
              "      border-radius: 50%;\n",
              "      cursor: pointer;\n",
              "      display: none;\n",
              "      fill: #1967D2;\n",
              "      height: 32px;\n",
              "      padding: 0 0 0 0;\n",
              "      width: 32px;\n",
              "    }\n",
              "\n",
              "    .colab-df-convert:hover {\n",
              "      background-color: #E2EBFA;\n",
              "      box-shadow: 0px 1px 2px rgba(60, 64, 67, 0.3), 0px 1px 3px 1px rgba(60, 64, 67, 0.15);\n",
              "      fill: #174EA6;\n",
              "    }\n",
              "\n",
              "    [theme=dark] .colab-df-convert {\n",
              "      background-color: #3B4455;\n",
              "      fill: #D2E3FC;\n",
              "    }\n",
              "\n",
              "    [theme=dark] .colab-df-convert:hover {\n",
              "      background-color: #434B5C;\n",
              "      box-shadow: 0px 1px 3px 1px rgba(0, 0, 0, 0.15);\n",
              "      filter: drop-shadow(0px 1px 2px rgba(0, 0, 0, 0.3));\n",
              "      fill: #FFFFFF;\n",
              "    }\n",
              "  </style>\n",
              "\n",
              "      <script>\n",
              "        const buttonEl =\n",
              "          document.querySelector('#df-a82da021-a52c-4d24-96ee-5f62d7c2a1da button.colab-df-convert');\n",
              "        buttonEl.style.display =\n",
              "          google.colab.kernel.accessAllowed ? 'block' : 'none';\n",
              "\n",
              "        async function convertToInteractive(key) {\n",
              "          const element = document.querySelector('#df-a82da021-a52c-4d24-96ee-5f62d7c2a1da');\n",
              "          const dataTable =\n",
              "            await google.colab.kernel.invokeFunction('convertToInteractive',\n",
              "                                                     [key], {});\n",
              "          if (!dataTable) return;\n",
              "\n",
              "          const docLinkHtml = 'Like what you see? Visit the ' +\n",
              "            '<a target=\"_blank\" href=https://colab.research.google.com/notebooks/data_table.ipynb>data table notebook</a>'\n",
              "            + ' to learn more about interactive tables.';\n",
              "          element.innerHTML = '';\n",
              "          dataTable['output_type'] = 'display_data';\n",
              "          await google.colab.output.renderOutput(dataTable, element);\n",
              "          const docLink = document.createElement('div');\n",
              "          docLink.innerHTML = docLinkHtml;\n",
              "          element.appendChild(docLink);\n",
              "        }\n",
              "      </script>\n",
              "    </div>\n",
              "  </div>\n",
              "  "
            ]
          },
          "metadata": {},
          "execution_count": 53
        }
      ],
      "source": [
        "pd.DataFrame(gs_random_forest_std.cv_results_)"
      ]
    },
    {
      "cell_type": "code",
      "execution_count": 54,
      "id": "1610a1a8",
      "metadata": {
        "id": "1610a1a8",
        "outputId": "c6d36512-12b7-4489-f0a0-3422fa5461ee",
        "colab": {
          "base_uri": "https://localhost:8080/"
        }
      },
      "outputs": [
        {
          "output_type": "execute_result",
          "data": {
            "text/plain": [
              "Pipeline(steps=[('preprocessor',\n",
              "                 Pipeline(steps=[('preprocessor',\n",
              "                                  ColumnTransformer(transformers=[('num',\n",
              "                                                                   Pipeline(steps=[('scaler',\n",
              "                                                                                    MinMaxScaler()),\n",
              "                                                                                   ('power',\n",
              "                                                                                    PowerTransformer())]),\n",
              "                                                                   ['acousticness',\n",
              "                                                                    'danceability',\n",
              "                                                                    'energy',\n",
              "                                                                    'instrumentalness',\n",
              "                                                                    'liveness',\n",
              "                                                                    'loudness',\n",
              "                                                                    'speechiness',\n",
              "                                                                    'valence']),\n",
              "                                                                  ('cat',\n",
              "                                                                   OneHotEncoder(handle_unknown='ignore'),\n",
              "                                                                   ['key',\n",
              "                                                                    'mode',\n",
              "                                                                    'time_signature']),\n",
              "                                                                  ('cat_bin',\n",
              "                                                                   KBinsDiscretizer(n_bins=10,\n",
              "                                                                                    strategy='uniform'),\n",
              "                                                                   ['tempo'])]))])),\n",
              "                ('classifier', RandomForestClassifier(max_depth=15))])"
            ]
          },
          "metadata": {},
          "execution_count": 54
        }
      ],
      "source": [
        "gs_random_forest_std.best_estimator_"
      ]
    },
    {
      "cell_type": "code",
      "execution_count": 55,
      "id": "1adeb5fd",
      "metadata": {
        "id": "1adeb5fd",
        "outputId": "1bf32d2d-596d-4491-bfa9-ed2eef4b547f",
        "colab": {
          "base_uri": "https://localhost:8080/"
        }
      },
      "outputs": [
        {
          "output_type": "execute_result",
          "data": {
            "text/plain": [
              "0.8383333333333333"
            ]
          },
          "metadata": {},
          "execution_count": 55
        }
      ],
      "source": [
        "gs_random_forest_std.best_score_"
      ]
    },
    {
      "cell_type": "code",
      "execution_count": 56,
      "id": "1a43b355",
      "metadata": {
        "id": "1a43b355"
      },
      "outputs": [],
      "source": [
        "y_pred = gs_random_forest_std.predict(X_test)\n",
        "y_proba = gs_random_forest_std.predict_proba(X_test)"
      ]
    },
    {
      "cell_type": "code",
      "execution_count": 57,
      "id": "36cc1e1b",
      "metadata": {
        "id": "36cc1e1b",
        "outputId": "50831be7-f255-4cf3-eab1-3f1e6f7f7f38",
        "colab": {
          "base_uri": "https://localhost:8080/"
        }
      },
      "outputs": [
        {
          "output_type": "stream",
          "name": "stdout",
          "text": [
            "              precision    recall  f1-score   support\n",
            "\n",
            "           0       0.74      0.85      0.79        54\n",
            "           1       0.91      0.83      0.87        96\n",
            "\n",
            "    accuracy                           0.84       150\n",
            "   macro avg       0.83      0.84      0.83       150\n",
            "weighted avg       0.85      0.84      0.84       150\n",
            "\n",
            "Area bajo la curva ROC: 0.9111\n",
            "Area bajo la curva Precision-Recall: 0.9444\n"
          ]
        }
      ],
      "source": [
        "metric_report(y_test, y_pred, y_proba)"
      ]
    },
    {
      "cell_type": "markdown",
      "id": "d4676cdd",
      "metadata": {
        "id": "d4676cdd"
      },
      "source": [
        "#### Random Forest - Numeric: Min Max Scaler\n"
      ]
    },
    {
      "cell_type": "code",
      "execution_count": 58,
      "id": "374a8a69",
      "metadata": {
        "id": "374a8a69",
        "outputId": "93f594f0-d1d2-4984-b0b3-1b34d1007c0a",
        "colab": {
          "base_uri": "https://localhost:8080/"
        }
      },
      "outputs": [
        {
          "output_type": "stream",
          "name": "stdout",
          "text": [
            "Fitting 5 folds for each of 9 candidates, totalling 45 fits\n"
          ]
        },
        {
          "output_type": "stream",
          "name": "stderr",
          "text": [
            "/usr/local/lib/python3.7/dist-packages/sklearn/model_selection/_validation.py:372: FitFailedWarning: \n",
            "15 fits failed out of a total of 45.\n",
            "The score on these train-test partitions for these parameters will be set to nan.\n",
            "If these failures are not expected, you can try to debug them by setting error_score='raise'.\n",
            "\n",
            "Below are more details about the failures:\n",
            "--------------------------------------------------------------------------------\n",
            "15 fits failed with the following error:\n",
            "Traceback (most recent call last):\n",
            "  File \"/usr/local/lib/python3.7/dist-packages/sklearn/model_selection/_validation.py\", line 680, in _fit_and_score\n",
            "    estimator.fit(X_train, y_train, **fit_params)\n",
            "  File \"/usr/local/lib/python3.7/dist-packages/sklearn/pipeline.py\", line 394, in fit\n",
            "    self._final_estimator.fit(Xt, y, **fit_params_last_step)\n",
            "  File \"/usr/local/lib/python3.7/dist-packages/sklearn/ensemble/_forest.py\", line 467, in fit\n",
            "    for i, t in enumerate(trees)\n",
            "  File \"/usr/local/lib/python3.7/dist-packages/joblib/parallel.py\", line 1043, in __call__\n",
            "    if self.dispatch_one_batch(iterator):\n",
            "  File \"/usr/local/lib/python3.7/dist-packages/joblib/parallel.py\", line 861, in dispatch_one_batch\n",
            "    self._dispatch(tasks)\n",
            "  File \"/usr/local/lib/python3.7/dist-packages/joblib/parallel.py\", line 779, in _dispatch\n",
            "    job = self._backend.apply_async(batch, callback=cb)\n",
            "  File \"/usr/local/lib/python3.7/dist-packages/joblib/_parallel_backends.py\", line 208, in apply_async\n",
            "    result = ImmediateResult(func)\n",
            "  File \"/usr/local/lib/python3.7/dist-packages/joblib/_parallel_backends.py\", line 572, in __init__\n",
            "    self.results = batch()\n",
            "  File \"/usr/local/lib/python3.7/dist-packages/joblib/parallel.py\", line 263, in __call__\n",
            "    for func, args, kwargs in self.items]\n",
            "  File \"/usr/local/lib/python3.7/dist-packages/joblib/parallel.py\", line 263, in <listcomp>\n",
            "    for func, args, kwargs in self.items]\n",
            "  File \"/usr/local/lib/python3.7/dist-packages/sklearn/utils/fixes.py\", line 216, in __call__\n",
            "    return self.function(*args, **kwargs)\n",
            "  File \"/usr/local/lib/python3.7/dist-packages/sklearn/ensemble/_forest.py\", line 185, in _parallel_build_trees\n",
            "    tree.fit(X, y, sample_weight=curr_sample_weight, check_input=False)\n",
            "  File \"/usr/local/lib/python3.7/dist-packages/sklearn/tree/_classes.py\", line 942, in fit\n",
            "    X_idx_sorted=X_idx_sorted,\n",
            "  File \"/usr/local/lib/python3.7/dist-packages/sklearn/tree/_classes.py\", line 352, in fit\n",
            "    criterion = CRITERIA_CLF[self.criterion](\n",
            "KeyError: 'log_loss'\n",
            "\n",
            "  warnings.warn(some_fits_failed_message, FitFailedWarning)\n",
            "/usr/local/lib/python3.7/dist-packages/sklearn/model_selection/_search.py:972: UserWarning: One or more of the test scores are non-finite: [0.81666667 0.80666667 0.81666667 0.81166667 0.82       0.82166667\n",
            "        nan        nan        nan]\n",
            "  category=UserWarning,\n"
          ]
        },
        {
          "output_type": "execute_result",
          "data": {
            "text/plain": [
              "GridSearchCV(cv=5,\n",
              "             estimator=Pipeline(steps=[('preprocessor',\n",
              "                                        Pipeline(steps=[('preprocessor',\n",
              "                                                         ColumnTransformer(transformers=[('num',\n",
              "                                                                                          Pipeline(steps=[('scaler',\n",
              "                                                                                                           MinMaxScaler()),\n",
              "                                                                                                          ('power',\n",
              "                                                                                                           PowerTransformer())]),\n",
              "                                                                                          ['acousticness',\n",
              "                                                                                           'danceability',\n",
              "                                                                                           'energy',\n",
              "                                                                                           'instrumentalness',\n",
              "                                                                                           'liveness',\n",
              "                                                                                           'loudness',\n",
              "                                                                                           'speechiness',\n",
              "                                                                                           'valence']),\n",
              "                                                                                         ('cat',\n",
              "                                                                                          OneHotEncoder(handle_unknown='ignore'),\n",
              "                                                                                          ['key',\n",
              "                                                                                           'mode',\n",
              "                                                                                           'time_signature']),\n",
              "                                                                                         ('cat_bin',\n",
              "                                                                                          KBinsDiscretizer(n_bins=10,\n",
              "                                                                                                           strategy='uniform'),\n",
              "                                                                                          ['tempo'])]))])),\n",
              "                                       ('classifier',\n",
              "                                        RandomForestClassifier())]),\n",
              "             n_jobs=-1,\n",
              "             param_grid={'classifier__criterion': ['gini', 'entropy',\n",
              "                                                   'log_loss'],\n",
              "                         'classifier__max_depth': [15, 30, 45]},\n",
              "             verbose=3)"
            ]
          },
          "metadata": {},
          "execution_count": 58
        }
      ],
      "source": [
        "gs_random_forest_min_max.fit(X_train, y_train)"
      ]
    },
    {
      "cell_type": "code",
      "execution_count": 59,
      "id": "a8bd65e3",
      "metadata": {
        "id": "a8bd65e3",
        "outputId": "910e3592-1d41-4193-9817-2662c1d856d2",
        "colab": {
          "base_uri": "https://localhost:8080/",
          "height": 552
        }
      },
      "outputs": [
        {
          "output_type": "execute_result",
          "data": {
            "text/plain": [
              "   mean_fit_time  std_fit_time  mean_score_time  std_score_time  \\\n",
              "0       0.354091      0.005471         0.039827        0.005169   \n",
              "1       0.342480      0.004485         0.036875        0.002925   \n",
              "2       0.347311      0.009080         0.035732        0.003407   \n",
              "3       0.405298      0.007148         0.032365        0.000702   \n",
              "4       0.389718      0.008137         0.034515        0.003016   \n",
              "5       0.391907      0.008806         0.033743        0.001423   \n",
              "6       0.134995      0.014929         0.000000        0.000000   \n",
              "7       0.129950      0.005174         0.000000        0.000000   \n",
              "8       0.125099      0.009018         0.000000        0.000000   \n",
              "\n",
              "  param_classifier__criterion param_classifier__max_depth  \\\n",
              "0                        gini                          15   \n",
              "1                        gini                          30   \n",
              "2                        gini                          45   \n",
              "3                     entropy                          15   \n",
              "4                     entropy                          30   \n",
              "5                     entropy                          45   \n",
              "6                    log_loss                          15   \n",
              "7                    log_loss                          30   \n",
              "8                    log_loss                          45   \n",
              "\n",
              "                                              params  split0_test_score  \\\n",
              "0  {'classifier__criterion': 'gini', 'classifier_...           0.800000   \n",
              "1  {'classifier__criterion': 'gini', 'classifier_...           0.758333   \n",
              "2  {'classifier__criterion': 'gini', 'classifier_...           0.816667   \n",
              "3  {'classifier__criterion': 'entropy', 'classifi...           0.800000   \n",
              "4  {'classifier__criterion': 'entropy', 'classifi...           0.791667   \n",
              "5  {'classifier__criterion': 'entropy', 'classifi...           0.791667   \n",
              "6  {'classifier__criterion': 'log_loss', 'classif...                NaN   \n",
              "7  {'classifier__criterion': 'log_loss', 'classif...                NaN   \n",
              "8  {'classifier__criterion': 'log_loss', 'classif...                NaN   \n",
              "\n",
              "   split1_test_score  split2_test_score  split3_test_score  split4_test_score  \\\n",
              "0           0.883333           0.783333           0.866667           0.750000   \n",
              "1           0.858333           0.783333           0.858333           0.775000   \n",
              "2           0.866667           0.783333           0.850000           0.766667   \n",
              "3           0.841667           0.775000           0.866667           0.775000   \n",
              "4           0.875000           0.775000           0.858333           0.800000   \n",
              "5           0.875000           0.791667           0.875000           0.775000   \n",
              "6                NaN                NaN                NaN                NaN   \n",
              "7                NaN                NaN                NaN                NaN   \n",
              "8                NaN                NaN                NaN                NaN   \n",
              "\n",
              "   mean_test_score  std_test_score  rank_test_score  \n",
              "0         0.816667        0.050553                3  \n",
              "1         0.806667        0.042947                6  \n",
              "2         0.816667        0.038006                3  \n",
              "3         0.811667        0.036742                5  \n",
              "4         0.820000        0.039299                2  \n",
              "5         0.821667        0.043970                1  \n",
              "6              NaN             NaN                7  \n",
              "7              NaN             NaN                8  \n",
              "8              NaN             NaN                9  "
            ],
            "text/html": [
              "\n",
              "  <div id=\"df-f1c46043-77d5-4f00-890c-14d09ebeab79\">\n",
              "    <div class=\"colab-df-container\">\n",
              "      <div>\n",
              "<style scoped>\n",
              "    .dataframe tbody tr th:only-of-type {\n",
              "        vertical-align: middle;\n",
              "    }\n",
              "\n",
              "    .dataframe tbody tr th {\n",
              "        vertical-align: top;\n",
              "    }\n",
              "\n",
              "    .dataframe thead th {\n",
              "        text-align: right;\n",
              "    }\n",
              "</style>\n",
              "<table border=\"1\" class=\"dataframe\">\n",
              "  <thead>\n",
              "    <tr style=\"text-align: right;\">\n",
              "      <th></th>\n",
              "      <th>mean_fit_time</th>\n",
              "      <th>std_fit_time</th>\n",
              "      <th>mean_score_time</th>\n",
              "      <th>std_score_time</th>\n",
              "      <th>param_classifier__criterion</th>\n",
              "      <th>param_classifier__max_depth</th>\n",
              "      <th>params</th>\n",
              "      <th>split0_test_score</th>\n",
              "      <th>split1_test_score</th>\n",
              "      <th>split2_test_score</th>\n",
              "      <th>split3_test_score</th>\n",
              "      <th>split4_test_score</th>\n",
              "      <th>mean_test_score</th>\n",
              "      <th>std_test_score</th>\n",
              "      <th>rank_test_score</th>\n",
              "    </tr>\n",
              "  </thead>\n",
              "  <tbody>\n",
              "    <tr>\n",
              "      <th>0</th>\n",
              "      <td>0.354091</td>\n",
              "      <td>0.005471</td>\n",
              "      <td>0.039827</td>\n",
              "      <td>0.005169</td>\n",
              "      <td>gini</td>\n",
              "      <td>15</td>\n",
              "      <td>{'classifier__criterion': 'gini', 'classifier_...</td>\n",
              "      <td>0.800000</td>\n",
              "      <td>0.883333</td>\n",
              "      <td>0.783333</td>\n",
              "      <td>0.866667</td>\n",
              "      <td>0.750000</td>\n",
              "      <td>0.816667</td>\n",
              "      <td>0.050553</td>\n",
              "      <td>3</td>\n",
              "    </tr>\n",
              "    <tr>\n",
              "      <th>1</th>\n",
              "      <td>0.342480</td>\n",
              "      <td>0.004485</td>\n",
              "      <td>0.036875</td>\n",
              "      <td>0.002925</td>\n",
              "      <td>gini</td>\n",
              "      <td>30</td>\n",
              "      <td>{'classifier__criterion': 'gini', 'classifier_...</td>\n",
              "      <td>0.758333</td>\n",
              "      <td>0.858333</td>\n",
              "      <td>0.783333</td>\n",
              "      <td>0.858333</td>\n",
              "      <td>0.775000</td>\n",
              "      <td>0.806667</td>\n",
              "      <td>0.042947</td>\n",
              "      <td>6</td>\n",
              "    </tr>\n",
              "    <tr>\n",
              "      <th>2</th>\n",
              "      <td>0.347311</td>\n",
              "      <td>0.009080</td>\n",
              "      <td>0.035732</td>\n",
              "      <td>0.003407</td>\n",
              "      <td>gini</td>\n",
              "      <td>45</td>\n",
              "      <td>{'classifier__criterion': 'gini', 'classifier_...</td>\n",
              "      <td>0.816667</td>\n",
              "      <td>0.866667</td>\n",
              "      <td>0.783333</td>\n",
              "      <td>0.850000</td>\n",
              "      <td>0.766667</td>\n",
              "      <td>0.816667</td>\n",
              "      <td>0.038006</td>\n",
              "      <td>3</td>\n",
              "    </tr>\n",
              "    <tr>\n",
              "      <th>3</th>\n",
              "      <td>0.405298</td>\n",
              "      <td>0.007148</td>\n",
              "      <td>0.032365</td>\n",
              "      <td>0.000702</td>\n",
              "      <td>entropy</td>\n",
              "      <td>15</td>\n",
              "      <td>{'classifier__criterion': 'entropy', 'classifi...</td>\n",
              "      <td>0.800000</td>\n",
              "      <td>0.841667</td>\n",
              "      <td>0.775000</td>\n",
              "      <td>0.866667</td>\n",
              "      <td>0.775000</td>\n",
              "      <td>0.811667</td>\n",
              "      <td>0.036742</td>\n",
              "      <td>5</td>\n",
              "    </tr>\n",
              "    <tr>\n",
              "      <th>4</th>\n",
              "      <td>0.389718</td>\n",
              "      <td>0.008137</td>\n",
              "      <td>0.034515</td>\n",
              "      <td>0.003016</td>\n",
              "      <td>entropy</td>\n",
              "      <td>30</td>\n",
              "      <td>{'classifier__criterion': 'entropy', 'classifi...</td>\n",
              "      <td>0.791667</td>\n",
              "      <td>0.875000</td>\n",
              "      <td>0.775000</td>\n",
              "      <td>0.858333</td>\n",
              "      <td>0.800000</td>\n",
              "      <td>0.820000</td>\n",
              "      <td>0.039299</td>\n",
              "      <td>2</td>\n",
              "    </tr>\n",
              "    <tr>\n",
              "      <th>5</th>\n",
              "      <td>0.391907</td>\n",
              "      <td>0.008806</td>\n",
              "      <td>0.033743</td>\n",
              "      <td>0.001423</td>\n",
              "      <td>entropy</td>\n",
              "      <td>45</td>\n",
              "      <td>{'classifier__criterion': 'entropy', 'classifi...</td>\n",
              "      <td>0.791667</td>\n",
              "      <td>0.875000</td>\n",
              "      <td>0.791667</td>\n",
              "      <td>0.875000</td>\n",
              "      <td>0.775000</td>\n",
              "      <td>0.821667</td>\n",
              "      <td>0.043970</td>\n",
              "      <td>1</td>\n",
              "    </tr>\n",
              "    <tr>\n",
              "      <th>6</th>\n",
              "      <td>0.134995</td>\n",
              "      <td>0.014929</td>\n",
              "      <td>0.000000</td>\n",
              "      <td>0.000000</td>\n",
              "      <td>log_loss</td>\n",
              "      <td>15</td>\n",
              "      <td>{'classifier__criterion': 'log_loss', 'classif...</td>\n",
              "      <td>NaN</td>\n",
              "      <td>NaN</td>\n",
              "      <td>NaN</td>\n",
              "      <td>NaN</td>\n",
              "      <td>NaN</td>\n",
              "      <td>NaN</td>\n",
              "      <td>NaN</td>\n",
              "      <td>7</td>\n",
              "    </tr>\n",
              "    <tr>\n",
              "      <th>7</th>\n",
              "      <td>0.129950</td>\n",
              "      <td>0.005174</td>\n",
              "      <td>0.000000</td>\n",
              "      <td>0.000000</td>\n",
              "      <td>log_loss</td>\n",
              "      <td>30</td>\n",
              "      <td>{'classifier__criterion': 'log_loss', 'classif...</td>\n",
              "      <td>NaN</td>\n",
              "      <td>NaN</td>\n",
              "      <td>NaN</td>\n",
              "      <td>NaN</td>\n",
              "      <td>NaN</td>\n",
              "      <td>NaN</td>\n",
              "      <td>NaN</td>\n",
              "      <td>8</td>\n",
              "    </tr>\n",
              "    <tr>\n",
              "      <th>8</th>\n",
              "      <td>0.125099</td>\n",
              "      <td>0.009018</td>\n",
              "      <td>0.000000</td>\n",
              "      <td>0.000000</td>\n",
              "      <td>log_loss</td>\n",
              "      <td>45</td>\n",
              "      <td>{'classifier__criterion': 'log_loss', 'classif...</td>\n",
              "      <td>NaN</td>\n",
              "      <td>NaN</td>\n",
              "      <td>NaN</td>\n",
              "      <td>NaN</td>\n",
              "      <td>NaN</td>\n",
              "      <td>NaN</td>\n",
              "      <td>NaN</td>\n",
              "      <td>9</td>\n",
              "    </tr>\n",
              "  </tbody>\n",
              "</table>\n",
              "</div>\n",
              "      <button class=\"colab-df-convert\" onclick=\"convertToInteractive('df-f1c46043-77d5-4f00-890c-14d09ebeab79')\"\n",
              "              title=\"Convert this dataframe to an interactive table.\"\n",
              "              style=\"display:none;\">\n",
              "        \n",
              "  <svg xmlns=\"http://www.w3.org/2000/svg\" height=\"24px\"viewBox=\"0 0 24 24\"\n",
              "       width=\"24px\">\n",
              "    <path d=\"M0 0h24v24H0V0z\" fill=\"none\"/>\n",
              "    <path d=\"M18.56 5.44l.94 2.06.94-2.06 2.06-.94-2.06-.94-.94-2.06-.94 2.06-2.06.94zm-11 1L8.5 8.5l.94-2.06 2.06-.94-2.06-.94L8.5 2.5l-.94 2.06-2.06.94zm10 10l.94 2.06.94-2.06 2.06-.94-2.06-.94-.94-2.06-.94 2.06-2.06.94z\"/><path d=\"M17.41 7.96l-1.37-1.37c-.4-.4-.92-.59-1.43-.59-.52 0-1.04.2-1.43.59L10.3 9.45l-7.72 7.72c-.78.78-.78 2.05 0 2.83L4 21.41c.39.39.9.59 1.41.59.51 0 1.02-.2 1.41-.59l7.78-7.78 2.81-2.81c.8-.78.8-2.07 0-2.86zM5.41 20L4 18.59l7.72-7.72 1.47 1.35L5.41 20z\"/>\n",
              "  </svg>\n",
              "      </button>\n",
              "      \n",
              "  <style>\n",
              "    .colab-df-container {\n",
              "      display:flex;\n",
              "      flex-wrap:wrap;\n",
              "      gap: 12px;\n",
              "    }\n",
              "\n",
              "    .colab-df-convert {\n",
              "      background-color: #E8F0FE;\n",
              "      border: none;\n",
              "      border-radius: 50%;\n",
              "      cursor: pointer;\n",
              "      display: none;\n",
              "      fill: #1967D2;\n",
              "      height: 32px;\n",
              "      padding: 0 0 0 0;\n",
              "      width: 32px;\n",
              "    }\n",
              "\n",
              "    .colab-df-convert:hover {\n",
              "      background-color: #E2EBFA;\n",
              "      box-shadow: 0px 1px 2px rgba(60, 64, 67, 0.3), 0px 1px 3px 1px rgba(60, 64, 67, 0.15);\n",
              "      fill: #174EA6;\n",
              "    }\n",
              "\n",
              "    [theme=dark] .colab-df-convert {\n",
              "      background-color: #3B4455;\n",
              "      fill: #D2E3FC;\n",
              "    }\n",
              "\n",
              "    [theme=dark] .colab-df-convert:hover {\n",
              "      background-color: #434B5C;\n",
              "      box-shadow: 0px 1px 3px 1px rgba(0, 0, 0, 0.15);\n",
              "      filter: drop-shadow(0px 1px 2px rgba(0, 0, 0, 0.3));\n",
              "      fill: #FFFFFF;\n",
              "    }\n",
              "  </style>\n",
              "\n",
              "      <script>\n",
              "        const buttonEl =\n",
              "          document.querySelector('#df-f1c46043-77d5-4f00-890c-14d09ebeab79 button.colab-df-convert');\n",
              "        buttonEl.style.display =\n",
              "          google.colab.kernel.accessAllowed ? 'block' : 'none';\n",
              "\n",
              "        async function convertToInteractive(key) {\n",
              "          const element = document.querySelector('#df-f1c46043-77d5-4f00-890c-14d09ebeab79');\n",
              "          const dataTable =\n",
              "            await google.colab.kernel.invokeFunction('convertToInteractive',\n",
              "                                                     [key], {});\n",
              "          if (!dataTable) return;\n",
              "\n",
              "          const docLinkHtml = 'Like what you see? Visit the ' +\n",
              "            '<a target=\"_blank\" href=https://colab.research.google.com/notebooks/data_table.ipynb>data table notebook</a>'\n",
              "            + ' to learn more about interactive tables.';\n",
              "          element.innerHTML = '';\n",
              "          dataTable['output_type'] = 'display_data';\n",
              "          await google.colab.output.renderOutput(dataTable, element);\n",
              "          const docLink = document.createElement('div');\n",
              "          docLink.innerHTML = docLinkHtml;\n",
              "          element.appendChild(docLink);\n",
              "        }\n",
              "      </script>\n",
              "    </div>\n",
              "  </div>\n",
              "  "
            ]
          },
          "metadata": {},
          "execution_count": 59
        }
      ],
      "source": [
        "pd.DataFrame(gs_random_forest_min_max.cv_results_)"
      ]
    },
    {
      "cell_type": "code",
      "execution_count": 60,
      "id": "3b4e2f0d",
      "metadata": {
        "id": "3b4e2f0d",
        "outputId": "8ba15ba2-d373-4a30-e16c-cff55801dfa2",
        "colab": {
          "base_uri": "https://localhost:8080/"
        }
      },
      "outputs": [
        {
          "output_type": "execute_result",
          "data": {
            "text/plain": [
              "Pipeline(steps=[('preprocessor',\n",
              "                 Pipeline(steps=[('preprocessor',\n",
              "                                  ColumnTransformer(transformers=[('num',\n",
              "                                                                   Pipeline(steps=[('scaler',\n",
              "                                                                                    MinMaxScaler()),\n",
              "                                                                                   ('power',\n",
              "                                                                                    PowerTransformer())]),\n",
              "                                                                   ['acousticness',\n",
              "                                                                    'danceability',\n",
              "                                                                    'energy',\n",
              "                                                                    'instrumentalness',\n",
              "                                                                    'liveness',\n",
              "                                                                    'loudness',\n",
              "                                                                    'speechiness',\n",
              "                                                                    'valence']),\n",
              "                                                                  ('cat',\n",
              "                                                                   OneHotEncoder(handle_unknown='ignore'),\n",
              "                                                                   ['key',\n",
              "                                                                    'mode',\n",
              "                                                                    'time_signature']),\n",
              "                                                                  ('cat_bin',\n",
              "                                                                   KBinsDiscretizer(n_bins=10,\n",
              "                                                                                    strategy='uniform'),\n",
              "                                                                   ['tempo'])]))])),\n",
              "                ('classifier',\n",
              "                 RandomForestClassifier(criterion='entropy', max_depth=45))])"
            ]
          },
          "metadata": {},
          "execution_count": 60
        }
      ],
      "source": [
        "gs_random_forest_min_max.best_estimator_"
      ]
    },
    {
      "cell_type": "code",
      "execution_count": 61,
      "id": "b5393091",
      "metadata": {
        "id": "b5393091",
        "outputId": "83eeace2-4b58-4085-fe6a-1790d4cd144e",
        "colab": {
          "base_uri": "https://localhost:8080/"
        }
      },
      "outputs": [
        {
          "output_type": "execute_result",
          "data": {
            "text/plain": [
              "0.8216666666666667"
            ]
          },
          "metadata": {},
          "execution_count": 61
        }
      ],
      "source": [
        "gs_random_forest_min_max.best_score_"
      ]
    },
    {
      "cell_type": "code",
      "execution_count": 62,
      "id": "52378b73",
      "metadata": {
        "id": "52378b73"
      },
      "outputs": [],
      "source": [
        "y_pred = gs_random_forest_min_max.predict(X_test)\n",
        "y_proba = gs_random_forest_min_max.predict_proba(X_test)"
      ]
    },
    {
      "cell_type": "code",
      "execution_count": 63,
      "id": "a53704ff",
      "metadata": {
        "id": "a53704ff",
        "outputId": "f8339167-e103-4642-805e-7b4454d1f55d",
        "colab": {
          "base_uri": "https://localhost:8080/"
        }
      },
      "outputs": [
        {
          "output_type": "stream",
          "name": "stdout",
          "text": [
            "              precision    recall  f1-score   support\n",
            "\n",
            "           0       0.74      0.85      0.79        54\n",
            "           1       0.91      0.83      0.87        96\n",
            "\n",
            "    accuracy                           0.84       150\n",
            "   macro avg       0.83      0.84      0.83       150\n",
            "weighted avg       0.85      0.84      0.84       150\n",
            "\n",
            "Area bajo la curva ROC: 0.9234\n",
            "Area bajo la curva Precision-Recall: 0.9516\n"
          ]
        }
      ],
      "source": [
        "metric_report(y_test, y_pred, y_proba)"
      ]
    },
    {
      "cell_type": "code",
      "execution_count": 64,
      "id": "1edff890",
      "metadata": {
        "id": "1edff890"
      },
      "outputs": [],
      "source": [
        "# save the model\n",
        "filename = 'random_forest_min_max.sav'\n",
        "pickle.dump(gs_random_forest_min_max, open(filename, 'wb'))"
      ]
    },
    {
      "cell_type": "markdown",
      "id": "b35fb673",
      "metadata": {
        "id": "b35fb673"
      },
      "source": [
        "### Conclusión:\n",
        "\n",
        "Mejor modelo: Random Forest, con preprocesado numérico: MinMaxScaler + Yeo Johnson. Intuimos que esto se debe a que la mayoría de nuestras variables numéricas se encuentran en el rango 0 - 1, por lo que al hacer min-max scaler, se mantiene la distribución original de los datos, la cual es \"normalizada\", empleando Yeo Johnson. De esta forma los datos resultan útiles para el modelo, motivo por el cual las métricas arrojadas por el mismo son alentadoras (F1 score 0.81 para la clase minoritaria y 0.89 para la mayoritaria)."
      ]
    },
    {
      "cell_type": "code",
      "source": [
        "df_numeric_x = df.drop(columns=[\"key\", \"mode\", \"tempo\", \"label\"])"
      ],
      "metadata": {
        "id": "UpFisyW6FkQZ"
      },
      "id": "UpFisyW6FkQZ",
      "execution_count": 65,
      "outputs": []
    },
    {
      "cell_type": "code",
      "source": [
        "from sklearn.feature_selection import mutual_info_regression, f_regression, SelectKBest\n",
        "from sklearn.linear_model import LinearRegression\n",
        "from sklearn.metrics import r2_score\n",
        "from sklearn.model_selection import train_test_split\n",
        "from sklearn.preprocessing import StandardScaler"
      ],
      "metadata": {
        "id": "C5snBMTHEkq4"
      },
      "id": "C5snBMTHEkq4",
      "execution_count": 66,
      "outputs": []
    },
    {
      "cell_type": "code",
      "source": [
        "def select_features_mutual_info(X_train, y_train, k=\"all\"):\n",
        "    fs = SelectKBest(score_func=mutual_info_regression, k=k)\n",
        "    fs.fit(X_train, y_train)\n",
        "    X_train_fs = fs.transform(X_train)\n",
        "    return X_train_fs, fs"
      ],
      "metadata": {
        "id": "7wm2Af3KEq6L"
      },
      "id": "7wm2Af3KEq6L",
      "execution_count": 67,
      "outputs": []
    },
    {
      "cell_type": "code",
      "source": [
        "def select_features_pearson(X_train, y_train, k=\"all\"):\n",
        "    fs = SelectKBest(score_func=f_regression, k=k)\n",
        "    fs.fit(X_train, y_train)\n",
        "    X_train_fs = fs.transform(X_train)\n",
        "    return X_train_fs, fs"
      ],
      "metadata": {
        "id": "gzXChOdkEv8N"
      },
      "id": "gzXChOdkEv8N",
      "execution_count": 68,
      "outputs": []
    },
    {
      "cell_type": "code",
      "source": [
        "value_y = df[\"label\"]"
      ],
      "metadata": {
        "id": "M8XxmHROF8HS"
      },
      "id": "M8XxmHROF8HS",
      "execution_count": 69,
      "outputs": []
    },
    {
      "cell_type": "code",
      "source": [
        "X_train_mi, mi = select_features_mutual_info(df_numeric_x, value_y)\n",
        "X_train_pc, pc = select_features_pearson(df_numeric_x, value_y)\n",
        "fig, axes = plt.subplots(2, 1, figsize=(12, 10))\n",
        "sns.barplot(x=[c for c in df_numeric_x.columns], y=mi.scores_, ax=axes[0])\n",
        "axes[0].set_title(\"Información mutua\")\n",
        "axes[0].set_xticklabels([])\n",
        "sns.barplot(x=[c for c in df_numeric_x.columns], y=pc.scores_, ax=axes[1])\n",
        "# Grafico el F score de cada feature\n",
        "axes[1].set_title(\"Pearson\")\n",
        "axes[1].set_xticklabels(df_numeric_x.columns, rotation=90)\n",
        "pc.scores_"
      ],
      "metadata": {
        "colab": {
          "base_uri": "https://localhost:8080/",
          "height": 736
        },
        "id": "plxi-mXeEyUw",
        "outputId": "a9d2ca06-e771-487d-8244-db668e056bec"
      },
      "id": "plxi-mXeEyUw",
      "execution_count": 70,
      "outputs": [
        {
          "output_type": "execute_result",
          "data": {
            "text/plain": [
              "array([223.09466382, 117.53345022,  14.64232519, 199.74939636,\n",
              "        13.57775595,   8.94082434, 164.27160176, 225.06495194,\n",
              "        17.20847456,  24.63033193])"
            ]
          },
          "metadata": {},
          "execution_count": 70
        },
        {
          "output_type": "display_data",
          "data": {
            "text/plain": [
              "<Figure size 864x720 with 2 Axes>"
            ],
            "image/png": "[encoded data removed]"
          },
          "metadata": {
            "needs_background": "light"
          }
        }
      ]
    },
    {
      "cell_type": "code",
      "source": [
        "from pycaret.classification import (\n",
        "    add_metric,\n",
        "    setup,\n",
        "    compare_models,\n",
        "    models,\n",
        "    create_model,\n",
        "    evaluate_model,\n",
        "    predict_model,\n",
        "    save_model,\n",
        "    plot_model\n",
        ")"
      ],
      "metadata": {
        "id": "_Nnh_W_zmyS8"
      },
      "id": "_Nnh_W_zmyS8",
      "execution_count": 78,
      "outputs": []
    },
    {
      "cell_type": "code",
      "source": [
        "RANDOM_STATE = 30"
      ],
      "metadata": {
        "id": "FxDA44MSnHcR"
      },
      "id": "FxDA44MSnHcR",
      "execution_count": 79,
      "outputs": []
    },
    {
      "cell_type": "code",
      "source": [
        "clf1 = setup(\n",
        "    df,\n",
        "    target=\"label\",\n",
        "    train_size=0.7,\n",
        "    # preprocess = False,\n",
        "    normalize=True,\n",
        "    normalize_method=\"zscore\",\n",
        "    pca=True,\n",
        "    pca_components=0.9,\n",
        "    # # remove_outliers = True,\n",
        "    # # outliters_threshold = 0.05,\n",
        "    remove_multicollinearity=True,\n",
        "    multicollinearity_threshold=0.9,\n",
        "    fix_imbalance=True,  # SMOTE method\n",
        "    data_split_shuffle=True,\n",
        "    data_split_stratify=True,\n",
        "    fold_strategy=\"stratifiedkfold\",\n",
        "    fold=5,\n",
        "    session_id=RANDOM_STATE,\n",
        "    ## silent=False,\n",
        "    log_experiment=False,\n",
        "    experiment_name=\"Fire-extinguishing\",\n",
        "    use_gpu=False,\n",
        ")"
      ],
      "metadata": {
        "id": "CeaBrszeFoMM",
        "colab": {
          "base_uri": "https://localhost:8080/",
          "height": 927
        },
        "outputId": "7baf475a-d42b-4a4e-b674-f6bd381a3119"
      },
      "id": "CeaBrszeFoMM",
      "execution_count": 80,
      "outputs": [
        {
          "output_type": "display_data",
          "data": {
            "text/plain": [
              "<pandas.io.formats.style.Styler at 0x7f285714bbd0>"
            ],
            "text/html": [
              "<style type=\"text/css\">\n",
              "#T_2ea64_row8_col1, #T_2ea64_row12_col1, #T_2ea64_row14_col1, #T_2ea64_row16_col1, #T_2ea64_row18_col1 {\n",
              "  background-color: lightgreen;\n",
              "}\n",
              "</style>\n",
              "<table id=\"T_2ea64_\" class=\"dataframe\">\n",
              "  <thead>\n",
              "    <tr>\n",
              "      <th class=\"blank level0\" >&nbsp;</th>\n",
              "      <th class=\"col_heading level0 col0\" >Description</th>\n",
              "      <th class=\"col_heading level0 col1\" >Value</th>\n",
              "    </tr>\n",
              "  </thead>\n",
              "  <tbody>\n",
              "    <tr>\n",
              "      <th id=\"T_2ea64_level0_row0\" class=\"row_heading level0 row0\" >0</th>\n",
              "      <td id=\"T_2ea64_row0_col0\" class=\"data row0 col0\" >Session id</td>\n",
              "      <td id=\"T_2ea64_row0_col1\" class=\"data row0 col1\" >30</td>\n",
              "    </tr>\n",
              "    <tr>\n",
              "      <th id=\"T_2ea64_level0_row1\" class=\"row_heading level0 row1\" >1</th>\n",
              "      <td id=\"T_2ea64_row1_col0\" class=\"data row1 col0\" >Target</td>\n",
              "      <td id=\"T_2ea64_row1_col1\" class=\"data row1 col1\" >label</td>\n",
              "    </tr>\n",
              "    <tr>\n",
              "      <th id=\"T_2ea64_level0_row2\" class=\"row_heading level0 row2\" >2</th>\n",
              "      <td id=\"T_2ea64_row2_col0\" class=\"data row2 col0\" >Target type</td>\n",
              "      <td id=\"T_2ea64_row2_col1\" class=\"data row2 col1\" >Binary</td>\n",
              "    </tr>\n",
              "    <tr>\n",
              "      <th id=\"T_2ea64_level0_row3\" class=\"row_heading level0 row3\" >3</th>\n",
              "      <td id=\"T_2ea64_row3_col0\" class=\"data row3 col0\" >Original data shape</td>\n",
              "      <td id=\"T_2ea64_row3_col1\" class=\"data row3 col1\" >(750, 14)</td>\n",
              "    </tr>\n",
              "    <tr>\n",
              "      <th id=\"T_2ea64_level0_row4\" class=\"row_heading level0 row4\" >4</th>\n",
              "      <td id=\"T_2ea64_row4_col0\" class=\"data row4 col0\" >Transformed data shape</td>\n",
              "      <td id=\"T_2ea64_row4_col1\" class=\"data row4 col1\" >(858, 12)</td>\n",
              "    </tr>\n",
              "    <tr>\n",
              "      <th id=\"T_2ea64_level0_row5\" class=\"row_heading level0 row5\" >5</th>\n",
              "      <td id=\"T_2ea64_row5_col0\" class=\"data row5 col0\" >Transformed train set shape</td>\n",
              "      <td id=\"T_2ea64_row5_col1\" class=\"data row5 col1\" >(632, 12)</td>\n",
              "    </tr>\n",
              "    <tr>\n",
              "      <th id=\"T_2ea64_level0_row6\" class=\"row_heading level0 row6\" >6</th>\n",
              "      <td id=\"T_2ea64_row6_col0\" class=\"data row6 col0\" >Transformed test set shape</td>\n",
              "      <td id=\"T_2ea64_row6_col1\" class=\"data row6 col1\" >(226, 12)</td>\n",
              "    </tr>\n",
              "    <tr>\n",
              "      <th id=\"T_2ea64_level0_row7\" class=\"row_heading level0 row7\" >7</th>\n",
              "      <td id=\"T_2ea64_row7_col0\" class=\"data row7 col0\" >Numeric features</td>\n",
              "      <td id=\"T_2ea64_row7_col1\" class=\"data row7 col1\" >13</td>\n",
              "    </tr>\n",
              "    <tr>\n",
              "      <th id=\"T_2ea64_level0_row8\" class=\"row_heading level0 row8\" >8</th>\n",
              "      <td id=\"T_2ea64_row8_col0\" class=\"data row8 col0\" >Preprocess</td>\n",
              "      <td id=\"T_2ea64_row8_col1\" class=\"data row8 col1\" >True</td>\n",
              "    </tr>\n",
              "    <tr>\n",
              "      <th id=\"T_2ea64_level0_row9\" class=\"row_heading level0 row9\" >9</th>\n",
              "      <td id=\"T_2ea64_row9_col0\" class=\"data row9 col0\" >Imputation type</td>\n",
              "      <td id=\"T_2ea64_row9_col1\" class=\"data row9 col1\" >simple</td>\n",
              "    </tr>\n",
              "    <tr>\n",
              "      <th id=\"T_2ea64_level0_row10\" class=\"row_heading level0 row10\" >10</th>\n",
              "      <td id=\"T_2ea64_row10_col0\" class=\"data row10 col0\" >Numeric imputation</td>\n",
              "      <td id=\"T_2ea64_row10_col1\" class=\"data row10 col1\" >mean</td>\n",
              "    </tr>\n",
              "    <tr>\n",
              "      <th id=\"T_2ea64_level0_row11\" class=\"row_heading level0 row11\" >11</th>\n",
              "      <td id=\"T_2ea64_row11_col0\" class=\"data row11 col0\" >Categorical imputation</td>\n",
              "      <td id=\"T_2ea64_row11_col1\" class=\"data row11 col1\" >constant</td>\n",
              "    </tr>\n",
              "    <tr>\n",
              "      <th id=\"T_2ea64_level0_row12\" class=\"row_heading level0 row12\" >12</th>\n",
              "      <td id=\"T_2ea64_row12_col0\" class=\"data row12 col0\" >Remove multicollinearity</td>\n",
              "      <td id=\"T_2ea64_row12_col1\" class=\"data row12 col1\" >True</td>\n",
              "    </tr>\n",
              "    <tr>\n",
              "      <th id=\"T_2ea64_level0_row13\" class=\"row_heading level0 row13\" >13</th>\n",
              "      <td id=\"T_2ea64_row13_col0\" class=\"data row13 col0\" >Multicollinearity threshold</td>\n",
              "      <td id=\"T_2ea64_row13_col1\" class=\"data row13 col1\" >0.900000</td>\n",
              "    </tr>\n",
              "    <tr>\n",
              "      <th id=\"T_2ea64_level0_row14\" class=\"row_heading level0 row14\" >14</th>\n",
              "      <td id=\"T_2ea64_row14_col0\" class=\"data row14 col0\" >Fix imbalance</td>\n",
              "      <td id=\"T_2ea64_row14_col1\" class=\"data row14 col1\" >True</td>\n",
              "    </tr>\n",
              "    <tr>\n",
              "      <th id=\"T_2ea64_level0_row15\" class=\"row_heading level0 row15\" >15</th>\n",
              "      <td id=\"T_2ea64_row15_col0\" class=\"data row15 col0\" >Fix imbalance method</td>\n",
              "      <td id=\"T_2ea64_row15_col1\" class=\"data row15 col1\" >None</td>\n",
              "    </tr>\n",
              "    <tr>\n",
              "      <th id=\"T_2ea64_level0_row16\" class=\"row_heading level0 row16\" >16</th>\n",
              "      <td id=\"T_2ea64_row16_col0\" class=\"data row16 col0\" >Normalize</td>\n",
              "      <td id=\"T_2ea64_row16_col1\" class=\"data row16 col1\" >True</td>\n",
              "    </tr>\n",
              "    <tr>\n",
              "      <th id=\"T_2ea64_level0_row17\" class=\"row_heading level0 row17\" >17</th>\n",
              "      <td id=\"T_2ea64_row17_col0\" class=\"data row17 col0\" >Normalize method</td>\n",
              "      <td id=\"T_2ea64_row17_col1\" class=\"data row17 col1\" >zscore</td>\n",
              "    </tr>\n",
              "    <tr>\n",
              "      <th id=\"T_2ea64_level0_row18\" class=\"row_heading level0 row18\" >18</th>\n",
              "      <td id=\"T_2ea64_row18_col0\" class=\"data row18 col0\" >PCA</td>\n",
              "      <td id=\"T_2ea64_row18_col1\" class=\"data row18 col1\" >True</td>\n",
              "    </tr>\n",
              "    <tr>\n",
              "      <th id=\"T_2ea64_level0_row19\" class=\"row_heading level0 row19\" >19</th>\n",
              "      <td id=\"T_2ea64_row19_col0\" class=\"data row19 col0\" >PCA method</td>\n",
              "      <td id=\"T_2ea64_row19_col1\" class=\"data row19 col1\" >linear</td>\n",
              "    </tr>\n",
              "    <tr>\n",
              "      <th id=\"T_2ea64_level0_row20\" class=\"row_heading level0 row20\" >20</th>\n",
              "      <td id=\"T_2ea64_row20_col0\" class=\"data row20 col0\" >PCA components</td>\n",
              "      <td id=\"T_2ea64_row20_col1\" class=\"data row20 col1\" >0.900000</td>\n",
              "    </tr>\n",
              "    <tr>\n",
              "      <th id=\"T_2ea64_level0_row21\" class=\"row_heading level0 row21\" >21</th>\n",
              "      <td id=\"T_2ea64_row21_col0\" class=\"data row21 col0\" >Fold Generator</td>\n",
              "      <td id=\"T_2ea64_row21_col1\" class=\"data row21 col1\" >StratifiedKFold</td>\n",
              "    </tr>\n",
              "    <tr>\n",
              "      <th id=\"T_2ea64_level0_row22\" class=\"row_heading level0 row22\" >22</th>\n",
              "      <td id=\"T_2ea64_row22_col0\" class=\"data row22 col0\" >Fold Number</td>\n",
              "      <td id=\"T_2ea64_row22_col1\" class=\"data row22 col1\" >5</td>\n",
              "    </tr>\n",
              "    <tr>\n",
              "      <th id=\"T_2ea64_level0_row23\" class=\"row_heading level0 row23\" >23</th>\n",
              "      <td id=\"T_2ea64_row23_col0\" class=\"data row23 col0\" >CPU Jobs</td>\n",
              "      <td id=\"T_2ea64_row23_col1\" class=\"data row23 col1\" >-1</td>\n",
              "    </tr>\n",
              "    <tr>\n",
              "      <th id=\"T_2ea64_level0_row24\" class=\"row_heading level0 row24\" >24</th>\n",
              "      <td id=\"T_2ea64_row24_col0\" class=\"data row24 col0\" >Use GPU</td>\n",
              "      <td id=\"T_2ea64_row24_col1\" class=\"data row24 col1\" >False</td>\n",
              "    </tr>\n",
              "    <tr>\n",
              "      <th id=\"T_2ea64_level0_row25\" class=\"row_heading level0 row25\" >25</th>\n",
              "      <td id=\"T_2ea64_row25_col0\" class=\"data row25 col0\" >Log Experiment</td>\n",
              "      <td id=\"T_2ea64_row25_col1\" class=\"data row25 col1\" >False</td>\n",
              "    </tr>\n",
              "    <tr>\n",
              "      <th id=\"T_2ea64_level0_row26\" class=\"row_heading level0 row26\" >26</th>\n",
              "      <td id=\"T_2ea64_row26_col0\" class=\"data row26 col0\" >Experiment Name</td>\n",
              "      <td id=\"T_2ea64_row26_col1\" class=\"data row26 col1\" >Fire-extinguishing</td>\n",
              "    </tr>\n",
              "    <tr>\n",
              "      <th id=\"T_2ea64_level0_row27\" class=\"row_heading level0 row27\" >27</th>\n",
              "      <td id=\"T_2ea64_row27_col0\" class=\"data row27 col0\" >USI</td>\n",
              "      <td id=\"T_2ea64_row27_col1\" class=\"data row27 col1\" >18d3</td>\n",
              "    </tr>\n",
              "  </tbody>\n",
              "</table>\n"
            ]
          },
          "metadata": {}
        }
      ]
    },
    {
      "cell_type": "code",
      "source": [
        "models()"
      ],
      "metadata": {
        "colab": {
          "base_uri": "https://localhost:8080/",
          "height": 614
        },
        "id": "rADxlCMompRy",
        "outputId": "83c06d5f-c3e0-424a-a7a2-59c7b95bbc7b"
      },
      "id": "rADxlCMompRy",
      "execution_count": 81,
      "outputs": [
        {
          "output_type": "execute_result",
          "data": {
            "text/plain": [
              "                                     Name  \\\n",
              "ID                                          \n",
              "lr                    Logistic Regression   \n",
              "knn                K Neighbors Classifier   \n",
              "nb                            Naive Bayes   \n",
              "dt               Decision Tree Classifier   \n",
              "svm                   SVM - Linear Kernel   \n",
              "rbfsvm                SVM - Radial Kernel   \n",
              "gpc           Gaussian Process Classifier   \n",
              "mlp                        MLP Classifier   \n",
              "ridge                    Ridge Classifier   \n",
              "rf               Random Forest Classifier   \n",
              "qda       Quadratic Discriminant Analysis   \n",
              "ada                  Ada Boost Classifier   \n",
              "gbc          Gradient Boosting Classifier   \n",
              "lda          Linear Discriminant Analysis   \n",
              "et                 Extra Trees Classifier   \n",
              "lightgbm  Light Gradient Boosting Machine   \n",
              "dummy                    Dummy Classifier   \n",
              "\n",
              "                                                  Reference  Turbo  \n",
              "ID                                                                  \n",
              "lr        sklearn.linear_model._logistic.LogisticRegression   True  \n",
              "knn       sklearn.neighbors._classification.KNeighborsCl...   True  \n",
              "nb                           sklearn.naive_bayes.GaussianNB   True  \n",
              "dt             sklearn.tree._classes.DecisionTreeClassifier   True  \n",
              "svm       sklearn.linear_model._stochastic_gradient.SGDC...   True  \n",
              "rbfsvm                             sklearn.svm._classes.SVC  False  \n",
              "gpc       sklearn.gaussian_process._gpc.GaussianProcessC...  False  \n",
              "mlp       sklearn.neural_network._multilayer_perceptron....  False  \n",
              "ridge           sklearn.linear_model._ridge.RidgeClassifier   True  \n",
              "rf          sklearn.ensemble._forest.RandomForestClassifier   True  \n",
              "qda       sklearn.discriminant_analysis.QuadraticDiscrim...   True  \n",
              "ada       sklearn.ensemble._weight_boosting.AdaBoostClas...   True  \n",
              "gbc         sklearn.ensemble._gb.GradientBoostingClassifier   True  \n",
              "lda       sklearn.discriminant_analysis.LinearDiscrimina...   True  \n",
              "et            sklearn.ensemble._forest.ExtraTreesClassifier   True  \n",
              "lightgbm                    lightgbm.sklearn.LGBMClassifier   True  \n",
              "dummy                         sklearn.dummy.DummyClassifier   True  "
            ],
            "text/html": [
              "\n",
              "  <div id=\"df-c92f7ef3-c312-4395-8d3b-126ff93ef76e\">\n",
              "    <div class=\"colab-df-container\">\n",
              "      <div>\n",
              "<style scoped>\n",
              "    .dataframe tbody tr th:only-of-type {\n",
              "        vertical-align: middle;\n",
              "    }\n",
              "\n",
              "    .dataframe tbody tr th {\n",
              "        vertical-align: top;\n",
              "    }\n",
              "\n",
              "    .dataframe thead th {\n",
              "        text-align: right;\n",
              "    }\n",
              "</style>\n",
              "<table border=\"1\" class=\"dataframe\">\n",
              "  <thead>\n",
              "    <tr style=\"text-align: right;\">\n",
              "      <th></th>\n",
              "      <th>Name</th>\n",
              "      <th>Reference</th>\n",
              "      <th>Turbo</th>\n",
              "    </tr>\n",
              "    <tr>\n",
              "      <th>ID</th>\n",
              "      <th></th>\n",
              "      <th></th>\n",
              "      <th></th>\n",
              "    </tr>\n",
              "  </thead>\n",
              "  <tbody>\n",
              "    <tr>\n",
              "      <th>lr</th>\n",
              "      <td>Logistic Regression</td>\n",
              "      <td>sklearn.linear_model._logistic.LogisticRegression</td>\n",
              "      <td>True</td>\n",
              "    </tr>\n",
              "    <tr>\n",
              "      <th>knn</th>\n",
              "      <td>K Neighbors Classifier</td>\n",
              "      <td>sklearn.neighbors._classification.KNeighborsCl...</td>\n",
              "      <td>True</td>\n",
              "    </tr>\n",
              "    <tr>\n",
              "      <th>nb</th>\n",
              "      <td>Naive Bayes</td>\n",
              "      <td>sklearn.naive_bayes.GaussianNB</td>\n",
              "      <td>True</td>\n",
              "    </tr>\n",
              "    <tr>\n",
              "      <th>dt</th>\n",
              "      <td>Decision Tree Classifier</td>\n",
              "      <td>sklearn.tree._classes.DecisionTreeClassifier</td>\n",
              "      <td>True</td>\n",
              "    </tr>\n",
              "    <tr>\n",
              "      <th>svm</th>\n",
              "      <td>SVM - Linear Kernel</td>\n",
              "      <td>sklearn.linear_model._stochastic_gradient.SGDC...</td>\n",
              "      <td>True</td>\n",
              "    </tr>\n",
              "    <tr>\n",
              "      <th>rbfsvm</th>\n",
              "      <td>SVM - Radial Kernel</td>\n",
              "      <td>sklearn.svm._classes.SVC</td>\n",
              "      <td>False</td>\n",
              "    </tr>\n",
              "    <tr>\n",
              "      <th>gpc</th>\n",
              "      <td>Gaussian Process Classifier</td>\n",
              "      <td>sklearn.gaussian_process._gpc.GaussianProcessC...</td>\n",
              "      <td>False</td>\n",
              "    </tr>\n",
              "    <tr>\n",
              "      <th>mlp</th>\n",
              "      <td>MLP Classifier</td>\n",
              "      <td>sklearn.neural_network._multilayer_perceptron....</td>\n",
              "      <td>False</td>\n",
              "    </tr>\n",
              "    <tr>\n",
              "      <th>ridge</th>\n",
              "      <td>Ridge Classifier</td>\n",
              "      <td>sklearn.linear_model._ridge.RidgeClassifier</td>\n",
              "      <td>True</td>\n",
              "    </tr>\n",
              "    <tr>\n",
              "      <th>rf</th>\n",
              "      <td>Random Forest Classifier</td>\n",
              "      <td>sklearn.ensemble._forest.RandomForestClassifier</td>\n",
              "      <td>True</td>\n",
              "    </tr>\n",
              "    <tr>\n",
              "      <th>qda</th>\n",
              "      <td>Quadratic Discriminant Analysis</td>\n",
              "      <td>sklearn.discriminant_analysis.QuadraticDiscrim...</td>\n",
              "      <td>True</td>\n",
              "    </tr>\n",
              "    <tr>\n",
              "      <th>ada</th>\n",
              "      <td>Ada Boost Classifier</td>\n",
              "      <td>sklearn.ensemble._weight_boosting.AdaBoostClas...</td>\n",
              "      <td>True</td>\n",
              "    </tr>\n",
              "    <tr>\n",
              "      <th>gbc</th>\n",
              "      <td>Gradient Boosting Classifier</td>\n",
              "      <td>sklearn.ensemble._gb.GradientBoostingClassifier</td>\n",
              "      <td>True</td>\n",
              "    </tr>\n",
              "    <tr>\n",
              "      <th>lda</th>\n",
              "      <td>Linear Discriminant Analysis</td>\n",
              "      <td>sklearn.discriminant_analysis.LinearDiscrimina...</td>\n",
              "      <td>True</td>\n",
              "    </tr>\n",
              "    <tr>\n",
              "      <th>et</th>\n",
              "      <td>Extra Trees Classifier</td>\n",
              "      <td>sklearn.ensemble._forest.ExtraTreesClassifier</td>\n",
              "      <td>True</td>\n",
              "    </tr>\n",
              "    <tr>\n",
              "      <th>lightgbm</th>\n",
              "      <td>Light Gradient Boosting Machine</td>\n",
              "      <td>lightgbm.sklearn.LGBMClassifier</td>\n",
              "      <td>True</td>\n",
              "    </tr>\n",
              "    <tr>\n",
              "      <th>dummy</th>\n",
              "      <td>Dummy Classifier</td>\n",
              "      <td>sklearn.dummy.DummyClassifier</td>\n",
              "      <td>True</td>\n",
              "    </tr>\n",
              "  </tbody>\n",
              "</table>\n",
              "</div>\n",
              "      <button class=\"colab-df-convert\" onclick=\"convertToInteractive('df-c92f7ef3-c312-4395-8d3b-126ff93ef76e')\"\n",
              "              title=\"Convert this dataframe to an interactive table.\"\n",
              "              style=\"display:none;\">\n",
              "        \n",
              "  <svg xmlns=\"http://www.w3.org/2000/svg\" height=\"24px\"viewBox=\"0 0 24 24\"\n",
              "       width=\"24px\">\n",
              "    <path d=\"M0 0h24v24H0V0z\" fill=\"none\"/>\n",
              "    <path d=\"M18.56 5.44l.94 2.06.94-2.06 2.06-.94-2.06-.94-.94-2.06-.94 2.06-2.06.94zm-11 1L8.5 8.5l.94-2.06 2.06-.94-2.06-.94L8.5 2.5l-.94 2.06-2.06.94zm10 10l.94 2.06.94-2.06 2.06-.94-2.06-.94-.94-2.06-.94 2.06-2.06.94z\"/><path d=\"M17.41 7.96l-1.37-1.37c-.4-.4-.92-.59-1.43-.59-.52 0-1.04.2-1.43.59L10.3 9.45l-7.72 7.72c-.78.78-.78 2.05 0 2.83L4 21.41c.39.39.9.59 1.41.59.51 0 1.02-.2 1.41-.59l7.78-7.78 2.81-2.81c.8-.78.8-2.07 0-2.86zM5.41 20L4 18.59l7.72-7.72 1.47 1.35L5.41 20z\"/>\n",
              "  </svg>\n",
              "      </button>\n",
              "      \n",
              "  <style>\n",
              "    .colab-df-container {\n",
              "      display:flex;\n",
              "      flex-wrap:wrap;\n",
              "      gap: 12px;\n",
              "    }\n",
              "\n",
              "    .colab-df-convert {\n",
              "      background-color: #E8F0FE;\n",
              "      border: none;\n",
              "      border-radius: 50%;\n",
              "      cursor: pointer;\n",
              "      display: none;\n",
              "      fill: #1967D2;\n",
              "      height: 32px;\n",
              "      padding: 0 0 0 0;\n",
              "      width: 32px;\n",
              "    }\n",
              "\n",
              "    .colab-df-convert:hover {\n",
              "      background-color: #E2EBFA;\n",
              "      box-shadow: 0px 1px 2px rgba(60, 64, 67, 0.3), 0px 1px 3px 1px rgba(60, 64, 67, 0.15);\n",
              "      fill: #174EA6;\n",
              "    }\n",
              "\n",
              "    [theme=dark] .colab-df-convert {\n",
              "      background-color: #3B4455;\n",
              "      fill: #D2E3FC;\n",
              "    }\n",
              "\n",
              "    [theme=dark] .colab-df-convert:hover {\n",
              "      background-color: #434B5C;\n",
              "      box-shadow: 0px 1px 3px 1px rgba(0, 0, 0, 0.15);\n",
              "      filter: drop-shadow(0px 1px 2px rgba(0, 0, 0, 0.3));\n",
              "      fill: #FFFFFF;\n",
              "    }\n",
              "  </style>\n",
              "\n",
              "      <script>\n",
              "        const buttonEl =\n",
              "          document.querySelector('#df-c92f7ef3-c312-4395-8d3b-126ff93ef76e button.colab-df-convert');\n",
              "        buttonEl.style.display =\n",
              "          google.colab.kernel.accessAllowed ? 'block' : 'none';\n",
              "\n",
              "        async function convertToInteractive(key) {\n",
              "          const element = document.querySelector('#df-c92f7ef3-c312-4395-8d3b-126ff93ef76e');\n",
              "          const dataTable =\n",
              "            await google.colab.kernel.invokeFunction('convertToInteractive',\n",
              "                                                     [key], {});\n",
              "          if (!dataTable) return;\n",
              "\n",
              "          const docLinkHtml = 'Like what you see? Visit the ' +\n",
              "            '<a target=\"_blank\" href=https://colab.research.google.com/notebooks/data_table.ipynb>data table notebook</a>'\n",
              "            + ' to learn more about interactive tables.';\n",
              "          element.innerHTML = '';\n",
              "          dataTable['output_type'] = 'display_data';\n",
              "          await google.colab.output.renderOutput(dataTable, element);\n",
              "          const docLink = document.createElement('div');\n",
              "          docLink.innerHTML = docLinkHtml;\n",
              "          element.appendChild(docLink);\n",
              "        }\n",
              "      </script>\n",
              "    </div>\n",
              "  </div>\n",
              "  "
            ]
          },
          "metadata": {},
          "execution_count": 81
        }
      ]
    },
    {
      "cell_type": "code",
      "source": [
        "best_model = compare_models(\n",
        "    include=[\n",
        "        \"lr\",  # Logistic Regression\n",
        "        \"knn\",  # K-Nearest Neighbors\n",
        "        \"dt\",  # Decision Tree Classifier\n",
        "        \"svm\",  # SVM - Linear Kernel\n",
        "        \"rbfsvm\",  # SVM - Radial Kernel\n",
        "        \"rf\",  # Random Forest Classifier\n",
        "        # RandomForestClassifier(n_estimators=10, random_state=RANDOM_STATE),\n",
        "    ],\n",
        "    fold=5,\n",
        "    cross_validation=True,\n",
        ")"
      ],
      "metadata": {
        "colab": {
          "base_uri": "https://localhost:8080/",
          "height": 238,
          "referenced_widgets": [
            "eef495160c874574ad5421d93b9d6b5d",
            "f182d5ed409744f2ab9d1cad508e20bf",
            "6da55be9c1eb4f20800492639f783c08",
            "ff56618813be4917bcce3da5d1c15f13",
            "f09e6f84978c42859a139d82e12b5644",
            "3d845f53023a427ebaee62df6deb40b8",
            "3864460f51374e61a685549ec7cdc51a",
            "5a4071513bdd4a6a801d2dffd6591993",
            "c6a4567f8a8a4cf9b1ca56958e9141b9",
            "aef06f78a27d4cf5a1729a93f924197b",
            "852bd67059314cd68f7bd5d2eeca7593"
          ]
        },
        "id": "ypWkwGTmnVSw",
        "outputId": "d90aa287-07ec-4fbd-a4f4-fe7a76aa89b7"
      },
      "id": "ypWkwGTmnVSw",
      "execution_count": 82,
      "outputs": [
        {
          "output_type": "display_data",
          "data": {
            "text/plain": [
              "<IPython.core.display.HTML object>"
            ],
            "text/html": [
              ""
            ]
          },
          "metadata": {}
        },
        {
          "output_type": "display_data",
          "data": {
            "text/plain": [
              "<pandas.io.formats.style.Styler at 0x7f2894238610>"
            ],
            "text/html": [
              "<style type=\"text/css\">\n",
              "#T_bfd09_ th {\n",
              "  text-align: left;\n",
              "}\n",
              "#T_bfd09_row0_col0, #T_bfd09_row0_col2, #T_bfd09_row0_col3, #T_bfd09_row0_col5, #T_bfd09_row1_col0, #T_bfd09_row1_col4, #T_bfd09_row1_col6, #T_bfd09_row1_col7, #T_bfd09_row2_col0, #T_bfd09_row2_col1, #T_bfd09_row2_col2, #T_bfd09_row2_col3, #T_bfd09_row2_col4, #T_bfd09_row2_col5, #T_bfd09_row2_col6, #T_bfd09_row2_col7, #T_bfd09_row3_col0, #T_bfd09_row3_col1, #T_bfd09_row3_col2, #T_bfd09_row3_col3, #T_bfd09_row3_col4, #T_bfd09_row3_col5, #T_bfd09_row3_col6, #T_bfd09_row3_col7, #T_bfd09_row4_col0, #T_bfd09_row4_col1, #T_bfd09_row4_col2, #T_bfd09_row4_col3, #T_bfd09_row4_col4, #T_bfd09_row4_col5, #T_bfd09_row4_col6, #T_bfd09_row4_col7, #T_bfd09_row5_col0, #T_bfd09_row5_col1, #T_bfd09_row5_col2, #T_bfd09_row5_col3, #T_bfd09_row5_col4, #T_bfd09_row5_col5, #T_bfd09_row5_col6, #T_bfd09_row5_col7 {\n",
              "  text-align: left;\n",
              "}\n",
              "#T_bfd09_row0_col1, #T_bfd09_row0_col4, #T_bfd09_row0_col6, #T_bfd09_row0_col7, #T_bfd09_row1_col1, #T_bfd09_row1_col2, #T_bfd09_row1_col3, #T_bfd09_row1_col5 {\n",
              "  text-align: left;\n",
              "  background-color: yellow;\n",
              "}\n",
              "#T_bfd09_row0_col8, #T_bfd09_row1_col8, #T_bfd09_row2_col8, #T_bfd09_row3_col8, #T_bfd09_row5_col8 {\n",
              "  text-align: left;\n",
              "  background-color: lightgrey;\n",
              "}\n",
              "#T_bfd09_row4_col8 {\n",
              "  text-align: left;\n",
              "  background-color: yellow;\n",
              "  background-color: lightgrey;\n",
              "}\n",
              "</style>\n",
              "<table id=\"T_bfd09_\" class=\"dataframe\">\n",
              "  <thead>\n",
              "    <tr>\n",
              "      <th class=\"blank level0\" >&nbsp;</th>\n",
              "      <th class=\"col_heading level0 col0\" >Model</th>\n",
              "      <th class=\"col_heading level0 col1\" >Accuracy</th>\n",
              "      <th class=\"col_heading level0 col2\" >AUC</th>\n",
              "      <th class=\"col_heading level0 col3\" >Recall</th>\n",
              "      <th class=\"col_heading level0 col4\" >Prec.</th>\n",
              "      <th class=\"col_heading level0 col5\" >F1</th>\n",
              "      <th class=\"col_heading level0 col6\" >Kappa</th>\n",
              "      <th class=\"col_heading level0 col7\" >MCC</th>\n",
              "      <th class=\"col_heading level0 col8\" >TT (Sec)</th>\n",
              "    </tr>\n",
              "  </thead>\n",
              "  <tbody>\n",
              "    <tr>\n",
              "      <th id=\"T_bfd09_level0_row0\" class=\"row_heading level0 row0\" >rbfsvm</th>\n",
              "      <td id=\"T_bfd09_row0_col0\" class=\"data row0 col0\" >SVM - Radial Kernel</td>\n",
              "      <td id=\"T_bfd09_row0_col1\" class=\"data row0 col1\" >0.8111</td>\n",
              "      <td id=\"T_bfd09_row0_col2\" class=\"data row0 col2\" >0.8685</td>\n",
              "      <td id=\"T_bfd09_row0_col3\" class=\"data row0 col3\" >0.8261</td>\n",
              "      <td id=\"T_bfd09_row0_col4\" class=\"data row0 col4\" >0.8567</td>\n",
              "      <td id=\"T_bfd09_row0_col5\" class=\"data row0 col5\" >0.8400</td>\n",
              "      <td id=\"T_bfd09_row0_col6\" class=\"data row0 col6\" >0.6093</td>\n",
              "      <td id=\"T_bfd09_row0_col7\" class=\"data row0 col7\" >0.6121</td>\n",
              "      <td id=\"T_bfd09_row0_col8\" class=\"data row0 col8\" >0.2100</td>\n",
              "    </tr>\n",
              "    <tr>\n",
              "      <th id=\"T_bfd09_level0_row1\" class=\"row_heading level0 row1\" >rf</th>\n",
              "      <td id=\"T_bfd09_row1_col0\" class=\"data row1 col0\" >Random Forest Classifier</td>\n",
              "      <td id=\"T_bfd09_row1_col1\" class=\"data row1 col1\" >0.8111</td>\n",
              "      <td id=\"T_bfd09_row1_col2\" class=\"data row1 col2\" >0.8846</td>\n",
              "      <td id=\"T_bfd09_row1_col3\" class=\"data row1 col3\" >0.8356</td>\n",
              "      <td id=\"T_bfd09_row1_col4\" class=\"data row1 col4\" >0.8494</td>\n",
              "      <td id=\"T_bfd09_row1_col5\" class=\"data row1 col5\" >0.8415</td>\n",
              "      <td id=\"T_bfd09_row1_col6\" class=\"data row1 col6\" >0.6076</td>\n",
              "      <td id=\"T_bfd09_row1_col7\" class=\"data row1 col7\" >0.6096</td>\n",
              "      <td id=\"T_bfd09_row1_col8\" class=\"data row1 col8\" >0.3820</td>\n",
              "    </tr>\n",
              "    <tr>\n",
              "      <th id=\"T_bfd09_level0_row2\" class=\"row_heading level0 row2\" >knn</th>\n",
              "      <td id=\"T_bfd09_row2_col0\" class=\"data row2 col0\" >K Neighbors Classifier</td>\n",
              "      <td id=\"T_bfd09_row2_col1\" class=\"data row2 col1\" >0.7977</td>\n",
              "      <td id=\"T_bfd09_row2_col2\" class=\"data row2 col2\" >0.8545</td>\n",
              "      <td id=\"T_bfd09_row2_col3\" class=\"data row2 col3\" >0.8290</td>\n",
              "      <td id=\"T_bfd09_row2_col4\" class=\"data row2 col4\" >0.8373</td>\n",
              "      <td id=\"T_bfd09_row2_col5\" class=\"data row2 col5\" >0.8312</td>\n",
              "      <td id=\"T_bfd09_row2_col6\" class=\"data row2 col6\" >0.5780</td>\n",
              "      <td id=\"T_bfd09_row2_col7\" class=\"data row2 col7\" >0.5817</td>\n",
              "      <td id=\"T_bfd09_row2_col8\" class=\"data row2 col8\" >0.2280</td>\n",
              "    </tr>\n",
              "    <tr>\n",
              "      <th id=\"T_bfd09_level0_row3\" class=\"row_heading level0 row3\" >lr</th>\n",
              "      <td id=\"T_bfd09_row3_col0\" class=\"data row3 col0\" >Logistic Regression</td>\n",
              "      <td id=\"T_bfd09_row3_col1\" class=\"data row3 col1\" >0.7843</td>\n",
              "      <td id=\"T_bfd09_row3_col2\" class=\"data row3 col2\" >0.8827</td>\n",
              "      <td id=\"T_bfd09_row3_col3\" class=\"data row3 col3\" >0.7817</td>\n",
              "      <td id=\"T_bfd09_row3_col4\" class=\"data row3 col4\" >0.8502</td>\n",
              "      <td id=\"T_bfd09_row3_col5\" class=\"data row3 col5\" >0.8139</td>\n",
              "      <td id=\"T_bfd09_row3_col6\" class=\"data row3 col6\" >0.5583</td>\n",
              "      <td id=\"T_bfd09_row3_col7\" class=\"data row3 col7\" >0.5622</td>\n",
              "      <td id=\"T_bfd09_row3_col8\" class=\"data row3 col8\" >0.1220</td>\n",
              "    </tr>\n",
              "    <tr>\n",
              "      <th id=\"T_bfd09_level0_row4\" class=\"row_heading level0 row4\" >svm</th>\n",
              "      <td id=\"T_bfd09_row4_col0\" class=\"data row4 col0\" >SVM - Linear Kernel</td>\n",
              "      <td id=\"T_bfd09_row4_col1\" class=\"data row4 col1\" >0.7672</td>\n",
              "      <td id=\"T_bfd09_row4_col2\" class=\"data row4 col2\" >0.0000</td>\n",
              "      <td id=\"T_bfd09_row4_col3\" class=\"data row4 col3\" >0.8102</td>\n",
              "      <td id=\"T_bfd09_row4_col4\" class=\"data row4 col4\" >0.8060</td>\n",
              "      <td id=\"T_bfd09_row4_col5\" class=\"data row4 col5\" >0.8056</td>\n",
              "      <td id=\"T_bfd09_row4_col6\" class=\"data row4 col6\" >0.5145</td>\n",
              "      <td id=\"T_bfd09_row4_col7\" class=\"data row4 col7\" >0.5210</td>\n",
              "      <td id=\"T_bfd09_row4_col8\" class=\"data row4 col8\" >0.0880</td>\n",
              "    </tr>\n",
              "    <tr>\n",
              "      <th id=\"T_bfd09_level0_row5\" class=\"row_heading level0 row5\" >dt</th>\n",
              "      <td id=\"T_bfd09_row5_col0\" class=\"data row5 col0\" >Decision Tree Classifier</td>\n",
              "      <td id=\"T_bfd09_row5_col1\" class=\"data row5 col1\" >0.7196</td>\n",
              "      <td id=\"T_bfd09_row5_col2\" class=\"data row5 col2\" >0.7167</td>\n",
              "      <td id=\"T_bfd09_row5_col3\" class=\"data row5 col3\" >0.7311</td>\n",
              "      <td id=\"T_bfd09_row5_col4\" class=\"data row5 col4\" >0.7926</td>\n",
              "      <td id=\"T_bfd09_row5_col5\" class=\"data row5 col5\" >0.7581</td>\n",
              "      <td id=\"T_bfd09_row5_col6\" class=\"data row5 col6\" >0.4245</td>\n",
              "      <td id=\"T_bfd09_row5_col7\" class=\"data row5 col7\" >0.4296</td>\n",
              "      <td id=\"T_bfd09_row5_col8\" class=\"data row5 col8\" >0.1280</td>\n",
              "    </tr>\n",
              "  </tbody>\n",
              "</table>\n"
            ]
          },
          "metadata": {}
        },
        {
          "output_type": "display_data",
          "data": {
            "text/plain": [
              "Processing:   0%|          | 0/29 [00:00<?, ?it/s]"
            ],
            "application/vnd.jupyter.widget-view+json": {
              "version_major": 2,
              "version_minor": 0,
              "model_id": "eef495160c874574ad5421d93b9d6b5d"
            }
          },
          "metadata": {
            "application/vnd.jupyter.widget-view+json": {
              "colab": {
                "custom_widget_manager": {
                  "url": "https://ssl.gstatic.com/colaboratory-static/widgets/colab-cdn-widget-manager/a8874ba6619b6106/manager.min.js"
                }
              }
            }
          }
        },
        {
          "output_type": "display_data",
          "data": {
            "text/plain": [
              "<IPython.core.display.HTML object>"
            ],
            "text/html": [
              ""
            ]
          },
          "metadata": {}
        }
      ]
    },
    {
      "cell_type": "code",
      "source": [
        "rf = create_model ('rf')"
      ],
      "metadata": {
        "id": "CuRYG3eWncCQ",
        "colab": {
          "base_uri": "https://localhost:8080/",
          "height": 300,
          "referenced_widgets": [
            "b1d31c292dde49f9a2fa26acc9eee7a6",
            "57cfaab060314dacaaa9efc4da50c2ff",
            "9d615ac3ff2b4fe4b41e3ad041646dfe",
            "72fe803a795e4534bc734c6168069421",
            "8d3c52c2f5734b708dde06134adde441",
            "ff68c58721774f4a89bc2624d9d96c2c",
            "1d46692ee0484e8a892333248c98f8e0",
            "9701ac1be3a7455aa7294cbeb0dcc0cc",
            "a20667f813954117b763307246029cf5",
            "d4012d320d054aeca448635f5b72406b",
            "611066eaf18d45dbbbd79f9bb968312b"
          ]
        },
        "outputId": "20c8b429-221b-47ab-f818-322059cc7436"
      },
      "id": "CuRYG3eWncCQ",
      "execution_count": 83,
      "outputs": [
        {
          "output_type": "display_data",
          "data": {
            "text/plain": [
              "<IPython.core.display.HTML object>"
            ],
            "text/html": [
              ""
            ]
          },
          "metadata": {}
        },
        {
          "output_type": "display_data",
          "data": {
            "text/plain": [
              "<pandas.io.formats.style.Styler at 0x7f2855494ad0>"
            ],
            "text/html": [
              "<style type=\"text/css\">\n",
              "#T_ca2f0_row5_col0, #T_ca2f0_row5_col1, #T_ca2f0_row5_col2, #T_ca2f0_row5_col3, #T_ca2f0_row5_col4, #T_ca2f0_row5_col5, #T_ca2f0_row5_col6 {\n",
              "  background: yellow;\n",
              "}\n",
              "</style>\n",
              "<table id=\"T_ca2f0_\" class=\"dataframe\">\n",
              "  <thead>\n",
              "    <tr>\n",
              "      <th class=\"blank level0\" >&nbsp;</th>\n",
              "      <th class=\"col_heading level0 col0\" >Accuracy</th>\n",
              "      <th class=\"col_heading level0 col1\" >AUC</th>\n",
              "      <th class=\"col_heading level0 col2\" >Recall</th>\n",
              "      <th class=\"col_heading level0 col3\" >Prec.</th>\n",
              "      <th class=\"col_heading level0 col4\" >F1</th>\n",
              "      <th class=\"col_heading level0 col5\" >Kappa</th>\n",
              "      <th class=\"col_heading level0 col6\" >MCC</th>\n",
              "    </tr>\n",
              "    <tr>\n",
              "      <th class=\"index_name level0\" >Fold</th>\n",
              "      <th class=\"blank col0\" >&nbsp;</th>\n",
              "      <th class=\"blank col1\" >&nbsp;</th>\n",
              "      <th class=\"blank col2\" >&nbsp;</th>\n",
              "      <th class=\"blank col3\" >&nbsp;</th>\n",
              "      <th class=\"blank col4\" >&nbsp;</th>\n",
              "      <th class=\"blank col5\" >&nbsp;</th>\n",
              "      <th class=\"blank col6\" >&nbsp;</th>\n",
              "    </tr>\n",
              "  </thead>\n",
              "  <tbody>\n",
              "    <tr>\n",
              "      <th id=\"T_ca2f0_level0_row0\" class=\"row_heading level0 row0\" >0</th>\n",
              "      <td id=\"T_ca2f0_row0_col0\" class=\"data row0 col0\" >0.8381</td>\n",
              "      <td id=\"T_ca2f0_row0_col1\" class=\"data row0 col1\" >0.8690</td>\n",
              "      <td id=\"T_ca2f0_row0_col2\" class=\"data row0 col2\" >0.8889</td>\n",
              "      <td id=\"T_ca2f0_row0_col3\" class=\"data row0 col3\" >0.8485</td>\n",
              "      <td id=\"T_ca2f0_row0_col4\" class=\"data row0 col4\" >0.8682</td>\n",
              "      <td id=\"T_ca2f0_row0_col5\" class=\"data row0 col5\" >0.6586</td>\n",
              "      <td id=\"T_ca2f0_row0_col6\" class=\"data row0 col6\" >0.6598</td>\n",
              "    </tr>\n",
              "    <tr>\n",
              "      <th id=\"T_ca2f0_level0_row1\" class=\"row_heading level0 row1\" >1</th>\n",
              "      <td id=\"T_ca2f0_row1_col0\" class=\"data row1 col0\" >0.7810</td>\n",
              "      <td id=\"T_ca2f0_row1_col1\" class=\"data row1 col1\" >0.8696</td>\n",
              "      <td id=\"T_ca2f0_row1_col2\" class=\"data row1 col2\" >0.7619</td>\n",
              "      <td id=\"T_ca2f0_row1_col3\" class=\"data row1 col3\" >0.8571</td>\n",
              "      <td id=\"T_ca2f0_row1_col4\" class=\"data row1 col4\" >0.8067</td>\n",
              "      <td id=\"T_ca2f0_row1_col5\" class=\"data row1 col5\" >0.5560</td>\n",
              "      <td id=\"T_ca2f0_row1_col6\" class=\"data row1 col6\" >0.5611</td>\n",
              "    </tr>\n",
              "    <tr>\n",
              "      <th id=\"T_ca2f0_level0_row2\" class=\"row_heading level0 row2\" >2</th>\n",
              "      <td id=\"T_ca2f0_row2_col0\" class=\"data row2 col0\" >0.8190</td>\n",
              "      <td id=\"T_ca2f0_row2_col1\" class=\"data row2 col1\" >0.8944</td>\n",
              "      <td id=\"T_ca2f0_row2_col2\" class=\"data row2 col2\" >0.8730</td>\n",
              "      <td id=\"T_ca2f0_row2_col3\" class=\"data row2 col3\" >0.8333</td>\n",
              "      <td id=\"T_ca2f0_row2_col4\" class=\"data row2 col4\" >0.8527</td>\n",
              "      <td id=\"T_ca2f0_row2_col5\" class=\"data row2 col5\" >0.6185</td>\n",
              "      <td id=\"T_ca2f0_row2_col6\" class=\"data row2 col6\" >0.6196</td>\n",
              "    </tr>\n",
              "    <tr>\n",
              "      <th id=\"T_ca2f0_level0_row3\" class=\"row_heading level0 row3\" >3</th>\n",
              "      <td id=\"T_ca2f0_row3_col0\" class=\"data row3 col0\" >0.8000</td>\n",
              "      <td id=\"T_ca2f0_row3_col1\" class=\"data row3 col1\" >0.8918</td>\n",
              "      <td id=\"T_ca2f0_row3_col2\" class=\"data row3 col2\" >0.7969</td>\n",
              "      <td id=\"T_ca2f0_row3_col3\" class=\"data row3 col3\" >0.8644</td>\n",
              "      <td id=\"T_ca2f0_row3_col4\" class=\"data row3 col4\" >0.8293</td>\n",
              "      <td id=\"T_ca2f0_row3_col5\" class=\"data row3 col5\" >0.5888</td>\n",
              "      <td id=\"T_ca2f0_row3_col6\" class=\"data row3 col6\" >0.5917</td>\n",
              "    </tr>\n",
              "    <tr>\n",
              "      <th id=\"T_ca2f0_level0_row4\" class=\"row_heading level0 row4\" >4</th>\n",
              "      <td id=\"T_ca2f0_row4_col0\" class=\"data row4 col0\" >0.8173</td>\n",
              "      <td id=\"T_ca2f0_row4_col1\" class=\"data row4 col1\" >0.8984</td>\n",
              "      <td id=\"T_ca2f0_row4_col2\" class=\"data row4 col2\" >0.8571</td>\n",
              "      <td id=\"T_ca2f0_row4_col3\" class=\"data row4 col3\" >0.8438</td>\n",
              "      <td id=\"T_ca2f0_row4_col4\" class=\"data row4 col4\" >0.8504</td>\n",
              "      <td id=\"T_ca2f0_row4_col5\" class=\"data row4 col5\" >0.6159</td>\n",
              "      <td id=\"T_ca2f0_row4_col6\" class=\"data row4 col6\" >0.6160</td>\n",
              "    </tr>\n",
              "    <tr>\n",
              "      <th id=\"T_ca2f0_level0_row5\" class=\"row_heading level0 row5\" >Mean</th>\n",
              "      <td id=\"T_ca2f0_row5_col0\" class=\"data row5 col0\" >0.8111</td>\n",
              "      <td id=\"T_ca2f0_row5_col1\" class=\"data row5 col1\" >0.8846</td>\n",
              "      <td id=\"T_ca2f0_row5_col2\" class=\"data row5 col2\" >0.8356</td>\n",
              "      <td id=\"T_ca2f0_row5_col3\" class=\"data row5 col3\" >0.8494</td>\n",
              "      <td id=\"T_ca2f0_row5_col4\" class=\"data row5 col4\" >0.8415</td>\n",
              "      <td id=\"T_ca2f0_row5_col5\" class=\"data row5 col5\" >0.6076</td>\n",
              "      <td id=\"T_ca2f0_row5_col6\" class=\"data row5 col6\" >0.6096</td>\n",
              "    </tr>\n",
              "    <tr>\n",
              "      <th id=\"T_ca2f0_level0_row6\" class=\"row_heading level0 row6\" >Std</th>\n",
              "      <td id=\"T_ca2f0_row6_col0\" class=\"data row6 col0\" >0.0193</td>\n",
              "      <td id=\"T_ca2f0_row6_col1\" class=\"data row6 col1\" >0.0127</td>\n",
              "      <td id=\"T_ca2f0_row6_col2\" class=\"data row6 col2\" >0.0482</td>\n",
              "      <td id=\"T_ca2f0_row6_col3\" class=\"data row6 col3\" >0.0107</td>\n",
              "      <td id=\"T_ca2f0_row6_col4\" class=\"data row6 col4\" >0.0213</td>\n",
              "      <td id=\"T_ca2f0_row6_col5\" class=\"data row6 col5\" >0.0341</td>\n",
              "      <td id=\"T_ca2f0_row6_col6\" class=\"data row6 col6\" >0.0327</td>\n",
              "    </tr>\n",
              "  </tbody>\n",
              "</table>\n"
            ]
          },
          "metadata": {}
        },
        {
          "output_type": "display_data",
          "data": {
            "text/plain": [
              "Processing:   0%|          | 0/4 [00:00<?, ?it/s]"
            ],
            "application/vnd.jupyter.widget-view+json": {
              "version_major": 2,
              "version_minor": 0,
              "model_id": "b1d31c292dde49f9a2fa26acc9eee7a6"
            }
          },
          "metadata": {
            "application/vnd.jupyter.widget-view+json": {
              "colab": {
                "custom_widget_manager": {
                  "url": "https://ssl.gstatic.com/colaboratory-static/widgets/colab-cdn-widget-manager/a8874ba6619b6106/manager.min.js"
                }
              }
            }
          }
        },
        {
          "output_type": "display_data",
          "data": {
            "text/plain": [
              "<IPython.core.display.HTML object>"
            ],
            "text/html": [
              ""
            ]
          },
          "metadata": {}
        }
      ]
    },
    {
      "cell_type": "code",
      "source": [
        ""
      ],
      "metadata": {
        "id": "cGGvtEr5REyv"
      },
      "id": "cGGvtEr5REyv",
      "execution_count": 87,
      "outputs": []
    },
    {
      "cell_type": "code",
      "source": [
        ""
      ],
      "metadata": {
        "id": "pp1PzUsORSjf"
      },
      "id": "pp1PzUsORSjf",
      "execution_count": null,
      "outputs": []
    }
  ],
  "metadata": {
    "kernelspec": {
      "display_name": "Python 3 (ipykernel)",
      "language": "python",
      "name": "python3"
    },
    "language_info": {
      "codemirror_mode": {
        "name": "ipython",
        "version": 3
      },
      "file_extension": ".py",
      "mimetype": "text/x-python",
      "name": "python",
      "nbconvert_exporter": "python",
      "pygments_lexer": "ipython3",
      "version": "3.9.5"
    },
    "colab": {
      "name": "3b_4_b.ipynb",
      "provenance": [],
      "collapsed_sections": []
    },
    "widgets": {
      "application/vnd.jupyter.widget-state+json": {
        "eef495160c874574ad5421d93b9d6b5d": {
          "model_module": "@jupyter-widgets/controls",
          "model_name": "HBoxModel",
          "model_module_version": "1.5.0",
          "state": {
            "_dom_classes": [],
            "_model_module": "@jupyter-widgets/controls",
            "_model_module_version": "1.5.0",
            "_model_name": "HBoxModel",
            "_view_count": null,
            "_view_module": "@jupyter-widgets/controls",
            "_view_module_version": "1.5.0",
            "_view_name": "HBoxView",
            "box_style": "",
            "children": [
              "IPY_MODEL_f182d5ed409744f2ab9d1cad508e20bf",
              "IPY_MODEL_6da55be9c1eb4f20800492639f783c08",
              "IPY_MODEL_ff56618813be4917bcce3da5d1c15f13"
            ],
            "layout": "IPY_MODEL_f09e6f84978c42859a139d82e12b5644"
          }
        },
        "f182d5ed409744f2ab9d1cad508e20bf": {
          "model_module": "@jupyter-widgets/controls",
          "model_name": "HTMLModel",
          "model_module_version": "1.5.0",
          "state": {
            "_dom_classes": [],
            "_model_module": "@jupyter-widgets/controls",
            "_model_module_version": "1.5.0",
            "_model_name": "HTMLModel",
            "_view_count": null,
            "_view_module": "@jupyter-widgets/controls",
            "_view_module_version": "1.5.0",
            "_view_name": "HTMLView",
            "description": "",
            "description_tooltip": null,
            "layout": "IPY_MODEL_3d845f53023a427ebaee62df6deb40b8",
            "placeholder": "​",
            "style": "IPY_MODEL_3864460f51374e61a685549ec7cdc51a",
            "value": "Processing: 100%"
          }
        },
        "6da55be9c1eb4f20800492639f783c08": {
          "model_module": "@jupyter-widgets/controls",
          "model_name": "FloatProgressModel",
          "model_module_version": "1.5.0",
          "state": {
            "_dom_classes": [],
            "_model_module": "@jupyter-widgets/controls",
            "_model_module_version": "1.5.0",
            "_model_name": "FloatProgressModel",
            "_view_count": null,
            "_view_module": "@jupyter-widgets/controls",
            "_view_module_version": "1.5.0",
            "_view_name": "ProgressView",
            "bar_style": "",
            "description": "",
            "description_tooltip": null,
            "layout": "IPY_MODEL_5a4071513bdd4a6a801d2dffd6591993",
            "max": 29,
            "min": 0,
            "orientation": "horizontal",
            "style": "IPY_MODEL_c6a4567f8a8a4cf9b1ca56958e9141b9",
            "value": 29
          }
        },
        "ff56618813be4917bcce3da5d1c15f13": {
          "model_module": "@jupyter-widgets/controls",
          "model_name": "HTMLModel",
          "model_module_version": "1.5.0",
          "state": {
            "_dom_classes": [],
            "_model_module": "@jupyter-widgets/controls",
            "_model_module_version": "1.5.0",
            "_model_name": "HTMLModel",
            "_view_count": null,
            "_view_module": "@jupyter-widgets/controls",
            "_view_module_version": "1.5.0",
            "_view_name": "HTMLView",
            "description": "",
            "description_tooltip": null,
            "layout": "IPY_MODEL_aef06f78a27d4cf5a1729a93f924197b",
            "placeholder": "​",
            "style": "IPY_MODEL_852bd67059314cd68f7bd5d2eeca7593",
            "value": " 29/29 [00:08&lt;00:00,  3.42it/s]"
          }
        },
        "f09e6f84978c42859a139d82e12b5644": {
          "model_module": "@jupyter-widgets/base",
          "model_name": "LayoutModel",
          "model_module_version": "1.2.0",
          "state": {
            "_model_module": "@jupyter-widgets/base",
            "_model_module_version": "1.2.0",
            "_model_name": "LayoutModel",
            "_view_count": null,
            "_view_module": "@jupyter-widgets/base",
            "_view_module_version": "1.2.0",
            "_view_name": "LayoutView",
            "align_content": null,
            "align_items": null,
            "align_self": null,
            "border": null,
            "bottom": null,
            "display": null,
            "flex": null,
            "flex_flow": null,
            "grid_area": null,
            "grid_auto_columns": null,
            "grid_auto_flow": null,
            "grid_auto_rows": null,
            "grid_column": null,
            "grid_gap": null,
            "grid_row": null,
            "grid_template_areas": null,
            "grid_template_columns": null,
            "grid_template_rows": null,
            "height": null,
            "justify_content": null,
            "justify_items": null,
            "left": null,
            "margin": null,
            "max_height": null,
            "max_width": null,
            "min_height": null,
            "min_width": null,
            "object_fit": null,
            "object_position": null,
            "order": null,
            "overflow": null,
            "overflow_x": null,
            "overflow_y": null,
            "padding": null,
            "right": null,
            "top": null,
            "visibility": null,
            "width": null
          }
        },
        "3d845f53023a427ebaee62df6deb40b8": {
          "model_module": "@jupyter-widgets/base",
          "model_name": "LayoutModel",
          "model_module_version": "1.2.0",
          "state": {
            "_model_module": "@jupyter-widgets/base",
            "_model_module_version": "1.2.0",
            "_model_name": "LayoutModel",
            "_view_count": null,
            "_view_module": "@jupyter-widgets/base",
            "_view_module_version": "1.2.0",
            "_view_name": "LayoutView",
            "align_content": null,
            "align_items": null,
            "align_self": null,
            "border": null,
            "bottom": null,
            "display": null,
            "flex": null,
            "flex_flow": null,
            "grid_area": null,
            "grid_auto_columns": null,
            "grid_auto_flow": null,
            "grid_auto_rows": null,
            "grid_column": null,
            "grid_gap": null,
            "grid_row": null,
            "grid_template_areas": null,
            "grid_template_columns": null,
            "grid_template_rows": null,
            "height": null,
            "justify_content": null,
            "justify_items": null,
            "left": null,
            "margin": null,
            "max_height": null,
            "max_width": null,
            "min_height": null,
            "min_width": null,
            "object_fit": null,
            "object_position": null,
            "order": null,
            "overflow": null,
            "overflow_x": null,
            "overflow_y": null,
            "padding": null,
            "right": null,
            "top": null,
            "visibility": null,
            "width": null
          }
        },
        "3864460f51374e61a685549ec7cdc51a": {
          "model_module": "@jupyter-widgets/controls",
          "model_name": "DescriptionStyleModel",
          "model_module_version": "1.5.0",
          "state": {
            "_model_module": "@jupyter-widgets/controls",
            "_model_module_version": "1.5.0",
            "_model_name": "DescriptionStyleModel",
            "_view_count": null,
            "_view_module": "@jupyter-widgets/base",
            "_view_module_version": "1.2.0",
            "_view_name": "StyleView",
            "description_width": ""
          }
        },
        "5a4071513bdd4a6a801d2dffd6591993": {
          "model_module": "@jupyter-widgets/base",
          "model_name": "LayoutModel",
          "model_module_version": "1.2.0",
          "state": {
            "_model_module": "@jupyter-widgets/base",
            "_model_module_version": "1.2.0",
            "_model_name": "LayoutModel",
            "_view_count": null,
            "_view_module": "@jupyter-widgets/base",
            "_view_module_version": "1.2.0",
            "_view_name": "LayoutView",
            "align_content": null,
            "align_items": null,
            "align_self": null,
            "border": null,
            "bottom": null,
            "display": null,
            "flex": null,
            "flex_flow": null,
            "grid_area": null,
            "grid_auto_columns": null,
            "grid_auto_flow": null,
            "grid_auto_rows": null,
            "grid_column": null,
            "grid_gap": null,
            "grid_row": null,
            "grid_template_areas": null,
            "grid_template_columns": null,
            "grid_template_rows": null,
            "height": null,
            "justify_content": null,
            "justify_items": null,
            "left": null,
            "margin": null,
            "max_height": null,
            "max_width": null,
            "min_height": null,
            "min_width": null,
            "object_fit": null,
            "object_position": null,
            "order": null,
            "overflow": null,
            "overflow_x": null,
            "overflow_y": null,
            "padding": null,
            "right": null,
            "top": null,
            "visibility": null,
            "width": null
          }
        },
        "c6a4567f8a8a4cf9b1ca56958e9141b9": {
          "model_module": "@jupyter-widgets/controls",
          "model_name": "ProgressStyleModel",
          "model_module_version": "1.5.0",
          "state": {
            "_model_module": "@jupyter-widgets/controls",
            "_model_module_version": "1.5.0",
            "_model_name": "ProgressStyleModel",
            "_view_count": null,
            "_view_module": "@jupyter-widgets/base",
            "_view_module_version": "1.2.0",
            "_view_name": "StyleView",
            "bar_color": null,
            "description_width": ""
          }
        },
        "aef06f78a27d4cf5a1729a93f924197b": {
          "model_module": "@jupyter-widgets/base",
          "model_name": "LayoutModel",
          "model_module_version": "1.2.0",
          "state": {
            "_model_module": "@jupyter-widgets/base",
            "_model_module_version": "1.2.0",
            "_model_name": "LayoutModel",
            "_view_count": null,
            "_view_module": "@jupyter-widgets/base",
            "_view_module_version": "1.2.0",
            "_view_name": "LayoutView",
            "align_content": null,
            "align_items": null,
            "align_self": null,
            "border": null,
            "bottom": null,
            "display": null,
            "flex": null,
            "flex_flow": null,
            "grid_area": null,
            "grid_auto_columns": null,
            "grid_auto_flow": null,
            "grid_auto_rows": null,
            "grid_column": null,
            "grid_gap": null,
            "grid_row": null,
            "grid_template_areas": null,
            "grid_template_columns": null,
            "grid_template_rows": null,
            "height": null,
            "justify_content": null,
            "justify_items": null,
            "left": null,
            "margin": null,
            "max_height": null,
            "max_width": null,
            "min_height": null,
            "min_width": null,
            "object_fit": null,
            "object_position": null,
            "order": null,
            "overflow": null,
            "overflow_x": null,
            "overflow_y": null,
            "padding": null,
            "right": null,
            "top": null,
            "visibility": null,
            "width": null
          }
        },
        "852bd67059314cd68f7bd5d2eeca7593": {
          "model_module": "@jupyter-widgets/controls",
          "model_name": "DescriptionStyleModel",
          "model_module_version": "1.5.0",
          "state": {
            "_model_module": "@jupyter-widgets/controls",
            "_model_module_version": "1.5.0",
            "_model_name": "DescriptionStyleModel",
            "_view_count": null,
            "_view_module": "@jupyter-widgets/base",
            "_view_module_version": "1.2.0",
            "_view_name": "StyleView",
            "description_width": ""
          }
        },
        "b1d31c292dde49f9a2fa26acc9eee7a6": {
          "model_module": "@jupyter-widgets/controls",
          "model_name": "HBoxModel",
          "model_module_version": "1.5.0",
          "state": {
            "_dom_classes": [],
            "_model_module": "@jupyter-widgets/controls",
            "_model_module_version": "1.5.0",
            "_model_name": "HBoxModel",
            "_view_count": null,
            "_view_module": "@jupyter-widgets/controls",
            "_view_module_version": "1.5.0",
            "_view_name": "HBoxView",
            "box_style": "",
            "children": [
              "IPY_MODEL_57cfaab060314dacaaa9efc4da50c2ff",
              "IPY_MODEL_9d615ac3ff2b4fe4b41e3ad041646dfe",
              "IPY_MODEL_72fe803a795e4534bc734c6168069421"
            ],
            "layout": "IPY_MODEL_8d3c52c2f5734b708dde06134adde441"
          }
        },
        "57cfaab060314dacaaa9efc4da50c2ff": {
          "model_module": "@jupyter-widgets/controls",
          "model_name": "HTMLModel",
          "model_module_version": "1.5.0",
          "state": {
            "_dom_classes": [],
            "_model_module": "@jupyter-widgets/controls",
            "_model_module_version": "1.5.0",
            "_model_name": "HTMLModel",
            "_view_count": null,
            "_view_module": "@jupyter-widgets/controls",
            "_view_module_version": "1.5.0",
            "_view_name": "HTMLView",
            "description": "",
            "description_tooltip": null,
            "layout": "IPY_MODEL_ff68c58721774f4a89bc2624d9d96c2c",
            "placeholder": "​",
            "style": "IPY_MODEL_1d46692ee0484e8a892333248c98f8e0",
            "value": "Processing: 100%"
          }
        },
        "9d615ac3ff2b4fe4b41e3ad041646dfe": {
          "model_module": "@jupyter-widgets/controls",
          "model_name": "FloatProgressModel",
          "model_module_version": "1.5.0",
          "state": {
            "_dom_classes": [],
            "_model_module": "@jupyter-widgets/controls",
            "_model_module_version": "1.5.0",
            "_model_name": "FloatProgressModel",
            "_view_count": null,
            "_view_module": "@jupyter-widgets/controls",
            "_view_module_version": "1.5.0",
            "_view_name": "ProgressView",
            "bar_style": "",
            "description": "",
            "description_tooltip": null,
            "layout": "IPY_MODEL_9701ac1be3a7455aa7294cbeb0dcc0cc",
            "max": 4,
            "min": 0,
            "orientation": "horizontal",
            "style": "IPY_MODEL_a20667f813954117b763307246029cf5",
            "value": 4
          }
        },
        "72fe803a795e4534bc734c6168069421": {
          "model_module": "@jupyter-widgets/controls",
          "model_name": "HTMLModel",
          "model_module_version": "1.5.0",
          "state": {
            "_dom_classes": [],
            "_model_module": "@jupyter-widgets/controls",
            "_model_module_version": "1.5.0",
            "_model_name": "HTMLModel",
            "_view_count": null,
            "_view_module": "@jupyter-widgets/controls",
            "_view_module_version": "1.5.0",
            "_view_name": "HTMLView",
            "description": "",
            "description_tooltip": null,
            "layout": "IPY_MODEL_d4012d320d054aeca448635f5b72406b",
            "placeholder": "​",
            "style": "IPY_MODEL_611066eaf18d45dbbbd79f9bb968312b",
            "value": " 4/4 [00:02&lt;00:00,  1.70it/s]"
          }
        },
        "8d3c52c2f5734b708dde06134adde441": {
          "model_module": "@jupyter-widgets/base",
          "model_name": "LayoutModel",
          "model_module_version": "1.2.0",
          "state": {
            "_model_module": "@jupyter-widgets/base",
            "_model_module_version": "1.2.0",
            "_model_name": "LayoutModel",
            "_view_count": null,
            "_view_module": "@jupyter-widgets/base",
            "_view_module_version": "1.2.0",
            "_view_name": "LayoutView",
            "align_content": null,
            "align_items": null,
            "align_self": null,
            "border": null,
            "bottom": null,
            "display": null,
            "flex": null,
            "flex_flow": null,
            "grid_area": null,
            "grid_auto_columns": null,
            "grid_auto_flow": null,
            "grid_auto_rows": null,
            "grid_column": null,
            "grid_gap": null,
            "grid_row": null,
            "grid_template_areas": null,
            "grid_template_columns": null,
            "grid_template_rows": null,
            "height": null,
            "justify_content": null,
            "justify_items": null,
            "left": null,
            "margin": null,
            "max_height": null,
            "max_width": null,
            "min_height": null,
            "min_width": null,
            "object_fit": null,
            "object_position": null,
            "order": null,
            "overflow": null,
            "overflow_x": null,
            "overflow_y": null,
            "padding": null,
            "right": null,
            "top": null,
            "visibility": null,
            "width": null
          }
        },
        "ff68c58721774f4a89bc2624d9d96c2c": {
          "model_module": "@jupyter-widgets/base",
          "model_name": "LayoutModel",
          "model_module_version": "1.2.0",
          "state": {
            "_model_module": "@jupyter-widgets/base",
            "_model_module_version": "1.2.0",
            "_model_name": "LayoutModel",
            "_view_count": null,
            "_view_module": "@jupyter-widgets/base",
            "_view_module_version": "1.2.0",
            "_view_name": "LayoutView",
            "align_content": null,
            "align_items": null,
            "align_self": null,
            "border": null,
            "bottom": null,
            "display": null,
            "flex": null,
            "flex_flow": null,
            "grid_area": null,
            "grid_auto_columns": null,
            "grid_auto_flow": null,
            "grid_auto_rows": null,
            "grid_column": null,
            "grid_gap": null,
            "grid_row": null,
            "grid_template_areas": null,
            "grid_template_columns": null,
            "grid_template_rows": null,
            "height": null,
            "justify_content": null,
            "justify_items": null,
            "left": null,
            "margin": null,
            "max_height": null,
            "max_width": null,
            "min_height": null,
            "min_width": null,
            "object_fit": null,
            "object_position": null,
            "order": null,
            "overflow": null,
            "overflow_x": null,
            "overflow_y": null,
            "padding": null,
            "right": null,
            "top": null,
            "visibility": null,
            "width": null
          }
        },
        "1d46692ee0484e8a892333248c98f8e0": {
          "model_module": "@jupyter-widgets/controls",
          "model_name": "DescriptionStyleModel",
          "model_module_version": "1.5.0",
          "state": {
            "_model_module": "@jupyter-widgets/controls",
            "_model_module_version": "1.5.0",
            "_model_name": "DescriptionStyleModel",
            "_view_count": null,
            "_view_module": "@jupyter-widgets/base",
            "_view_module_version": "1.2.0",
            "_view_name": "StyleView",
            "description_width": ""
          }
        },
        "9701ac1be3a7455aa7294cbeb0dcc0cc": {
          "model_module": "@jupyter-widgets/base",
          "model_name": "LayoutModel",
          "model_module_version": "1.2.0",
          "state": {
            "_model_module": "@jupyter-widgets/base",
            "_model_module_version": "1.2.0",
            "_model_name": "LayoutModel",
            "_view_count": null,
            "_view_module": "@jupyter-widgets/base",
            "_view_module_version": "1.2.0",
            "_view_name": "LayoutView",
            "align_content": null,
            "align_items": null,
            "align_self": null,
            "border": null,
            "bottom": null,
            "display": null,
            "flex": null,
            "flex_flow": null,
            "grid_area": null,
            "grid_auto_columns": null,
            "grid_auto_flow": null,
            "grid_auto_rows": null,
            "grid_column": null,
            "grid_gap": null,
            "grid_row": null,
            "grid_template_areas": null,
            "grid_template_columns": null,
            "grid_template_rows": null,
            "height": null,
            "justify_content": null,
            "justify_items": null,
            "left": null,
            "margin": null,
            "max_height": null,
            "max_width": null,
            "min_height": null,
            "min_width": null,
            "object_fit": null,
            "object_position": null,
            "order": null,
            "overflow": null,
            "overflow_x": null,
            "overflow_y": null,
            "padding": null,
            "right": null,
            "top": null,
            "visibility": null,
            "width": null
          }
        },
        "a20667f813954117b763307246029cf5": {
          "model_module": "@jupyter-widgets/controls",
          "model_name": "ProgressStyleModel",
          "model_module_version": "1.5.0",
          "state": {
            "_model_module": "@jupyter-widgets/controls",
            "_model_module_version": "1.5.0",
            "_model_name": "ProgressStyleModel",
            "_view_count": null,
            "_view_module": "@jupyter-widgets/base",
            "_view_module_version": "1.2.0",
            "_view_name": "StyleView",
            "bar_color": null,
            "description_width": ""
          }
        },
        "d4012d320d054aeca448635f5b72406b": {
          "model_module": "@jupyter-widgets/base",
          "model_name": "LayoutModel",
          "model_module_version": "1.2.0",
          "state": {
            "_model_module": "@jupyter-widgets/base",
            "_model_module_version": "1.2.0",
            "_model_name": "LayoutModel",
            "_view_count": null,
            "_view_module": "@jupyter-widgets/base",
            "_view_module_version": "1.2.0",
            "_view_name": "LayoutView",
            "align_content": null,
            "align_items": null,
            "align_self": null,
            "border": null,
            "bottom": null,
            "display": null,
            "flex": null,
            "flex_flow": null,
            "grid_area": null,
            "grid_auto_columns": null,
            "grid_auto_flow": null,
            "grid_auto_rows": null,
            "grid_column": null,
            "grid_gap": null,
            "grid_row": null,
            "grid_template_areas": null,
            "grid_template_columns": null,
            "grid_template_rows": null,
            "height": null,
            "justify_content": null,
            "justify_items": null,
            "left": null,
            "margin": null,
            "max_height": null,
            "max_width": null,
            "min_height": null,
            "min_width": null,
            "object_fit": null,
            "object_position": null,
            "order": null,
            "overflow": null,
            "overflow_x": null,
            "overflow_y": null,
            "padding": null,
            "right": null,
            "top": null,
            "visibility": null,
            "width": null
          }
        },
        "611066eaf18d45dbbbd79f9bb968312b": {
          "model_module": "@jupyter-widgets/controls",
          "model_name": "DescriptionStyleModel",
          "model_module_version": "1.5.0",
          "state": {
            "_model_module": "@jupyter-widgets/controls",
            "_model_module_version": "1.5.0",
            "_model_name": "DescriptionStyleModel",
            "_view_count": null,
            "_view_module": "@jupyter-widgets/base",
            "_view_module_version": "1.2.0",
            "_view_name": "StyleView",
            "description_width": ""
          }
        }
      }
    }
  },
  "nbformat": 4,
  "nbformat_minor": 5
}